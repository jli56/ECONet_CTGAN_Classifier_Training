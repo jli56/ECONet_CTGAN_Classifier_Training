{
 "cells": [
  {
   "cell_type": "code",
   "execution_count": 1,
   "metadata": {},
   "outputs": [],
   "source": [
    "import numpy as np\n",
    "import pandas as pd \n",
    "import matplotlib.pyplot as plt\n",
    "import seaborn as sns\n",
    "from sklearn.model_selection import train_test_split\n",
    "from sklearn.utils import shuffle"
   ]
  },
  {
   "cell_type": "code",
   "execution_count": 2,
   "metadata": {},
   "outputs": [
    {
     "data": {
      "text/html": [
       "<div>\n",
       "<style scoped>\n",
       "    .dataframe tbody tr th:only-of-type {\n",
       "        vertical-align: middle;\n",
       "    }\n",
       "\n",
       "    .dataframe tbody tr th {\n",
       "        vertical-align: top;\n",
       "    }\n",
       "\n",
       "    .dataframe thead th {\n",
       "        text-align: right;\n",
       "    }\n",
       "</style>\n",
       "<table border=\"1\" class=\"dataframe\">\n",
       "  <thead>\n",
       "    <tr style=\"text-align: right;\">\n",
       "      <th></th>\n",
       "      <th>Station</th>\n",
       "      <th>Ob</th>\n",
       "      <th>value</th>\n",
       "      <th>measure</th>\n",
       "      <th>target</th>\n",
       "      <th>R_flag</th>\n",
       "      <th>I_flag</th>\n",
       "      <th>Z_flag</th>\n",
       "      <th>B_flag</th>\n",
       "    </tr>\n",
       "  </thead>\n",
       "  <tbody>\n",
       "    <tr>\n",
       "      <th>4283021</th>\n",
       "      <td>PLYM</td>\n",
       "      <td>3/14/2021 3:31</td>\n",
       "      <td>0.214</td>\n",
       "      <td>sm</td>\n",
       "      <td>0</td>\n",
       "      <td>0</td>\n",
       "      <td>-1</td>\n",
       "      <td>-1</td>\n",
       "      <td>2</td>\n",
       "    </tr>\n",
       "    <tr>\n",
       "      <th>3645135</th>\n",
       "      <td>MITC</td>\n",
       "      <td>9/17/2021 20:36</td>\n",
       "      <td>0.900</td>\n",
       "      <td>ws02</td>\n",
       "      <td>0</td>\n",
       "      <td>0</td>\n",
       "      <td>0</td>\n",
       "      <td>0</td>\n",
       "      <td>-1</td>\n",
       "    </tr>\n",
       "    <tr>\n",
       "      <th>3335632</th>\n",
       "      <td>LILE</td>\n",
       "      <td>11/13/2021 9:19</td>\n",
       "      <td>754.000</td>\n",
       "      <td>par</td>\n",
       "      <td>0</td>\n",
       "      <td>3</td>\n",
       "      <td>0</td>\n",
       "      <td>-1</td>\n",
       "      <td>-1</td>\n",
       "    </tr>\n",
       "    <tr>\n",
       "      <th>2151033</th>\n",
       "      <td>FLET</td>\n",
       "      <td>5/12/2021 3:53</td>\n",
       "      <td>0.417</td>\n",
       "      <td>sm</td>\n",
       "      <td>0</td>\n",
       "      <td>0</td>\n",
       "      <td>-1</td>\n",
       "      <td>-1</td>\n",
       "      <td>1</td>\n",
       "    </tr>\n",
       "    <tr>\n",
       "      <th>6233259</th>\n",
       "      <td>WINE</td>\n",
       "      <td>10/23/2021 5:42</td>\n",
       "      <td>16.700</td>\n",
       "      <td>rh_wxt</td>\n",
       "      <td>0</td>\n",
       "      <td>0</td>\n",
       "      <td>-1</td>\n",
       "      <td>0</td>\n",
       "      <td>2</td>\n",
       "    </tr>\n",
       "  </tbody>\n",
       "</table>\n",
       "</div>"
      ],
      "text/plain": [
       "        Station               Ob    value measure  target  R_flag  I_flag  \\\n",
       "4283021    PLYM   3/14/2021 3:31    0.214      sm       0       0      -1   \n",
       "3645135    MITC  9/17/2021 20:36    0.900    ws02       0       0       0   \n",
       "3335632    LILE  11/13/2021 9:19  754.000     par       0       3       0   \n",
       "2151033    FLET   5/12/2021 3:53    0.417      sm       0       0      -1   \n",
       "6233259    WINE  10/23/2021 5:42   16.700  rh_wxt       0       0      -1   \n",
       "\n",
       "         Z_flag  B_flag  \n",
       "4283021      -1       2  \n",
       "3645135       0      -1  \n",
       "3335632      -1      -1  \n",
       "2151033      -1       1  \n",
       "6233259       0       2  "
      ]
     },
     "execution_count": 2,
     "metadata": {},
     "output_type": "execute_result"
    }
   ],
   "source": [
    "train = pd.read_csv(\"./train.csv\")\n",
    "train[\"target\"] = train[\"target\"].astype(int)\n",
    "train = shuffle(train)\n",
    "train.head()"
   ]
  },
  {
   "cell_type": "code",
   "execution_count": 3,
   "metadata": {},
   "outputs": [
    {
     "data": {
      "text/plain": [
       "<bound method DataFrame.info of         Station               Ob    value measure  target  R_flag  I_flag  \\\n",
       "4283021    PLYM   3/14/2021 3:31    0.214      sm       0       0      -1   \n",
       "3645135    MITC  9/17/2021 20:36    0.900    ws02       0       0       0   \n",
       "3335632    LILE  11/13/2021 9:19  754.000     par       0       3       0   \n",
       "2151033    FLET   5/12/2021 3:53    0.417      sm       0       0      -1   \n",
       "6233259    WINE  10/23/2021 5:42   16.700  rh_wxt       0       0      -1   \n",
       "...         ...              ...      ...     ...     ...     ...     ...   \n",
       "3961611    NEWL  2/12/2021 14:28    0.660      sm       1       0      -1   \n",
       "2549071    FRYI   12/5/2021 5:16    0.232      sm       0       0      -1   \n",
       "5330234    SPIN   2/9/2021 16:13  287.200      sr       0       1       0   \n",
       "3259670    LEWS  6/20/2021 12:46  119.100     par       0       3       0   \n",
       "5839276    UNCA   8/27/2021 5:54    0.000    ws02       0       0      -1   \n",
       "\n",
       "         Z_flag  B_flag  \n",
       "4283021      -1       2  \n",
       "3645135       0      -1  \n",
       "3335632      -1      -1  \n",
       "2151033      -1       1  \n",
       "6233259       0       2  \n",
       "...         ...     ...  \n",
       "3961611      -1       0  \n",
       "2549071      -1       1  \n",
       "5330234      -1      -1  \n",
       "3259670      -1      -1  \n",
       "5839276       2      -1  \n",
       "\n",
       "[6593274 rows x 9 columns]>"
      ]
     },
     "execution_count": 3,
     "metadata": {},
     "output_type": "execute_result"
    }
   ],
   "source": [
    "train.info"
   ]
  },
  {
   "cell_type": "code",
   "execution_count": 4,
   "metadata": {},
   "outputs": [
    {
     "data": {
      "text/html": [
       "<div>\n",
       "<style scoped>\n",
       "    .dataframe tbody tr th:only-of-type {\n",
       "        vertical-align: middle;\n",
       "    }\n",
       "\n",
       "    .dataframe tbody tr th {\n",
       "        vertical-align: top;\n",
       "    }\n",
       "\n",
       "    .dataframe thead th {\n",
       "        text-align: right;\n",
       "    }\n",
       "</style>\n",
       "<table border=\"1\" class=\"dataframe\">\n",
       "  <thead>\n",
       "    <tr style=\"text-align: right;\">\n",
       "      <th></th>\n",
       "      <th>Unnamed: 0</th>\n",
       "      <th>Station</th>\n",
       "      <th>Ob</th>\n",
       "      <th>value</th>\n",
       "      <th>measure</th>\n",
       "      <th>target</th>\n",
       "      <th>R_flag</th>\n",
       "      <th>I_flag</th>\n",
       "      <th>Z_flag</th>\n",
       "      <th>B_flag</th>\n",
       "    </tr>\n",
       "  </thead>\n",
       "  <tbody>\n",
       "    <tr>\n",
       "      <th>550298</th>\n",
       "      <td>10298</td>\n",
       "      <td>REID</td>\n",
       "      <td>2/12/2021 4:59</td>\n",
       "      <td>82.759243</td>\n",
       "      <td>temp_wxt</td>\n",
       "      <td>1</td>\n",
       "      <td>0</td>\n",
       "      <td>-1</td>\n",
       "      <td>-1</td>\n",
       "      <td>-1</td>\n",
       "    </tr>\n",
       "    <tr>\n",
       "      <th>223628</th>\n",
       "      <td>13628</td>\n",
       "      <td>SPRU</td>\n",
       "      <td>3/8/2021 11:09</td>\n",
       "      <td>11.399484</td>\n",
       "      <td>ws02</td>\n",
       "      <td>1</td>\n",
       "      <td>0</td>\n",
       "      <td>0</td>\n",
       "      <td>2</td>\n",
       "      <td>-1</td>\n",
       "    </tr>\n",
       "    <tr>\n",
       "      <th>409386</th>\n",
       "      <td>19386</td>\n",
       "      <td>MITC</td>\n",
       "      <td>2/9/2021 2:19</td>\n",
       "      <td>934.826178</td>\n",
       "      <td>ws02</td>\n",
       "      <td>1</td>\n",
       "      <td>1</td>\n",
       "      <td>-1</td>\n",
       "      <td>0</td>\n",
       "      <td>-1</td>\n",
       "    </tr>\n",
       "    <tr>\n",
       "      <th>289980</th>\n",
       "      <td>19980</td>\n",
       "      <td>SASS</td>\n",
       "      <td>4/6/2021 11:03</td>\n",
       "      <td>9.850779</td>\n",
       "      <td>temp10</td>\n",
       "      <td>1</td>\n",
       "      <td>0</td>\n",
       "      <td>-1</td>\n",
       "      <td>-1</td>\n",
       "      <td>-1</td>\n",
       "    </tr>\n",
       "    <tr>\n",
       "      <th>613673</th>\n",
       "      <td>13673</td>\n",
       "      <td>SASS</td>\n",
       "      <td>1/29/2021 23:06</td>\n",
       "      <td>14.174534</td>\n",
       "      <td>temp10</td>\n",
       "      <td>1</td>\n",
       "      <td>0</td>\n",
       "      <td>-1</td>\n",
       "      <td>0</td>\n",
       "      <td>-1</td>\n",
       "    </tr>\n",
       "  </tbody>\n",
       "</table>\n",
       "</div>"
      ],
      "text/plain": [
       "        Unnamed: 0 Station               Ob       value   measure  target  \\\n",
       "550298       10298    REID   2/12/2021 4:59   82.759243  temp_wxt       1   \n",
       "223628       13628    SPRU   3/8/2021 11:09   11.399484      ws02       1   \n",
       "409386       19386    MITC    2/9/2021 2:19  934.826178      ws02       1   \n",
       "289980       19980    SASS   4/6/2021 11:03    9.850779    temp10       1   \n",
       "613673       13673    SASS  1/29/2021 23:06   14.174534    temp10       1   \n",
       "\n",
       "        R_flag  I_flag  Z_flag  B_flag  \n",
       "550298       0      -1      -1      -1  \n",
       "223628       0       0       2      -1  \n",
       "409386       1      -1       0      -1  \n",
       "289980       0      -1      -1      -1  \n",
       "613673       0      -1       0      -1  "
      ]
     },
     "execution_count": 4,
     "metadata": {},
     "output_type": "execute_result"
    }
   ],
   "source": [
    "synthetic_true = pd.read_csv(\"./Synthetic_true_complete.csv\")\n",
    "synthetic_true[\"target\"] = synthetic_true[\"target\"].astype(int)\n",
    "synthetic_true = shuffle(synthetic_true)\n",
    "\n",
    "synthetic_true.head()"
   ]
  },
  {
   "cell_type": "code",
   "execution_count": 5,
   "metadata": {},
   "outputs": [],
   "source": [
    "synthetic_true = synthetic_true.drop(columns=['Unnamed: 0'])"
   ]
  },
  {
   "cell_type": "code",
   "execution_count": 6,
   "metadata": {},
   "outputs": [
    {
     "data": {
      "text/html": [
       "<div>\n",
       "<style scoped>\n",
       "    .dataframe tbody tr th:only-of-type {\n",
       "        vertical-align: middle;\n",
       "    }\n",
       "\n",
       "    .dataframe tbody tr th {\n",
       "        vertical-align: top;\n",
       "    }\n",
       "\n",
       "    .dataframe thead th {\n",
       "        text-align: right;\n",
       "    }\n",
       "</style>\n",
       "<table border=\"1\" class=\"dataframe\">\n",
       "  <thead>\n",
       "    <tr style=\"text-align: right;\">\n",
       "      <th></th>\n",
       "      <th>value</th>\n",
       "      <th>R_flag</th>\n",
       "      <th>I_flag</th>\n",
       "      <th>Z_flag</th>\n",
       "      <th>B_flag</th>\n",
       "    </tr>\n",
       "  </thead>\n",
       "  <tbody>\n",
       "    <tr>\n",
       "      <th>value</th>\n",
       "      <td>1.000000</td>\n",
       "      <td>0.333934</td>\n",
       "      <td>0.247016</td>\n",
       "      <td>-0.041498</td>\n",
       "      <td>-0.344395</td>\n",
       "    </tr>\n",
       "    <tr>\n",
       "      <th>R_flag</th>\n",
       "      <td>0.333934</td>\n",
       "      <td>1.000000</td>\n",
       "      <td>0.071795</td>\n",
       "      <td>-0.131722</td>\n",
       "      <td>-0.420809</td>\n",
       "    </tr>\n",
       "    <tr>\n",
       "      <th>I_flag</th>\n",
       "      <td>0.247016</td>\n",
       "      <td>0.071795</td>\n",
       "      <td>1.000000</td>\n",
       "      <td>0.220663</td>\n",
       "      <td>-0.576011</td>\n",
       "    </tr>\n",
       "    <tr>\n",
       "      <th>Z_flag</th>\n",
       "      <td>-0.041498</td>\n",
       "      <td>-0.131722</td>\n",
       "      <td>0.220663</td>\n",
       "      <td>1.000000</td>\n",
       "      <td>-0.336325</td>\n",
       "    </tr>\n",
       "    <tr>\n",
       "      <th>B_flag</th>\n",
       "      <td>-0.344395</td>\n",
       "      <td>-0.420809</td>\n",
       "      <td>-0.576011</td>\n",
       "      <td>-0.336325</td>\n",
       "      <td>1.000000</td>\n",
       "    </tr>\n",
       "  </tbody>\n",
       "</table>\n",
       "</div>"
      ],
      "text/plain": [
       "           value    R_flag    I_flag    Z_flag    B_flag\n",
       "value   1.000000  0.333934  0.247016 -0.041498 -0.344395\n",
       "R_flag  0.333934  1.000000  0.071795 -0.131722 -0.420809\n",
       "I_flag  0.247016  0.071795  1.000000  0.220663 -0.576011\n",
       "Z_flag -0.041498 -0.131722  0.220663  1.000000 -0.336325\n",
       "B_flag -0.344395 -0.420809 -0.576011 -0.336325  1.000000"
      ]
     },
     "execution_count": 6,
     "metadata": {},
     "output_type": "execute_result"
    }
   ],
   "source": [
    "# Correlation Plot\n",
    "corr_score = train[['value', 'R_flag', 'I_flag', 'Z_flag','B_flag']].corr()\n",
    "corr_score"
   ]
  },
  {
   "cell_type": "code",
   "execution_count": 7,
   "metadata": {},
   "outputs": [
    {
     "data": {
      "text/plain": [
       "<AxesSubplot:xlabel='target', ylabel='count'>"
      ]
     },
     "execution_count": 7,
     "metadata": {},
     "output_type": "execute_result"
    },
    {
     "data": {
      "image/png": "[encoded data removed]",
      "text/plain": [
       "<Figure size 720x720 with 1 Axes>"
      ]
     },
     "metadata": {
      "needs_background": "light"
     },
     "output_type": "display_data"
    }
   ],
   "source": [
    "# Categorial Feature\n",
    "_,axss = plt.subplots(figsize=[10,10])\n",
    "sns.countplot(x='target', hue='measure', data=train)\n"
   ]
  },
  {
   "cell_type": "code",
   "execution_count": 8,
   "metadata": {},
   "outputs": [
    {
     "data": {
      "text/plain": [
       "<AxesSubplot:xlabel='target', ylabel='count'>"
      ]
     },
     "execution_count": 8,
     "metadata": {},
     "output_type": "execute_result"
    },
    {
     "data": {
      "image/png": "[encoded data removed]",
      "text/plain": [
       "<Figure size 432x288 with 1 Axes>"
      ]
     },
     "metadata": {
      "needs_background": "light"
     },
     "output_type": "display_data"
    }
   ],
   "source": [
    "sns.countplot(x='target', hue='Station', data=train)\n"
   ]
  },
  {
   "cell_type": "code",
   "execution_count": 9,
   "metadata": {},
   "outputs": [],
   "source": [
    "y_train = train.iloc[:, 4]\n",
    "y_synthetic_true = synthetic_true.iloc[:, 4]"
   ]
  },
  {
   "cell_type": "code",
   "execution_count": 10,
   "metadata": {
    "scrolled": true
   },
   "outputs": [
    {
     "data": {
      "text/plain": [
       "550298    1\n",
       "223628    1\n",
       "409386    1\n",
       "289980    1\n",
       "613673    1\n",
       "         ..\n",
       "570506    1\n",
       "132973    1\n",
       "591813    1\n",
       "24287     1\n",
       "18310     1\n",
       "Name: target, Length: 630000, dtype: int64"
      ]
     },
     "execution_count": 10,
     "metadata": {},
     "output_type": "execute_result"
    }
   ],
   "source": [
    "y_synthetic_true"
   ]
  },
  {
   "cell_type": "code",
   "execution_count": 11,
   "metadata": {},
   "outputs": [],
   "source": [
    "# drop target and Ob\n",
    "drop_target=['target', 'Ob']\n",
    "X_train = train.drop(drop_target, axis=1)\n",
    "x_synthetic_true = synthetic_true.drop(drop_target, axis=1)"
   ]
  },
  {
   "cell_type": "code",
   "execution_count": 12,
   "metadata": {},
   "outputs": [
    {
     "data": {
      "text/plain": [
       "Station     object\n",
       "value      float64\n",
       "measure     object\n",
       "R_flag       int64\n",
       "I_flag       int64\n",
       "Z_flag       int64\n",
       "B_flag       int64\n",
       "dtype: object"
      ]
     },
     "execution_count": 12,
     "metadata": {},
     "output_type": "execute_result"
    }
   ],
   "source": [
    "# Split categorical var and numerical var\n",
    "X_train.dtypes"
   ]
  },
  {
   "cell_type": "code",
   "execution_count": 13,
   "metadata": {},
   "outputs": [
    {
     "data": {
      "text/plain": [
       "Station     object\n",
       "value      float64\n",
       "measure     object\n",
       "R_flag       int64\n",
       "I_flag       int64\n",
       "Z_flag       int64\n",
       "B_flag       int64\n",
       "dtype: object"
      ]
     },
     "execution_count": 13,
     "metadata": {},
     "output_type": "execute_result"
    }
   ],
   "source": [
    "x_synthetic_true.dtypes"
   ]
  },
  {
   "cell_type": "code",
   "execution_count": 14,
   "metadata": {},
   "outputs": [],
   "source": [
    "cat_cols = X_train.columns[X_train.dtypes == 'O']\n",
    "num_cols = X_train.columns[(X_train.dtypes == 'float64') | (X_train.dtypes == 'int64')]"
   ]
  },
  {
   "cell_type": "code",
   "execution_count": 15,
   "metadata": {},
   "outputs": [
    {
     "name": "stdout",
     "output_type": "stream",
     "text": [
      "Requirement already satisfied: imbalanced-learn in /Users/zijunlu/opt/anaconda3/lib/python3.8/site-packages (0.9.0)\n",
      "Requirement already satisfied: numpy>=1.14.6 in /Users/zijunlu/opt/anaconda3/lib/python3.8/site-packages (from imbalanced-learn) (1.22.3)\n",
      "Requirement already satisfied: joblib>=0.11 in /Users/zijunlu/opt/anaconda3/lib/python3.8/site-packages (from imbalanced-learn) (0.17.0)\n",
      "Requirement already satisfied: scikit-learn>=1.0.1 in /Users/zijunlu/opt/anaconda3/lib/python3.8/site-packages (from imbalanced-learn) (1.0.2)\n",
      "Requirement already satisfied: scipy>=1.1.0 in /Users/zijunlu/opt/anaconda3/lib/python3.8/site-packages (from imbalanced-learn) (1.5.2)\n",
      "Requirement already satisfied: threadpoolctl>=2.0.0 in /Users/zijunlu/opt/anaconda3/lib/python3.8/site-packages (from imbalanced-learn) (2.1.0)\n"
     ]
    }
   ],
   "source": [
    "!pip install imbalanced-learn\n"
   ]
  },
  {
   "cell_type": "code",
   "execution_count": 16,
   "metadata": {},
   "outputs": [
    {
     "name": "stdout",
     "output_type": "stream",
     "text": [
      "0.9.0\n"
     ]
    }
   ],
   "source": [
    "import imblearn\n",
    "print(imblearn.__version__)"
   ]
  },
  {
   "cell_type": "code",
   "execution_count": 17,
   "metadata": {},
   "outputs": [
    {
     "name": "stdout",
     "output_type": "stream",
     "text": [
      "Counter({0: 6358102, 1: 235172})\n",
      "Counter({0: 864602, 1: 235172})\n"
     ]
    }
   ],
   "source": [
    "# random undersampling to balance the class distribution\n",
    "from collections import Counter\n",
    "from imblearn.under_sampling import RandomUnderSampler\n",
    "# summarize class distribution\n",
    "print(Counter(y_train))\n",
    "# define undersample strategy\n",
    "undersample = RandomUnderSampler(sampling_strategy=0.272)\n",
    "# fit and apply the transform\n",
    "X_over, y_over = undersample.fit_resample(X_train, y_train)\n",
    "# summarize class distribution\n",
    "print(Counter(y_over))"
   ]
  },
  {
   "cell_type": "code",
   "execution_count": 18,
   "metadata": {},
   "outputs": [
    {
     "name": "stdout",
     "output_type": "stream",
     "text": [
      "<class 'pandas.core.frame.DataFrame'>\n",
      "Int64Index: 1729774 entries, 0 to 18310\n",
      "Data columns (total 7 columns):\n",
      " #   Column   Dtype  \n",
      "---  ------   -----  \n",
      " 0   Station  object \n",
      " 1   value    float64\n",
      " 2   measure  object \n",
      " 3   R_flag   int64  \n",
      " 4   I_flag   int64  \n",
      " 5   Z_flag   int64  \n",
      " 6   B_flag   int64  \n",
      "dtypes: float64(1), int64(4), object(2)\n",
      "memory usage: 105.6+ MB\n"
     ]
    }
   ],
   "source": [
    "# combine undersample data with synthetic true\n",
    "X = pd.concat([X_over, x_synthetic_true])\n",
    "X.info()"
   ]
  },
  {
   "cell_type": "code",
   "execution_count": 19,
   "metadata": {},
   "outputs": [
    {
     "name": "stdout",
     "output_type": "stream",
     "text": [
      "Counter({1: 865172, 0: 864602})\n"
     ]
    }
   ],
   "source": [
    "# Verify the numbers of true class and false class. We have roughtly 1:1 ratio\n",
    "y = pd.concat([y_over, y_synthetic_true])\n",
    "print(Counter(y))"
   ]
  },
  {
   "cell_type": "code",
   "execution_count": 20,
   "metadata": {},
   "outputs": [],
   "source": [
    "cat_cols = X_train.columns[X_train.dtypes == 'O']\n",
    "num_cols = X_train.columns[(X_train.dtypes == 'float64') | (X_train.dtypes == 'int64')]"
   ]
  },
  {
   "cell_type": "code",
   "execution_count": 21,
   "metadata": {},
   "outputs": [
    {
     "name": "stdout",
     "output_type": "stream",
     "text": [
      "training data has 1037864 observation with 7 features\n",
      "test data has 691910 observation with 7 features\n"
     ]
    }
   ],
   "source": [
    "# split dataset\n",
    "from sklearn import model_selection\n",
    "\n",
    "X_train, X_test, y_train, y_test = model_selection.train_test_split(X, y, test_size=0.40, random_state=1)\n",
    "\n",
    "print('training data has ' + str(X_train.shape[0]) + ' observation with ' + str(X_train.shape[1]) + ' features')\n",
    "print('test data has ' + str(X_test.shape[0]) + ' observation with ' + str(X_test.shape[1]) + ' features')"
   ]
  },
  {
   "cell_type": "code",
   "execution_count": 22,
   "metadata": {},
   "outputs": [
    {
     "data": {
      "text/plain": [
       "Station     object\n",
       "value      float64\n",
       "measure     object\n",
       "R_flag       int64\n",
       "I_flag       int64\n",
       "Z_flag       int64\n",
       "B_flag       int64\n",
       "dtype: object"
      ]
     },
     "execution_count": 22,
     "metadata": {},
     "output_type": "execute_result"
    }
   ],
   "source": [
    "X_train.dtypes"
   ]
  },
  {
   "cell_type": "code",
   "execution_count": 23,
   "metadata": {},
   "outputs": [],
   "source": [
    "# One hot encoding for Station\n",
    "from sklearn.preprocessing import OneHotEncoder\n",
    "\n",
    "def OneHotEncoding(df, enc, categories):  \n",
    "  transformed = pd.DataFrame(enc.transform(df[categories]).toarray(), columns=enc.get_feature_names_out(categories))\n",
    "  return pd.concat([df.reset_index(drop=True), transformed], axis=1).drop(categories, axis=1)\n",
    "\n",
    "categories = ['Station']\n",
    "enc_ohe = OneHotEncoder()\n",
    "enc_ohe.fit(X[categories])\n",
    "\n",
    "X_train = OneHotEncoding(X_train, enc_ohe, categories)\n",
    "X_test = OneHotEncoding(X_test, enc_ohe, categories)"
   ]
  },
  {
   "cell_type": "code",
   "execution_count": 24,
   "metadata": {},
   "outputs": [
    {
     "data": {
      "text/plain": [
       "value           float64\n",
       "measure          object\n",
       "R_flag            int64\n",
       "I_flag            int64\n",
       "Z_flag            int64\n",
       "B_flag            int64\n",
       "Station_AURO    float64\n",
       "Station_BAHA    float64\n",
       "Station_BALD    float64\n",
       "Station_BEAR    float64\n",
       "Station_BUCK    float64\n",
       "Station_BURN    float64\n",
       "Station_CAST    float64\n",
       "Station_CHAP    float64\n",
       "Station_CLA2    float64\n",
       "Station_CLAY    float64\n",
       "Station_CLIN    float64\n",
       "Station_DURH    float64\n",
       "Station_FLET    float64\n",
       "Station_FRYI    float64\n",
       "Station_GOLD    float64\n",
       "Station_HAML    float64\n",
       "Station_JACK    float64\n",
       "Station_JEFF    float64\n",
       "Station_KINS    float64\n",
       "Station_LAKE    float64\n",
       "Station_LAUR    float64\n",
       "Station_LEWS    float64\n",
       "Station_LILE    float64\n",
       "Station_MITC    float64\n",
       "Station_NCAT    float64\n",
       "Station_NEWL    float64\n",
       "Station_OXFO    float64\n",
       "Station_PLYM    float64\n",
       "Station_REED    float64\n",
       "Station_REID    float64\n",
       "Station_ROCK    float64\n",
       "Station_SALI    float64\n",
       "Station_SASS    float64\n",
       "Station_SILR    float64\n",
       "Station_SPIN    float64\n",
       "Station_SPRU    float64\n",
       "Station_TAYL    float64\n",
       "Station_UNCA    float64\n",
       "Station_WAYN    float64\n",
       "Station_WHIT    float64\n",
       "Station_WILD    float64\n",
       "Station_WILL    float64\n",
       "Station_WINE    float64\n",
       "dtype: object"
      ]
     },
     "execution_count": 24,
     "metadata": {},
     "output_type": "execute_result"
    }
   ],
   "source": [
    "X_train.dtypes"
   ]
  },
  {
   "cell_type": "code",
   "execution_count": 25,
   "metadata": {},
   "outputs": [],
   "source": [
    "# One hot encoding for measure\n",
    "categories = ['measure']\n",
    "enc_ohe = OneHotEncoder()\n",
    "enc_ohe.fit(X[categories])\n",
    "\n",
    "X_train = OneHotEncoding(X_train, enc_ohe, categories)\n",
    "X_test = OneHotEncoding(X_test, enc_ohe, categories)"
   ]
  },
  {
   "cell_type": "code",
   "execution_count": 26,
   "metadata": {},
   "outputs": [],
   "source": [
    "# Standardize and Normalize Data\n",
    "\n",
    "from sklearn.preprocessing import StandardScaler\n",
    "scaler = StandardScaler()\n",
    "scaler.fit(X_train[num_cols])\n",
    "X_train[num_cols] = scaler.transform(X_train[num_cols])\n",
    "X_test[num_cols] = scaler.transform(X_test[num_cols])"
   ]
  },
  {
   "cell_type": "code",
   "execution_count": 27,
   "metadata": {},
   "outputs": [
    {
     "data": {
      "text/html": [
       "<div>\n",
       "<style scoped>\n",
       "    .dataframe tbody tr th:only-of-type {\n",
       "        vertical-align: middle;\n",
       "    }\n",
       "\n",
       "    .dataframe tbody tr th {\n",
       "        vertical-align: top;\n",
       "    }\n",
       "\n",
       "    .dataframe thead th {\n",
       "        text-align: right;\n",
       "    }\n",
       "</style>\n",
       "<table border=\"1\" class=\"dataframe\">\n",
       "  <thead>\n",
       "    <tr style=\"text-align: right;\">\n",
       "      <th></th>\n",
       "      <th>value</th>\n",
       "      <th>R_flag</th>\n",
       "      <th>I_flag</th>\n",
       "      <th>Z_flag</th>\n",
       "      <th>B_flag</th>\n",
       "      <th>Station_AURO</th>\n",
       "      <th>Station_BAHA</th>\n",
       "      <th>Station_BALD</th>\n",
       "      <th>Station_BEAR</th>\n",
       "      <th>Station_BUCK</th>\n",
       "      <th>...</th>\n",
       "      <th>measure_rh_hmp</th>\n",
       "      <th>measure_rh_wxt</th>\n",
       "      <th>measure_sm</th>\n",
       "      <th>measure_sr</th>\n",
       "      <th>measure_st</th>\n",
       "      <th>measure_temp10</th>\n",
       "      <th>measure_temp_wxt</th>\n",
       "      <th>measure_ws02</th>\n",
       "      <th>measure_ws06</th>\n",
       "      <th>measure_ws10</th>\n",
       "    </tr>\n",
       "  </thead>\n",
       "  <tbody>\n",
       "    <tr>\n",
       "      <th>0</th>\n",
       "      <td>-0.347576</td>\n",
       "      <td>-0.369060</td>\n",
       "      <td>-0.532594</td>\n",
       "      <td>2.970063</td>\n",
       "      <td>-0.999270</td>\n",
       "      <td>0.0</td>\n",
       "      <td>0.0</td>\n",
       "      <td>0.0</td>\n",
       "      <td>0.0</td>\n",
       "      <td>0.0</td>\n",
       "      <td>...</td>\n",
       "      <td>0.0</td>\n",
       "      <td>0.0</td>\n",
       "      <td>0.0</td>\n",
       "      <td>0.0</td>\n",
       "      <td>0.0</td>\n",
       "      <td>0.0</td>\n",
       "      <td>0.0</td>\n",
       "      <td>0.0</td>\n",
       "      <td>1.0</td>\n",
       "      <td>0.0</td>\n",
       "    </tr>\n",
       "    <tr>\n",
       "      <th>1</th>\n",
       "      <td>-0.347576</td>\n",
       "      <td>-0.369060</td>\n",
       "      <td>-0.532594</td>\n",
       "      <td>2.970063</td>\n",
       "      <td>-0.999270</td>\n",
       "      <td>0.0</td>\n",
       "      <td>0.0</td>\n",
       "      <td>0.0</td>\n",
       "      <td>0.0</td>\n",
       "      <td>0.0</td>\n",
       "      <td>...</td>\n",
       "      <td>0.0</td>\n",
       "      <td>0.0</td>\n",
       "      <td>0.0</td>\n",
       "      <td>0.0</td>\n",
       "      <td>0.0</td>\n",
       "      <td>0.0</td>\n",
       "      <td>0.0</td>\n",
       "      <td>0.0</td>\n",
       "      <td>1.0</td>\n",
       "      <td>0.0</td>\n",
       "    </tr>\n",
       "    <tr>\n",
       "      <th>2</th>\n",
       "      <td>-0.346690</td>\n",
       "      <td>-0.369060</td>\n",
       "      <td>-0.532594</td>\n",
       "      <td>-0.477349</td>\n",
       "      <td>0.687490</td>\n",
       "      <td>0.0</td>\n",
       "      <td>0.0</td>\n",
       "      <td>0.0</td>\n",
       "      <td>0.0</td>\n",
       "      <td>0.0</td>\n",
       "      <td>...</td>\n",
       "      <td>0.0</td>\n",
       "      <td>0.0</td>\n",
       "      <td>1.0</td>\n",
       "      <td>0.0</td>\n",
       "      <td>0.0</td>\n",
       "      <td>0.0</td>\n",
       "      <td>0.0</td>\n",
       "      <td>0.0</td>\n",
       "      <td>0.0</td>\n",
       "      <td>0.0</td>\n",
       "    </tr>\n",
       "    <tr>\n",
       "      <th>3</th>\n",
       "      <td>-0.346855</td>\n",
       "      <td>-0.369060</td>\n",
       "      <td>-0.532594</td>\n",
       "      <td>-0.477349</td>\n",
       "      <td>1.530871</td>\n",
       "      <td>0.0</td>\n",
       "      <td>0.0</td>\n",
       "      <td>0.0</td>\n",
       "      <td>0.0</td>\n",
       "      <td>0.0</td>\n",
       "      <td>...</td>\n",
       "      <td>0.0</td>\n",
       "      <td>0.0</td>\n",
       "      <td>1.0</td>\n",
       "      <td>0.0</td>\n",
       "      <td>0.0</td>\n",
       "      <td>0.0</td>\n",
       "      <td>0.0</td>\n",
       "      <td>0.0</td>\n",
       "      <td>0.0</td>\n",
       "      <td>0.0</td>\n",
       "    </tr>\n",
       "    <tr>\n",
       "      <th>4</th>\n",
       "      <td>-0.295954</td>\n",
       "      <td>-0.369060</td>\n",
       "      <td>-0.532594</td>\n",
       "      <td>-0.477349</td>\n",
       "      <td>-0.155890</td>\n",
       "      <td>0.0</td>\n",
       "      <td>0.0</td>\n",
       "      <td>0.0</td>\n",
       "      <td>0.0</td>\n",
       "      <td>0.0</td>\n",
       "      <td>...</td>\n",
       "      <td>0.0</td>\n",
       "      <td>0.0</td>\n",
       "      <td>0.0</td>\n",
       "      <td>0.0</td>\n",
       "      <td>0.0</td>\n",
       "      <td>1.0</td>\n",
       "      <td>0.0</td>\n",
       "      <td>0.0</td>\n",
       "      <td>0.0</td>\n",
       "      <td>0.0</td>\n",
       "    </tr>\n",
       "    <tr>\n",
       "      <th>...</th>\n",
       "      <td>...</td>\n",
       "      <td>...</td>\n",
       "      <td>...</td>\n",
       "      <td>...</td>\n",
       "      <td>...</td>\n",
       "      <td>...</td>\n",
       "      <td>...</td>\n",
       "      <td>...</td>\n",
       "      <td>...</td>\n",
       "      <td>...</td>\n",
       "      <td>...</td>\n",
       "      <td>...</td>\n",
       "      <td>...</td>\n",
       "      <td>...</td>\n",
       "      <td>...</td>\n",
       "      <td>...</td>\n",
       "      <td>...</td>\n",
       "      <td>...</td>\n",
       "      <td>...</td>\n",
       "      <td>...</td>\n",
       "      <td>...</td>\n",
       "    </tr>\n",
       "    <tr>\n",
       "      <th>1037859</th>\n",
       "      <td>-0.256206</td>\n",
       "      <td>0.620835</td>\n",
       "      <td>-0.532594</td>\n",
       "      <td>-0.477349</td>\n",
       "      <td>-0.999270</td>\n",
       "      <td>0.0</td>\n",
       "      <td>0.0</td>\n",
       "      <td>0.0</td>\n",
       "      <td>0.0</td>\n",
       "      <td>0.0</td>\n",
       "      <td>...</td>\n",
       "      <td>0.0</td>\n",
       "      <td>0.0</td>\n",
       "      <td>0.0</td>\n",
       "      <td>0.0</td>\n",
       "      <td>0.0</td>\n",
       "      <td>0.0</td>\n",
       "      <td>0.0</td>\n",
       "      <td>0.0</td>\n",
       "      <td>0.0</td>\n",
       "      <td>0.0</td>\n",
       "    </tr>\n",
       "    <tr>\n",
       "      <th>1037860</th>\n",
       "      <td>-0.346693</td>\n",
       "      <td>-0.369060</td>\n",
       "      <td>-0.532594</td>\n",
       "      <td>-0.477349</td>\n",
       "      <td>1.530871</td>\n",
       "      <td>0.0</td>\n",
       "      <td>0.0</td>\n",
       "      <td>0.0</td>\n",
       "      <td>0.0</td>\n",
       "      <td>0.0</td>\n",
       "      <td>...</td>\n",
       "      <td>0.0</td>\n",
       "      <td>0.0</td>\n",
       "      <td>1.0</td>\n",
       "      <td>0.0</td>\n",
       "      <td>0.0</td>\n",
       "      <td>0.0</td>\n",
       "      <td>0.0</td>\n",
       "      <td>0.0</td>\n",
       "      <td>0.0</td>\n",
       "      <td>0.0</td>\n",
       "    </tr>\n",
       "    <tr>\n",
       "      <th>1037861</th>\n",
       "      <td>-0.346709</td>\n",
       "      <td>-0.369060</td>\n",
       "      <td>-0.532594</td>\n",
       "      <td>-0.477349</td>\n",
       "      <td>1.530871</td>\n",
       "      <td>0.0</td>\n",
       "      <td>0.0</td>\n",
       "      <td>0.0</td>\n",
       "      <td>0.0</td>\n",
       "      <td>0.0</td>\n",
       "      <td>...</td>\n",
       "      <td>0.0</td>\n",
       "      <td>0.0</td>\n",
       "      <td>1.0</td>\n",
       "      <td>0.0</td>\n",
       "      <td>0.0</td>\n",
       "      <td>0.0</td>\n",
       "      <td>0.0</td>\n",
       "      <td>0.0</td>\n",
       "      <td>0.0</td>\n",
       "      <td>0.0</td>\n",
       "    </tr>\n",
       "    <tr>\n",
       "      <th>1037862</th>\n",
       "      <td>-0.345799</td>\n",
       "      <td>-0.369060</td>\n",
       "      <td>-0.532594</td>\n",
       "      <td>-0.477349</td>\n",
       "      <td>0.687490</td>\n",
       "      <td>0.0</td>\n",
       "      <td>0.0</td>\n",
       "      <td>0.0</td>\n",
       "      <td>0.0</td>\n",
       "      <td>0.0</td>\n",
       "      <td>...</td>\n",
       "      <td>0.0</td>\n",
       "      <td>0.0</td>\n",
       "      <td>1.0</td>\n",
       "      <td>0.0</td>\n",
       "      <td>0.0</td>\n",
       "      <td>0.0</td>\n",
       "      <td>0.0</td>\n",
       "      <td>0.0</td>\n",
       "      <td>0.0</td>\n",
       "      <td>0.0</td>\n",
       "    </tr>\n",
       "    <tr>\n",
       "      <th>1037863</th>\n",
       "      <td>-0.273131</td>\n",
       "      <td>-0.369060</td>\n",
       "      <td>-0.532594</td>\n",
       "      <td>-0.477349</td>\n",
       "      <td>0.687490</td>\n",
       "      <td>0.0</td>\n",
       "      <td>0.0</td>\n",
       "      <td>0.0</td>\n",
       "      <td>0.0</td>\n",
       "      <td>0.0</td>\n",
       "      <td>...</td>\n",
       "      <td>0.0</td>\n",
       "      <td>0.0</td>\n",
       "      <td>0.0</td>\n",
       "      <td>0.0</td>\n",
       "      <td>0.0</td>\n",
       "      <td>1.0</td>\n",
       "      <td>0.0</td>\n",
       "      <td>0.0</td>\n",
       "      <td>0.0</td>\n",
       "      <td>0.0</td>\n",
       "    </tr>\n",
       "  </tbody>\n",
       "</table>\n",
       "<p>1037864 rows × 64 columns</p>\n",
       "</div>"
      ],
      "text/plain": [
       "            value    R_flag    I_flag    Z_flag    B_flag  Station_AURO  \\\n",
       "0       -0.347576 -0.369060 -0.532594  2.970063 -0.999270           0.0   \n",
       "1       -0.347576 -0.369060 -0.532594  2.970063 -0.999270           0.0   \n",
       "2       -0.346690 -0.369060 -0.532594 -0.477349  0.687490           0.0   \n",
       "3       -0.346855 -0.369060 -0.532594 -0.477349  1.530871           0.0   \n",
       "4       -0.295954 -0.369060 -0.532594 -0.477349 -0.155890           0.0   \n",
       "...           ...       ...       ...       ...       ...           ...   \n",
       "1037859 -0.256206  0.620835 -0.532594 -0.477349 -0.999270           0.0   \n",
       "1037860 -0.346693 -0.369060 -0.532594 -0.477349  1.530871           0.0   \n",
       "1037861 -0.346709 -0.369060 -0.532594 -0.477349  1.530871           0.0   \n",
       "1037862 -0.345799 -0.369060 -0.532594 -0.477349  0.687490           0.0   \n",
       "1037863 -0.273131 -0.369060 -0.532594 -0.477349  0.687490           0.0   \n",
       "\n",
       "         Station_BAHA  Station_BALD  Station_BEAR  Station_BUCK  ...  \\\n",
       "0                 0.0           0.0           0.0           0.0  ...   \n",
       "1                 0.0           0.0           0.0           0.0  ...   \n",
       "2                 0.0           0.0           0.0           0.0  ...   \n",
       "3                 0.0           0.0           0.0           0.0  ...   \n",
       "4                 0.0           0.0           0.0           0.0  ...   \n",
       "...               ...           ...           ...           ...  ...   \n",
       "1037859           0.0           0.0           0.0           0.0  ...   \n",
       "1037860           0.0           0.0           0.0           0.0  ...   \n",
       "1037861           0.0           0.0           0.0           0.0  ...   \n",
       "1037862           0.0           0.0           0.0           0.0  ...   \n",
       "1037863           0.0           0.0           0.0           0.0  ...   \n",
       "\n",
       "         measure_rh_hmp  measure_rh_wxt  measure_sm  measure_sr  measure_st  \\\n",
       "0                   0.0             0.0         0.0         0.0         0.0   \n",
       "1                   0.0             0.0         0.0         0.0         0.0   \n",
       "2                   0.0             0.0         1.0         0.0         0.0   \n",
       "3                   0.0             0.0         1.0         0.0         0.0   \n",
       "4                   0.0             0.0         0.0         0.0         0.0   \n",
       "...                 ...             ...         ...         ...         ...   \n",
       "1037859             0.0             0.0         0.0         0.0         0.0   \n",
       "1037860             0.0             0.0         1.0         0.0         0.0   \n",
       "1037861             0.0             0.0         1.0         0.0         0.0   \n",
       "1037862             0.0             0.0         1.0         0.0         0.0   \n",
       "1037863             0.0             0.0         0.0         0.0         0.0   \n",
       "\n",
       "         measure_temp10  measure_temp_wxt  measure_ws02  measure_ws06  \\\n",
       "0                   0.0               0.0           0.0           1.0   \n",
       "1                   0.0               0.0           0.0           1.0   \n",
       "2                   0.0               0.0           0.0           0.0   \n",
       "3                   0.0               0.0           0.0           0.0   \n",
       "4                   1.0               0.0           0.0           0.0   \n",
       "...                 ...               ...           ...           ...   \n",
       "1037859             0.0               0.0           0.0           0.0   \n",
       "1037860             0.0               0.0           0.0           0.0   \n",
       "1037861             0.0               0.0           0.0           0.0   \n",
       "1037862             0.0               0.0           0.0           0.0   \n",
       "1037863             1.0               0.0           0.0           0.0   \n",
       "\n",
       "         measure_ws10  \n",
       "0                 0.0  \n",
       "1                 0.0  \n",
       "2                 0.0  \n",
       "3                 0.0  \n",
       "4                 0.0  \n",
       "...               ...  \n",
       "1037859           0.0  \n",
       "1037860           0.0  \n",
       "1037861           0.0  \n",
       "1037862           0.0  \n",
       "1037863           0.0  \n",
       "\n",
       "[1037864 rows x 64 columns]"
      ]
     },
     "execution_count": 27,
     "metadata": {},
     "output_type": "execute_result"
    }
   ],
   "source": [
    "X_train"
   ]
  },
  {
   "cell_type": "code",
   "execution_count": 28,
   "metadata": {},
   "outputs": [],
   "source": [
    "from sklearn.ensemble import RandomForestClassifier\n",
    "from sklearn.neighbors import KNeighborsClassifier \n",
    "from sklearn.linear_model import LogisticRegression\n",
    "from sklearn.naive_bayes import GaussianNB\n",
    "\n",
    "# Logistic Regression\n",
    "classifier_logistic = LogisticRegression(solver='lbfgs', max_iter=3000)\n",
    "\n",
    "# Naive Bayes\n",
    "classifier_bayes=GaussianNB()\n",
    "\n",
    "# Random Forest\n",
    "classifier_RF = RandomForestClassifier(max_depth=10, n_estimators=100)"
   ]
  },
  {
   "cell_type": "code",
   "execution_count": 29,
   "metadata": {},
   "outputs": [
    {
     "data": {
      "text/plain": [
       "LogisticRegression(max_iter=3000)"
      ]
     },
     "execution_count": 29,
     "metadata": {},
     "output_type": "execute_result"
    }
   ],
   "source": [
    "# Logistics\n",
    "classifier_logistic.fit(X_train, y_train)\n"
   ]
  },
  {
   "cell_type": "code",
   "execution_count": 30,
   "metadata": {},
   "outputs": [
    {
     "data": {
      "text/plain": [
       "0.8614487433336706"
      ]
     },
     "execution_count": 30,
     "metadata": {},
     "output_type": "execute_result"
    }
   ],
   "source": [
    "classifier_logistic.score(X_test, y_test)\n"
   ]
  },
  {
   "cell_type": "code",
   "execution_count": 31,
   "metadata": {},
   "outputs": [],
   "source": [
    "# naive Bayes"
   ]
  },
  {
   "cell_type": "code",
   "execution_count": 32,
   "metadata": {},
   "outputs": [
    {
     "data": {
      "text/plain": [
       "GaussianNB()"
      ]
     },
     "execution_count": 32,
     "metadata": {},
     "output_type": "execute_result"
    }
   ],
   "source": [
    "classifier_bayes.fit(X_train, y_train)"
   ]
  },
  {
   "cell_type": "code",
   "execution_count": 33,
   "metadata": {},
   "outputs": [
    {
     "data": {
      "text/plain": [
       "array([1, 0, 0, ..., 1, 0, 1])"
      ]
     },
     "execution_count": 33,
     "metadata": {},
     "output_type": "execute_result"
    }
   ],
   "source": [
    "classifier_bayes.predict(X_test)\n"
   ]
  },
  {
   "cell_type": "code",
   "execution_count": 34,
   "metadata": {},
   "outputs": [
    {
     "data": {
      "text/plain": [
       "0.7647179546472808"
      ]
     },
     "execution_count": 34,
     "metadata": {},
     "output_type": "execute_result"
    }
   ],
   "source": [
    "classifier_bayes.score(X_test, y_test)\n"
   ]
  },
  {
   "cell_type": "code",
   "execution_count": 35,
   "metadata": {},
   "outputs": [
    {
     "data": {
      "text/plain": [
       "RandomForestClassifier(max_depth=10)"
      ]
     },
     "execution_count": 35,
     "metadata": {},
     "output_type": "execute_result"
    }
   ],
   "source": [
    "# Random Forest\n",
    "classifier_RF.fit(X_train, y_train)\n"
   ]
  },
  {
   "cell_type": "code",
   "execution_count": 36,
   "metadata": {},
   "outputs": [
    {
     "data": {
      "text/plain": [
       "array([1, 0, 0, ..., 1, 0, 1])"
      ]
     },
     "execution_count": 36,
     "metadata": {},
     "output_type": "execute_result"
    }
   ],
   "source": [
    "classifier_RF.predict(X_test)\n"
   ]
  },
  {
   "cell_type": "code",
   "execution_count": 37,
   "metadata": {},
   "outputs": [
    {
     "data": {
      "text/plain": [
       "0.9656516020869766"
      ]
     },
     "execution_count": 37,
     "metadata": {},
     "output_type": "execute_result"
    }
   ],
   "source": [
    "classifier_RF.score(X_test, y_test)\n"
   ]
  },
  {
   "cell_type": "code",
   "execution_count": 38,
   "metadata": {},
   "outputs": [
    {
     "name": "stdout",
     "output_type": "stream",
     "text": [
      "[0.86105129 0.86249657 0.86092122 0.86019376 0.86227911]\n",
      "Model accuracy of Logistic Regression is 0.861388390859228\n",
      "[0.96731752 0.96785227 0.96603123 0.9660794  0.96487966]\n",
      "Model accuracy of Random Forest is 0.9664320165721516\n",
      "[0.76683384 0.76585105 0.76426607 0.76830802 0.7626414 ]\n",
      "Model accuracy of Naive Bayes is 0.7655800731707849\n"
     ]
    }
   ],
   "source": [
    "# Use 5-fold Cross Validation to get the accuracy for different models\n",
    "model_names = ['Logistic Regression','Random Forest','Naive Bayes']\n",
    "model_list = [classifier_logistic, classifier_RF, classifier_bayes]\n",
    "count = 0\n",
    "\n",
    "for classifier in model_list:\n",
    "    cv_score = model_selection.cross_val_score(classifier, X_train, y_train, cv=5)\n",
    "    print(cv_score)\n",
    "    print('Model accuracy of ' + model_names[count] + ' is ' + str(cv_score.mean()))\n",
    "    count += 1"
   ]
  },
  {
   "cell_type": "code",
   "execution_count": 40,
   "metadata": {},
   "outputs": [],
   "source": [
    "#Loss/cost function --> (wx + b - y) ^2 + ƛ * |w| --> ƛ is a hyperparameter\n",
    "\n",
    "from sklearn.model_selection import GridSearchCV\n",
    "# helper function for printing out grid search results \n",
    "def print_grid_search_metrics(gs):\n",
    "    print (\"Best score: \" + str(gs.best_score_))\n",
    "    print (\"Best parameters set:\")\n",
    "    best_parameters = gs.best_params_\n",
    "    for param_name in sorted(best_parameters.keys()):\n",
    "        print(param_name + ':' + str(best_parameters[param_name]))\n",
    "        \n",
    "\n",
    "# Not as good as default, so we will just stay with default RF classfier"
   ]
  },
  {
   "cell_type": "code",
   "execution_count": 44,
   "metadata": {},
   "outputs": [
    {
     "data": {
      "text/plain": [
       "GridSearchCV(cv=5, estimator=LogisticRegression(solver='liblinear'),\n",
       "             param_grid={'C': (0.01, 0.05, 0.1, 0.2, 1),\n",
       "                         'penalty': ('l1', 'l2')})"
      ]
     },
     "execution_count": 44,
     "metadata": {},
     "output_type": "execute_result"
    }
   ],
   "source": [
    "parameters = {\n",
    "    'penalty':('l1', 'l2'), \n",
    "    'C':(0.01, 0.05, 0.1, 0.2, 1)\n",
    "}\n",
    "Grid_LR = GridSearchCV(LogisticRegression(solver='liblinear'),parameters, cv=5)\n",
    "Grid_LR.fit(X_train, y_train)"
   ]
  },
  {
   "cell_type": "code",
   "execution_count": 45,
   "metadata": {},
   "outputs": [
    {
     "name": "stdout",
     "output_type": "stream",
     "text": [
      "Best score: 0.8614288585547545\n",
      "Best parameters set:\n",
      "C:1\n",
      "penalty:l1\n"
     ]
    }
   ],
   "source": [
    "# the best hyperparameter combination\n",
    "# C = 1/lambda\n",
    "print_grid_search_metrics(Grid_LR)"
   ]
  },
  {
   "cell_type": "code",
   "execution_count": 46,
   "metadata": {},
   "outputs": [],
   "source": [
    "# best model\n",
    "best_LR_model = Grid_LR.best_estimator_"
   ]
  },
  {
   "cell_type": "code",
   "execution_count": 47,
   "metadata": {},
   "outputs": [
    {
     "data": {
      "text/plain": [
       "array([0, 0, 0, ..., 0, 0, 1])"
      ]
     },
     "execution_count": 47,
     "metadata": {},
     "output_type": "execute_result"
    }
   ],
   "source": [
    "best_LR_model.predict(X_test)\n"
   ]
  },
  {
   "cell_type": "code",
   "execution_count": 48,
   "metadata": {},
   "outputs": [
    {
     "data": {
      "text/plain": [
       "0.8614718677284618"
      ]
     },
     "execution_count": 48,
     "metadata": {},
     "output_type": "execute_result"
    }
   ],
   "source": [
    "best_LR_model.score(X_test, y_test)\n"
   ]
  },
  {
   "cell_type": "code",
   "execution_count": 49,
   "metadata": {},
   "outputs": [
    {
     "data": {
      "text/plain": [
       "GridSearchCV(cv=5, estimator=RandomForestClassifier(),\n",
       "             param_grid={'max_depth': [5, 10, 15],\n",
       "                         'n_estimators': [60, 80, 100]})"
      ]
     },
     "execution_count": 49,
     "metadata": {},
     "output_type": "execute_result"
    }
   ],
   "source": [
    "# Find Hyperparameter for ramdom forest\n",
    "from sklearn.model_selection import GridSearchCV\n",
    "\n",
    "parameters = {\n",
    "    'n_estimators' : [60,80,100],\n",
    "    'max_depth': [5,10,15]\n",
    "}\n",
    "Grid_RF = GridSearchCV(RandomForestClassifier(),parameters, cv=5)\n",
    "Grid_RF.fit(X_train, y_train)"
   ]
  },
  {
   "cell_type": "code",
   "execution_count": 50,
   "metadata": {},
   "outputs": [
    {
     "name": "stdout",
     "output_type": "stream",
     "text": [
      "Best score: 0.9803924212648021\n",
      "Best parameters set:\n",
      "max_depth:15\n",
      "n_estimators:60\n"
     ]
    }
   ],
   "source": [
    "print_grid_search_metrics(Grid_RF)\n"
   ]
  },
  {
   "cell_type": "code",
   "execution_count": 51,
   "metadata": {},
   "outputs": [],
   "source": [
    "best_RF_model = Grid_RF.best_estimator_\n"
   ]
  },
  {
   "cell_type": "code",
   "execution_count": 52,
   "metadata": {},
   "outputs": [
    {
     "data": {
      "text/plain": [
       "RandomForestClassifier(max_depth=15, n_estimators=60)"
      ]
     },
     "execution_count": 52,
     "metadata": {},
     "output_type": "execute_result"
    }
   ],
   "source": [
    "best_RF_model\n"
   ]
  },
  {
   "cell_type": "code",
   "execution_count": 53,
   "metadata": {},
   "outputs": [],
   "source": [
    "from sklearn.metrics import confusion_matrix\n",
    "from sklearn.metrics import classification_report\n",
    "from sklearn.metrics import precision_score\n",
    "from sklearn.metrics import recall_score\n",
    "\n"
   ]
  },
  {
   "cell_type": "code",
   "execution_count": 54,
   "metadata": {},
   "outputs": [],
   "source": [
    "def train_evaluate_pipeline(X_train, y_train, X_test, y_test, model, digits=4):\n",
    "\n",
    "    Y_test_predicted = model.fit(X=X_train, y=y_train).predict(X_test)\n",
    "    metric = classification_report(y_test,Y_test_predicted,digits=digits)\n",
    "    \n",
    "    return metric"
   ]
  },
  {
   "cell_type": "code",
   "execution_count": 56,
   "metadata": {},
   "outputs": [
    {
     "name": "stdout",
     "output_type": "stream",
     "text": [
      "Logistic Regression Classifer\n",
      "              precision    recall  f1-score   support\n",
      "\n",
      "           0     0.8811    0.8357    0.8578    345915\n",
      "           1     0.8438    0.8872    0.8650    345995\n",
      "\n",
      "    accuracy                         0.8615    691910\n",
      "   macro avg     0.8624    0.8615    0.8614    691910\n",
      "weighted avg     0.8624    0.8615    0.8614    691910\n",
      "\n"
     ]
    }
   ],
   "source": [
    "# Confusion matrix, accuracy, precison and recall for Logistic Regression\n",
    "\n",
    "print(\"Logistic Regression Classifer\")\n",
    "LR_metrics = train_evaluate_pipeline(X_train, y_train, X_test, y_test, best_LR_model)\n",
    "print(LR_metrics)"
   ]
  },
  {
   "cell_type": "code",
   "execution_count": 57,
   "metadata": {},
   "outputs": [
    {
     "name": "stdout",
     "output_type": "stream",
     "text": [
      "Naive Bayes Classifer\n",
      "              precision    recall  f1-score   support\n",
      "\n",
      "           0     0.9150    0.5836    0.7127    345915\n",
      "           1     0.6944    0.9458    0.8008    345995\n",
      "\n",
      "    accuracy                         0.7647    691910\n",
      "   macro avg     0.8047    0.7647    0.7567    691910\n",
      "weighted avg     0.8047    0.7647    0.7567    691910\n",
      "\n"
     ]
    }
   ],
   "source": [
    "# Confusion matrix, accuracy, precison and recall for Naive Bayes\n",
    "\n",
    "print(\"Naive Bayes Classifer\")\n",
    "NB_metrics = train_evaluate_pipeline(X_train, y_train, X_test, y_test, classifier_bayes)\n",
    "print(NB_metrics)"
   ]
  },
  {
   "cell_type": "code",
   "execution_count": 58,
   "metadata": {
    "scrolled": true
   },
   "outputs": [
    {
     "name": "stdout",
     "output_type": "stream",
     "text": [
      "Random Forest Classifer\n",
      "              precision    recall  f1-score   support\n",
      "\n",
      "           0     0.9797    0.9794    0.9795    345915\n",
      "           1     0.9794    0.9797    0.9795    345995\n",
      "\n",
      "    accuracy                         0.9795    691910\n",
      "   macro avg     0.9795    0.9795    0.9795    691910\n",
      "weighted avg     0.9795    0.9795    0.9795    691910\n",
      "\n"
     ]
    }
   ],
   "source": [
    "# Confusion matrix, accuracy, precison and recall for random forest\n",
    "\n",
    "print(\"Random Forest Classifer\")\n",
    "RF_metrics = train_evaluate_pipeline(X_train, y_train, X_test, y_test, best_RF_model)\n",
    "print(RF_metrics)\n"
   ]
  },
  {
   "cell_type": "code",
   "execution_count": 59,
   "metadata": {},
   "outputs": [
    {
     "data": {
      "image/png": "[encoded data removed]",
      "text/plain": [
       "<Figure size 432x288 with 1 Axes>"
      ]
     },
     "metadata": {
      "needs_background": "light"
     },
     "output_type": "display_data"
    }
   ],
   "source": [
    "# Plot the Precision-Recall curve to evaulate\n",
    "# https://scikit-learn.org/stable/auto_examples/model_selection/plot_precision_recall.html\n",
    "\n",
    "# PR curve for Logistic Regression\n",
    "from sklearn.metrics import PrecisionRecallDisplay\n",
    "\n",
    "display = PrecisionRecallDisplay.from_estimator(\n",
    "    best_LR_model, X_test, y_test\n",
    ")\n",
    "_ = display.ax_.set_title(\"2-class Precision-Recall curve - Logistic Regression\")"
   ]
  },
  {
   "cell_type": "code",
   "execution_count": 60,
   "metadata": {},
   "outputs": [
    {
     "data": {
      "image/png": "[encoded data removed]",
      "text/plain": [
       "<Figure size 432x288 with 1 Axes>"
      ]
     },
     "metadata": {
      "needs_background": "light"
     },
     "output_type": "display_data"
    }
   ],
   "source": [
    "# PR Curve for Naive Bayes\n",
    "display = PrecisionRecallDisplay.from_estimator(\n",
    "    classifier_bayes, X_test, y_test\n",
    ")\n",
    "_ = display.ax_.set_title(\"2-class Precision-Recall curve\")\n"
   ]
  },
  {
   "cell_type": "code",
   "execution_count": 61,
   "metadata": {},
   "outputs": [
    {
     "data": {
      "image/png": "[encoded data removed]",
      "text/plain": [
       "<Figure size 432x288 with 1 Axes>"
      ]
     },
     "metadata": {
      "needs_background": "light"
     },
     "output_type": "display_data"
    }
   ],
   "source": [
    "# PR Curve for Random Forest\n",
    "display = PrecisionRecallDisplay.from_estimator(\n",
    "    best_RF_model, X_test, y_test\n",
    ")\n",
    "_ = display.ax_.set_title(\"2-class Precision-Recall curve\")\n"
   ]
  },
  {
   "cell_type": "code",
   "execution_count": null,
   "metadata": {},
   "outputs": [],
   "source": [
    "test = pd.read_csv(\"./test.csv\")\n",
    "test.head()"
   ]
  },
  {
   "cell_type": "code",
   "execution_count": null,
   "metadata": {},
   "outputs": [],
   "source": [
    "drop_feature=['Ob']\n",
    "test = test.drop(drop_feature, axis=1)"
   ]
  },
  {
   "cell_type": "code",
   "execution_count": null,
   "metadata": {},
   "outputs": [],
   "source": [
    "test"
   ]
  },
  {
   "cell_type": "code",
   "execution_count": null,
   "metadata": {},
   "outputs": [],
   "source": [
    "cat_cols = test.columns[test.dtypes == 'O']\n",
    "num_cols = test.columns[(test.dtypes == 'float64') | (test.dtypes == 'int64')]"
   ]
  },
  {
   "cell_type": "code",
   "execution_count": null,
   "metadata": {},
   "outputs": [],
   "source": [
    "categories = ['Station']\n",
    "enc_ohe = OneHotEncoder()\n",
    "enc_ohe.fit(test[categories])\n",
    "\n",
    "test = OneHotEncoding(test, enc_ohe, categories)"
   ]
  },
  {
   "cell_type": "code",
   "execution_count": null,
   "metadata": {},
   "outputs": [],
   "source": [
    "test"
   ]
  },
  {
   "cell_type": "code",
   "execution_count": null,
   "metadata": {},
   "outputs": [],
   "source": [
    "categories = ['measure']\n",
    "enc_ohe = OneHotEncoder()\n",
    "enc_ohe.fit(test[categories])\n",
    "\n",
    "test = OneHotEncoding(test, enc_ohe, categories)"
   ]
  },
  {
   "cell_type": "code",
   "execution_count": null,
   "metadata": {},
   "outputs": [],
   "source": [
    "test"
   ]
  },
  {
   "cell_type": "code",
   "execution_count": null,
   "metadata": {},
   "outputs": [],
   "source": [
    "scaler = StandardScaler()\n",
    "scaler.fit(test[num_cols])\n",
    "test[num_cols] = scaler.transform(test[num_cols])\n",
    "test[num_cols] = scaler.transform(test[num_cols])"
   ]
  },
  {
   "cell_type": "code",
   "execution_count": null,
   "metadata": {},
   "outputs": [],
   "source": [
    "test"
   ]
  },
  {
   "cell_type": "code",
   "execution_count": null,
   "metadata": {},
   "outputs": [],
   "source": [
    "test_list = test.columns.values.tolist()\n"
   ]
  },
  {
   "cell_type": "code",
   "execution_count": null,
   "metadata": {},
   "outputs": [],
   "source": [
    "test_list"
   ]
  },
  {
   "cell_type": "code",
   "execution_count": null,
   "metadata": {},
   "outputs": [],
   "source": [
    "train_list = X_train.columns.values.tolist()\n",
    "train_list"
   ]
  },
  {
   "cell_type": "code",
   "execution_count": null,
   "metadata": {},
   "outputs": [],
   "source": [
    "drop_feature=['measure_gust02', 'measure_gust10', 'measure_wd02', 'measure_wd10']\n",
    "test = test.drop(drop_feature, axis=1)"
   ]
  },
  {
   "cell_type": "code",
   "execution_count": null,
   "metadata": {},
   "outputs": [],
   "source": [
    "test_list = test.columns.values.tolist()\n",
    "test_list"
   ]
  },
  {
   "cell_type": "code",
   "execution_count": null,
   "metadata": {},
   "outputs": [],
   "source": [
    "train_list = X_train.columns.values.tolist()\n",
    "train_list"
   ]
  },
  {
   "cell_type": "code",
   "execution_count": null,
   "metadata": {},
   "outputs": [],
   "source": [
    "test_pred = classifier_RF.predict_proba(test)"
   ]
  },
  {
   "cell_type": "code",
   "execution_count": null,
   "metadata": {},
   "outputs": [],
   "source": [
    "pd.DataFrame(test_pred[:,1], columns=['target']).to_csv('predictions.csv', index=False)"
   ]
  },
  {
   "cell_type": "code",
   "execution_count": null,
   "metadata": {},
   "outputs": [],
   "source": [
    "test_pred = classifier_logistic.predict_proba(test)"
   ]
  },
  {
   "cell_type": "code",
   "execution_count": null,
   "metadata": {},
   "outputs": [],
   "source": [
    "pd.DataFrame(test_pred[:,1], columns=['target']).to_csv('predictions.csv', index=False)"
   ]
  },
  {
   "cell_type": "code",
   "execution_count": null,
   "metadata": {},
   "outputs": [],
   "source": [
    "test_pred = classifier_bayes.predict_proba(test)"
   ]
  },
  {
   "cell_type": "code",
   "execution_count": null,
   "metadata": {},
   "outputs": [],
   "source": [
    "pd.DataFrame(test_pred[:,1], columns=['target']).to_csv('predictions.csv', index=False)"
   ]
  },
  {
   "cell_type": "code",
   "execution_count": null,
   "metadata": {},
   "outputs": [],
   "source": [
    "# Github Reference: https://github.com/Kaiyuan-Carl-Duan/Bank-Customer-Churn-Prediction\n",
    "# Precision-Recall curve https://scikit-learn.org/stable/auto_examples/model_selection/plot_precision_recall.html\n",
    "# Random Undersampling: https://machinelearningmastery.com/random-oversampling-and-undersampling-for-imbalanced-classification/\n"
   ]
  }
 ],
 "metadata": {
  "kernelspec": {
   "display_name": "Python 3",
   "language": "python",
   "name": "python3"
  },
  "language_info": {
   "codemirror_mode": {
    "name": "ipython",
    "version": 3
   },
   "file_extension": ".py",
   "mimetype": "text/x-python",
   "name": "python",
   "nbconvert_exporter": "python",
   "pygments_lexer": "ipython3",
   "version": "3.8.5"
  }
 },
 "nbformat": 4,
 "nbformat_minor": 4
}

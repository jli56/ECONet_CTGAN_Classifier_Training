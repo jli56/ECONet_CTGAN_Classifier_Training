{
 "cells": [
  {
   "cell_type": "code",
   "execution_count": 1,
   "metadata": {},
   "outputs": [],
   "source": [
    "import numpy as np\n",
    "import pandas as pd \n",
    "import matplotlib.pyplot as plt\n",
    "import seaborn as sns\n",
    "from sklearn.model_selection import train_test_split\n"
   ]
  },
  {
   "cell_type": "code",
   "execution_count": 2,
   "metadata": {},
   "outputs": [
    {
     "data": {
      "text/html": [
       "<div>\n",
       "<style scoped>\n",
       "    .dataframe tbody tr th:only-of-type {\n",
       "        vertical-align: middle;\n",
       "    }\n",
       "\n",
       "    .dataframe tbody tr th {\n",
       "        vertical-align: top;\n",
       "    }\n",
       "\n",
       "    .dataframe thead th {\n",
       "        text-align: right;\n",
       "    }\n",
       "</style>\n",
       "<table border=\"1\" class=\"dataframe\">\n",
       "  <thead>\n",
       "    <tr style=\"text-align: right;\">\n",
       "      <th></th>\n",
       "      <th>Station</th>\n",
       "      <th>Ob</th>\n",
       "      <th>value</th>\n",
       "      <th>measure</th>\n",
       "      <th>target</th>\n",
       "      <th>R_flag</th>\n",
       "      <th>I_flag</th>\n",
       "      <th>Z_flag</th>\n",
       "      <th>B_flag</th>\n",
       "    </tr>\n",
       "  </thead>\n",
       "  <tbody>\n",
       "    <tr>\n",
       "      <th>0</th>\n",
       "      <td>AURO</td>\n",
       "      <td>1/2/2021 0:30</td>\n",
       "      <td>19.2</td>\n",
       "      <td>temp_wxt</td>\n",
       "      <td>0</td>\n",
       "      <td>2</td>\n",
       "      <td>-1</td>\n",
       "      <td>0</td>\n",
       "      <td>1</td>\n",
       "    </tr>\n",
       "    <tr>\n",
       "      <th>1</th>\n",
       "      <td>AURO</td>\n",
       "      <td>1/2/2021 4:30</td>\n",
       "      <td>19.8</td>\n",
       "      <td>temp_wxt</td>\n",
       "      <td>0</td>\n",
       "      <td>2</td>\n",
       "      <td>-1</td>\n",
       "      <td>0</td>\n",
       "      <td>1</td>\n",
       "    </tr>\n",
       "    <tr>\n",
       "      <th>2</th>\n",
       "      <td>AURO</td>\n",
       "      <td>1/2/2021 5:30</td>\n",
       "      <td>19.5</td>\n",
       "      <td>temp_wxt</td>\n",
       "      <td>0</td>\n",
       "      <td>2</td>\n",
       "      <td>-1</td>\n",
       "      <td>0</td>\n",
       "      <td>1</td>\n",
       "    </tr>\n",
       "    <tr>\n",
       "      <th>3</th>\n",
       "      <td>AURO</td>\n",
       "      <td>1/2/2021 7:30</td>\n",
       "      <td>18.5</td>\n",
       "      <td>temp_wxt</td>\n",
       "      <td>0</td>\n",
       "      <td>2</td>\n",
       "      <td>-1</td>\n",
       "      <td>0</td>\n",
       "      <td>1</td>\n",
       "    </tr>\n",
       "    <tr>\n",
       "      <th>4</th>\n",
       "      <td>AURO</td>\n",
       "      <td>2/16/2021 2:30</td>\n",
       "      <td>17.7</td>\n",
       "      <td>temp_wxt</td>\n",
       "      <td>0</td>\n",
       "      <td>2</td>\n",
       "      <td>-1</td>\n",
       "      <td>0</td>\n",
       "      <td>1</td>\n",
       "    </tr>\n",
       "  </tbody>\n",
       "</table>\n",
       "</div>"
      ],
      "text/plain": [
       "  Station              Ob  value   measure  target  R_flag  I_flag  Z_flag  \\\n",
       "0    AURO   1/2/2021 0:30   19.2  temp_wxt       0       2      -1       0   \n",
       "1    AURO   1/2/2021 4:30   19.8  temp_wxt       0       2      -1       0   \n",
       "2    AURO   1/2/2021 5:30   19.5  temp_wxt       0       2      -1       0   \n",
       "3    AURO   1/2/2021 7:30   18.5  temp_wxt       0       2      -1       0   \n",
       "4    AURO  2/16/2021 2:30   17.7  temp_wxt       0       2      -1       0   \n",
       "\n",
       "   B_flag  \n",
       "0       1  \n",
       "1       1  \n",
       "2       1  \n",
       "3       1  \n",
       "4       1  "
      ]
     },
     "execution_count": 2,
     "metadata": {},
     "output_type": "execute_result"
    }
   ],
   "source": [
    "train = pd.read_csv(\"./train.csv\")\n",
    "train[\"target\"] = train[\"target\"].astype(int)\n",
    "train.head()\n",
    "\n"
   ]
  },
  {
   "cell_type": "code",
   "execution_count": 3,
   "metadata": {},
   "outputs": [
    {
     "data": {
      "text/plain": [
       "Station    0\n",
       "Ob         0\n",
       "value      0\n",
       "measure    0\n",
       "target     0\n",
       "R_flag     0\n",
       "I_flag     0\n",
       "Z_flag     0\n",
       "B_flag     0\n",
       "dtype: int64"
      ]
     },
     "execution_count": 3,
     "metadata": {},
     "output_type": "execute_result"
    }
   ],
   "source": [
    "# Check missing value for train.csv\n",
    "train.isnull().sum()\n"
   ]
  },
  {
   "cell_type": "code",
   "execution_count": 4,
   "metadata": {},
   "outputs": [
    {
     "data": {
      "text/html": [
       "<div>\n",
       "<style scoped>\n",
       "    .dataframe tbody tr th:only-of-type {\n",
       "        vertical-align: middle;\n",
       "    }\n",
       "\n",
       "    .dataframe tbody tr th {\n",
       "        vertical-align: top;\n",
       "    }\n",
       "\n",
       "    .dataframe thead th {\n",
       "        text-align: right;\n",
       "    }\n",
       "</style>\n",
       "<table border=\"1\" class=\"dataframe\">\n",
       "  <thead>\n",
       "    <tr style=\"text-align: right;\">\n",
       "      <th></th>\n",
       "      <th>Unnamed: 0</th>\n",
       "      <th>Station</th>\n",
       "      <th>Ob</th>\n",
       "      <th>value</th>\n",
       "      <th>measure</th>\n",
       "      <th>target</th>\n",
       "      <th>R_flag</th>\n",
       "      <th>I_flag</th>\n",
       "      <th>Z_flag</th>\n",
       "      <th>B_flag</th>\n",
       "    </tr>\n",
       "  </thead>\n",
       "  <tbody>\n",
       "    <tr>\n",
       "      <th>0</th>\n",
       "      <td>0</td>\n",
       "      <td>BEAR</td>\n",
       "      <td>6/18/2021 14:16</td>\n",
       "      <td>10.577090</td>\n",
       "      <td>precip</td>\n",
       "      <td>1</td>\n",
       "      <td>0</td>\n",
       "      <td>0</td>\n",
       "      <td>-1</td>\n",
       "      <td>-1</td>\n",
       "    </tr>\n",
       "    <tr>\n",
       "      <th>1</th>\n",
       "      <td>1</td>\n",
       "      <td>REED</td>\n",
       "      <td>3/26/2021 15:59</td>\n",
       "      <td>12.303075</td>\n",
       "      <td>temp10</td>\n",
       "      <td>1</td>\n",
       "      <td>1</td>\n",
       "      <td>0</td>\n",
       "      <td>0</td>\n",
       "      <td>1</td>\n",
       "    </tr>\n",
       "    <tr>\n",
       "      <th>2</th>\n",
       "      <td>2</td>\n",
       "      <td>BEAR</td>\n",
       "      <td>2/18/2021 15:53</td>\n",
       "      <td>-1.538304</td>\n",
       "      <td>sr</td>\n",
       "      <td>1</td>\n",
       "      <td>0</td>\n",
       "      <td>-1</td>\n",
       "      <td>-1</td>\n",
       "      <td>-1</td>\n",
       "    </tr>\n",
       "    <tr>\n",
       "      <th>3</th>\n",
       "      <td>3</td>\n",
       "      <td>CLIN</td>\n",
       "      <td>2/7/2021 3:45</td>\n",
       "      <td>449.400027</td>\n",
       "      <td>ws02</td>\n",
       "      <td>1</td>\n",
       "      <td>0</td>\n",
       "      <td>-1</td>\n",
       "      <td>0</td>\n",
       "      <td>0</td>\n",
       "    </tr>\n",
       "    <tr>\n",
       "      <th>4</th>\n",
       "      <td>4</td>\n",
       "      <td>NEWL</td>\n",
       "      <td>1/7/2021 4:06</td>\n",
       "      <td>45.721796</td>\n",
       "      <td>sr</td>\n",
       "      <td>1</td>\n",
       "      <td>0</td>\n",
       "      <td>-1</td>\n",
       "      <td>0</td>\n",
       "      <td>-1</td>\n",
       "    </tr>\n",
       "  </tbody>\n",
       "</table>\n",
       "</div>"
      ],
      "text/plain": [
       "   Unnamed: 0 Station               Ob       value measure  target  R_flag  \\\n",
       "0           0    BEAR  6/18/2021 14:16   10.577090  precip       1       0   \n",
       "1           1    REED  3/26/2021 15:59   12.303075  temp10       1       1   \n",
       "2           2    BEAR  2/18/2021 15:53   -1.538304      sr       1       0   \n",
       "3           3    CLIN    2/7/2021 3:45  449.400027    ws02       1       0   \n",
       "4           4    NEWL    1/7/2021 4:06   45.721796      sr       1       0   \n",
       "\n",
       "   I_flag  Z_flag  B_flag  \n",
       "0       0      -1      -1  \n",
       "1       0       0       1  \n",
       "2      -1      -1      -1  \n",
       "3      -1       0       0  \n",
       "4      -1       0      -1  "
      ]
     },
     "execution_count": 4,
     "metadata": {},
     "output_type": "execute_result"
    }
   ],
   "source": [
    "synthetic_true = pd.read_csv(\"./Synthetic_true_complete.csv\")\n",
    "synthetic_true[\"target\"] = synthetic_true[\"target\"].astype(int)\n",
    "synthetic_true.head()"
   ]
  },
  {
   "cell_type": "code",
   "execution_count": 5,
   "metadata": {},
   "outputs": [
    {
     "data": {
      "text/html": [
       "<div>\n",
       "<style scoped>\n",
       "    .dataframe tbody tr th:only-of-type {\n",
       "        vertical-align: middle;\n",
       "    }\n",
       "\n",
       "    .dataframe tbody tr th {\n",
       "        vertical-align: top;\n",
       "    }\n",
       "\n",
       "    .dataframe thead th {\n",
       "        text-align: right;\n",
       "    }\n",
       "</style>\n",
       "<table border=\"1\" class=\"dataframe\">\n",
       "  <thead>\n",
       "    <tr style=\"text-align: right;\">\n",
       "      <th></th>\n",
       "      <th>Station</th>\n",
       "      <th>Ob</th>\n",
       "      <th>value</th>\n",
       "      <th>measure</th>\n",
       "      <th>target</th>\n",
       "      <th>R_flag</th>\n",
       "      <th>I_flag</th>\n",
       "      <th>Z_flag</th>\n",
       "      <th>B_flag</th>\n",
       "    </tr>\n",
       "  </thead>\n",
       "  <tbody>\n",
       "    <tr>\n",
       "      <th>0</th>\n",
       "      <td>BEAR</td>\n",
       "      <td>6/18/2021 14:16</td>\n",
       "      <td>10.577090</td>\n",
       "      <td>precip</td>\n",
       "      <td>1</td>\n",
       "      <td>0</td>\n",
       "      <td>0</td>\n",
       "      <td>-1</td>\n",
       "      <td>-1</td>\n",
       "    </tr>\n",
       "    <tr>\n",
       "      <th>1</th>\n",
       "      <td>REED</td>\n",
       "      <td>3/26/2021 15:59</td>\n",
       "      <td>12.303075</td>\n",
       "      <td>temp10</td>\n",
       "      <td>1</td>\n",
       "      <td>1</td>\n",
       "      <td>0</td>\n",
       "      <td>0</td>\n",
       "      <td>1</td>\n",
       "    </tr>\n",
       "    <tr>\n",
       "      <th>2</th>\n",
       "      <td>BEAR</td>\n",
       "      <td>2/18/2021 15:53</td>\n",
       "      <td>-1.538304</td>\n",
       "      <td>sr</td>\n",
       "      <td>1</td>\n",
       "      <td>0</td>\n",
       "      <td>-1</td>\n",
       "      <td>-1</td>\n",
       "      <td>-1</td>\n",
       "    </tr>\n",
       "    <tr>\n",
       "      <th>3</th>\n",
       "      <td>CLIN</td>\n",
       "      <td>2/7/2021 3:45</td>\n",
       "      <td>449.400027</td>\n",
       "      <td>ws02</td>\n",
       "      <td>1</td>\n",
       "      <td>0</td>\n",
       "      <td>-1</td>\n",
       "      <td>0</td>\n",
       "      <td>0</td>\n",
       "    </tr>\n",
       "    <tr>\n",
       "      <th>4</th>\n",
       "      <td>NEWL</td>\n",
       "      <td>1/7/2021 4:06</td>\n",
       "      <td>45.721796</td>\n",
       "      <td>sr</td>\n",
       "      <td>1</td>\n",
       "      <td>0</td>\n",
       "      <td>-1</td>\n",
       "      <td>0</td>\n",
       "      <td>-1</td>\n",
       "    </tr>\n",
       "  </tbody>\n",
       "</table>\n",
       "</div>"
      ],
      "text/plain": [
       "  Station               Ob       value measure  target  R_flag  I_flag  \\\n",
       "0    BEAR  6/18/2021 14:16   10.577090  precip       1       0       0   \n",
       "1    REED  3/26/2021 15:59   12.303075  temp10       1       1       0   \n",
       "2    BEAR  2/18/2021 15:53   -1.538304      sr       1       0      -1   \n",
       "3    CLIN    2/7/2021 3:45  449.400027    ws02       1       0      -1   \n",
       "4    NEWL    1/7/2021 4:06   45.721796      sr       1       0      -1   \n",
       "\n",
       "   Z_flag  B_flag  \n",
       "0      -1      -1  \n",
       "1       0       1  \n",
       "2      -1      -1  \n",
       "3       0       0  \n",
       "4       0      -1  "
      ]
     },
     "execution_count": 5,
     "metadata": {},
     "output_type": "execute_result"
    }
   ],
   "source": [
    "synthetic_true = synthetic_true.drop(columns=['Unnamed: 0'])\n",
    "synthetic_true.head()"
   ]
  },
  {
   "cell_type": "code",
   "execution_count": 6,
   "metadata": {},
   "outputs": [
    {
     "data": {
      "text/plain": [
       "Station    0\n",
       "Ob         0\n",
       "value      0\n",
       "measure    0\n",
       "target     0\n",
       "R_flag     0\n",
       "I_flag     0\n",
       "Z_flag     0\n",
       "B_flag     0\n",
       "dtype: int64"
      ]
     },
     "execution_count": 6,
     "metadata": {},
     "output_type": "execute_result"
    }
   ],
   "source": [
    "# Check missing value for train.csv\n",
    "synthetic_true.isnull().sum()"
   ]
  },
  {
   "cell_type": "code",
   "execution_count": null,
   "metadata": {},
   "outputs": [],
   "source": [
    "# Numerical Feature: 'value', 'Ob', R_flag', 'I_flag', 'Z_flag','B_flag'\n",
    "_,axss = plt.subplots(2,3, figsize=[20,10])\n",
    "sns.boxplot(x='target', y ='value', data=train, ax=axss[0][0])\n",
    "sns.boxplot(x='target', y ='R_flag', data=train, ax=axss[0][1])\n",
    "sns.boxplot(x='target', y ='I_flag', data=train, ax=axss[0][2])\n",
    "sns.boxplot(x='target', y ='Z_flag', data=train, ax=axss[1][0])\n",
    "sns.boxplot(x='target', y ='B_flag', data=train, ax=axss[1][1])\n"
   ]
  },
  {
   "cell_type": "code",
   "execution_count": null,
   "metadata": {},
   "outputs": [],
   "source": [
    "# Correlation Plot\n",
    "corr_score = train[['value', 'R_flag', 'I_flag', 'Z_flag','B_flag']].corr()\n",
    "corr_score\n"
   ]
  },
  {
   "cell_type": "code",
   "execution_count": null,
   "metadata": {},
   "outputs": [],
   "source": [
    "# Categorial Feature\n",
    "_,axss = plt.subplots(figsize=[10,10])\n",
    "sns.countplot(x='target', hue='measure', data=train)\n"
   ]
  },
  {
   "cell_type": "code",
   "execution_count": null,
   "metadata": {},
   "outputs": [],
   "source": [
    "sns.countplot(x='target', hue='Station', data=train)\n"
   ]
  },
  {
   "cell_type": "code",
   "execution_count": null,
   "metadata": {},
   "outputs": [],
   "source": [
    "# Split categorical var and numerical var\n",
    "train.dtypes"
   ]
  },
  {
   "cell_type": "code",
   "execution_count": 7,
   "metadata": {},
   "outputs": [],
   "source": [
    "y_train = train.iloc[:, 4]\n",
    "y_synthetic_true = synthetic_true.iloc[:, 4]"
   ]
  },
  {
   "cell_type": "code",
   "execution_count": 8,
   "metadata": {
    "scrolled": true
   },
   "outputs": [
    {
     "data": {
      "text/plain": [
       "0         1\n",
       "1         1\n",
       "2         1\n",
       "3         1\n",
       "4         1\n",
       "         ..\n",
       "629995    1\n",
       "629996    1\n",
       "629997    1\n",
       "629998    1\n",
       "629999    1\n",
       "Name: target, Length: 630000, dtype: int64"
      ]
     },
     "execution_count": 8,
     "metadata": {},
     "output_type": "execute_result"
    }
   ],
   "source": [
    "y_synthetic_true"
   ]
  },
  {
   "cell_type": "code",
   "execution_count": 9,
   "metadata": {},
   "outputs": [],
   "source": [
    "# drop target and Ob\n",
    "drop_target=['target', 'Ob']\n",
    "X_train = train.drop(drop_target, axis=1)\n",
    "x_synthetic_true = synthetic_true.drop(drop_target, axis=1)"
   ]
  },
  {
   "cell_type": "code",
   "execution_count": 10,
   "metadata": {},
   "outputs": [
    {
     "data": {
      "text/plain": [
       "Station     object\n",
       "value      float64\n",
       "measure     object\n",
       "R_flag       int64\n",
       "I_flag       int64\n",
       "Z_flag       int64\n",
       "B_flag       int64\n",
       "dtype: object"
      ]
     },
     "execution_count": 10,
     "metadata": {},
     "output_type": "execute_result"
    }
   ],
   "source": [
    "# Split categorical var and numerical var\n",
    "X_train.dtypes"
   ]
  },
  {
   "cell_type": "code",
   "execution_count": 11,
   "metadata": {},
   "outputs": [
    {
     "data": {
      "text/plain": [
       "Station     object\n",
       "value      float64\n",
       "measure     object\n",
       "R_flag       int64\n",
       "I_flag       int64\n",
       "Z_flag       int64\n",
       "B_flag       int64\n",
       "dtype: object"
      ]
     },
     "execution_count": 11,
     "metadata": {},
     "output_type": "execute_result"
    }
   ],
   "source": [
    "x_synthetic_true.dtypes"
   ]
  },
  {
   "cell_type": "code",
   "execution_count": 12,
   "metadata": {},
   "outputs": [],
   "source": [
    "cat_cols = X_train.columns[X_train.dtypes == 'O']\n",
    "num_cols = X_train.columns[(X_train.dtypes == 'float64') | (X_train.dtypes == 'int64')]"
   ]
  },
  {
   "cell_type": "code",
   "execution_count": 13,
   "metadata": {},
   "outputs": [
    {
     "name": "stdout",
     "output_type": "stream",
     "text": [
      "Requirement already satisfied: imbalanced-learn in /Users/zijunlu/opt/anaconda3/lib/python3.8/site-packages (0.9.0)\n",
      "Requirement already satisfied: scikit-learn>=1.0.1 in /Users/zijunlu/opt/anaconda3/lib/python3.8/site-packages (from imbalanced-learn) (1.0.2)\n",
      "Requirement already satisfied: scipy>=1.1.0 in /Users/zijunlu/opt/anaconda3/lib/python3.8/site-packages (from imbalanced-learn) (1.5.2)\n",
      "Requirement already satisfied: joblib>=0.11 in /Users/zijunlu/opt/anaconda3/lib/python3.8/site-packages (from imbalanced-learn) (0.17.0)\n",
      "Requirement already satisfied: numpy>=1.14.6 in /Users/zijunlu/opt/anaconda3/lib/python3.8/site-packages (from imbalanced-learn) (1.22.3)\n",
      "Requirement already satisfied: threadpoolctl>=2.0.0 in /Users/zijunlu/opt/anaconda3/lib/python3.8/site-packages (from imbalanced-learn) (2.1.0)\n"
     ]
    }
   ],
   "source": [
    "!pip install imbalanced-learn\n"
   ]
  },
  {
   "cell_type": "code",
   "execution_count": 14,
   "metadata": {},
   "outputs": [
    {
     "name": "stdout",
     "output_type": "stream",
     "text": [
      "0.9.0\n"
     ]
    }
   ],
   "source": [
    "import imblearn\n",
    "print(imblearn.__version__)"
   ]
  },
  {
   "cell_type": "code",
   "execution_count": 15,
   "metadata": {},
   "outputs": [
    {
     "name": "stdout",
     "output_type": "stream",
     "text": [
      "Counter({0: 6358102, 1: 235172})\n",
      "Counter({0: 864602, 1: 235172})\n"
     ]
    }
   ],
   "source": [
    "# example of random undersampling to balance the class distribution\n",
    "from collections import Counter\n",
    "from imblearn.under_sampling import RandomUnderSampler\n",
    "# summarize class distribution\n",
    "print(Counter(y_train))\n",
    "# define undersample strategy\n",
    "undersample = RandomUnderSampler(sampling_strategy=0.272)\n",
    "# fit and apply the transform\n",
    "X_over, y_over = undersample.fit_resample(X_train, y_train)\n",
    "# summarize class distribution\n",
    "print(Counter(y_over))"
   ]
  },
  {
   "cell_type": "code",
   "execution_count": 16,
   "metadata": {},
   "outputs": [
    {
     "name": "stdout",
     "output_type": "stream",
     "text": [
      "<class 'pandas.core.frame.DataFrame'>\n",
      "Int64Index: 1729774 entries, 0 to 629999\n",
      "Data columns (total 7 columns):\n",
      " #   Column   Dtype  \n",
      "---  ------   -----  \n",
      " 0   Station  object \n",
      " 1   value    float64\n",
      " 2   measure  object \n",
      " 3   R_flag   int64  \n",
      " 4   I_flag   int64  \n",
      " 5   Z_flag   int64  \n",
      " 6   B_flag   int64  \n",
      "dtypes: float64(1), int64(4), object(2)\n",
      "memory usage: 105.6+ MB\n"
     ]
    }
   ],
   "source": [
    "# combine undersample data with synthetic true\n",
    "X = pd.concat([X_over, x_synthetic_true])\n",
    "X.info()"
   ]
  },
  {
   "cell_type": "code",
   "execution_count": 17,
   "metadata": {},
   "outputs": [
    {
     "name": "stdout",
     "output_type": "stream",
     "text": [
      "Counter({1: 865172, 0: 864602})\n"
     ]
    }
   ],
   "source": [
    "# Verify the numbers of true class and false class. We have roughtly 1:1 ratio\n",
    "y = pd.concat([y_over, y_synthetic_true])\n",
    "print(Counter(y))"
   ]
  },
  {
   "cell_type": "code",
   "execution_count": 18,
   "metadata": {},
   "outputs": [],
   "source": [
    "cat_cols = X_train.columns[X_train.dtypes == 'O']\n",
    "num_cols = X_train.columns[(X_train.dtypes == 'float64') | (X_train.dtypes == 'int64')]"
   ]
  },
  {
   "cell_type": "code",
   "execution_count": 19,
   "metadata": {},
   "outputs": [
    {
     "name": "stdout",
     "output_type": "stream",
     "text": [
      "training data has 1037864 observation with 7 features\n",
      "test data has 691910 observation with 7 features\n"
     ]
    }
   ],
   "source": [
    "# split dataset\n",
    "from sklearn import model_selection\n",
    "\n",
    "X_train, X_test, y_train, y_test = model_selection.train_test_split(X, y, test_size=0.40, random_state=1)\n",
    "\n",
    "print('training data has ' + str(X_train.shape[0]) + ' observation with ' + str(X_train.shape[1]) + ' features')\n",
    "print('test data has ' + str(X_test.shape[0]) + ' observation with ' + str(X_test.shape[1]) + ' features')"
   ]
  },
  {
   "cell_type": "code",
   "execution_count": 29,
   "metadata": {},
   "outputs": [
    {
     "data": {
      "text/plain": [
       "Station                    object\n",
       "value                     float64\n",
       "R_flag                      int64\n",
       "I_flag                      int64\n",
       "Z_flag                      int64\n",
       "B_flag                      int64\n",
       "measure_blackglobetemp    float64\n",
       "measure_impact            float64\n",
       "measure_leafwetness       float64\n",
       "measure_par               float64\n",
       "measure_precip            float64\n",
       "measure_pres              float64\n",
       "measure_rh_hmp            float64\n",
       "measure_rh_wxt            float64\n",
       "measure_sm                float64\n",
       "measure_sr                float64\n",
       "measure_st                float64\n",
       "measure_temp10            float64\n",
       "measure_temp_wxt          float64\n",
       "measure_ws02              float64\n",
       "measure_ws06              float64\n",
       "measure_ws10              float64\n",
       "dtype: object"
      ]
     },
     "execution_count": 29,
     "metadata": {},
     "output_type": "execute_result"
    }
   ],
   "source": [
    "X_train.dtypes"
   ]
  },
  {
   "cell_type": "code",
   "execution_count": 32,
   "metadata": {},
   "outputs": [],
   "source": [
    "\n",
    "\n",
    "\n",
    "# One hot encoding for Station\n",
    "from sklearn.preprocessing import OneHotEncoder\n",
    "\n",
    "def OneHotEncoding(df, enc, categories):  \n",
    "  transformed = pd.DataFrame(enc.transform(df[categories]).toarray(), columns=enc.get_feature_names_out(categories))\n",
    "  return pd.concat([df.reset_index(drop=True), transformed], axis=1).drop(categories, axis=1)\n",
    "\n",
    "categories = ['Station']\n",
    "enc_ohe = OneHotEncoder()\n",
    "enc_ohe.fit(X_train[categories])\n",
    "\n",
    "X_train = OneHotEncoding(X_train, enc_ohe, categories)\n",
    "X_test = OneHotEncoding(X_test, enc_ohe, categories)"
   ]
  },
  {
   "cell_type": "code",
   "execution_count": 33,
   "metadata": {},
   "outputs": [
    {
     "data": {
      "text/plain": [
       "value           float64\n",
       "R_flag            int64\n",
       "I_flag            int64\n",
       "Z_flag            int64\n",
       "B_flag            int64\n",
       "                 ...   \n",
       "Station_WAYN    float64\n",
       "Station_WHIT    float64\n",
       "Station_WILD    float64\n",
       "Station_WILL    float64\n",
       "Station_WINE    float64\n",
       "Length: 64, dtype: object"
      ]
     },
     "execution_count": 33,
     "metadata": {},
     "output_type": "execute_result"
    }
   ],
   "source": [
    "# One hot encoding for measure\n",
    "categories = ['measure']\n",
    "enc_ohe = OneHotEncoder()\n",
    "enc_ohe.fit(X_train[categories])\n",
    "\n",
    "X_train = OneHotEncoding(X_train, enc_ohe, categories)\n",
    "X_test = OneHotEncoding(X_test, enc_ohe, categories)"
   ]
  },
  {
   "cell_type": "code",
   "execution_count": 34,
   "metadata": {},
   "outputs": [],
   "source": [
    "# Standardize and Normalize Data\n",
    "\n",
    "from sklearn.preprocessing import StandardScaler\n",
    "scaler = StandardScaler()\n",
    "scaler.fit(X_train[num_cols])\n",
    "X_train[num_cols] = scaler.transform(X_train[num_cols])\n",
    "X_test[num_cols] = scaler.transform(X_test[num_cols])"
   ]
  },
  {
   "cell_type": "code",
   "execution_count": 35,
   "metadata": {},
   "outputs": [
    {
     "data": {
      "text/html": [
       "<div>\n",
       "<style scoped>\n",
       "    .dataframe tbody tr th:only-of-type {\n",
       "        vertical-align: middle;\n",
       "    }\n",
       "\n",
       "    .dataframe tbody tr th {\n",
       "        vertical-align: top;\n",
       "    }\n",
       "\n",
       "    .dataframe thead th {\n",
       "        text-align: right;\n",
       "    }\n",
       "</style>\n",
       "<table border=\"1\" class=\"dataframe\">\n",
       "  <thead>\n",
       "    <tr style=\"text-align: right;\">\n",
       "      <th></th>\n",
       "      <th>value</th>\n",
       "      <th>R_flag</th>\n",
       "      <th>I_flag</th>\n",
       "      <th>Z_flag</th>\n",
       "      <th>B_flag</th>\n",
       "      <th>measure_blackglobetemp</th>\n",
       "      <th>measure_impact</th>\n",
       "      <th>measure_leafwetness</th>\n",
       "      <th>measure_par</th>\n",
       "      <th>measure_precip</th>\n",
       "      <th>...</th>\n",
       "      <th>Station_SILR</th>\n",
       "      <th>Station_SPIN</th>\n",
       "      <th>Station_SPRU</th>\n",
       "      <th>Station_TAYL</th>\n",
       "      <th>Station_UNCA</th>\n",
       "      <th>Station_WAYN</th>\n",
       "      <th>Station_WHIT</th>\n",
       "      <th>Station_WILD</th>\n",
       "      <th>Station_WILL</th>\n",
       "      <th>Station_WINE</th>\n",
       "    </tr>\n",
       "  </thead>\n",
       "  <tbody>\n",
       "    <tr>\n",
       "      <th>0</th>\n",
       "      <td>0.005342</td>\n",
       "      <td>-0.369608</td>\n",
       "      <td>-0.532199</td>\n",
       "      <td>0.673022</td>\n",
       "      <td>0.687156</td>\n",
       "      <td>0.0</td>\n",
       "      <td>0.0</td>\n",
       "      <td>0.0</td>\n",
       "      <td>0.0</td>\n",
       "      <td>0.0</td>\n",
       "      <td>...</td>\n",
       "      <td>0.0</td>\n",
       "      <td>0.0</td>\n",
       "      <td>0.0</td>\n",
       "      <td>0.0</td>\n",
       "      <td>0.0</td>\n",
       "      <td>0.0</td>\n",
       "      <td>0.0</td>\n",
       "      <td>0.0</td>\n",
       "      <td>0.0</td>\n",
       "      <td>0.0</td>\n",
       "    </tr>\n",
       "    <tr>\n",
       "      <th>1</th>\n",
       "      <td>-0.295225</td>\n",
       "      <td>-0.369608</td>\n",
       "      <td>-0.532199</td>\n",
       "      <td>-0.476771</td>\n",
       "      <td>0.687156</td>\n",
       "      <td>0.0</td>\n",
       "      <td>0.0</td>\n",
       "      <td>0.0</td>\n",
       "      <td>0.0</td>\n",
       "      <td>0.0</td>\n",
       "      <td>...</td>\n",
       "      <td>0.0</td>\n",
       "      <td>0.0</td>\n",
       "      <td>1.0</td>\n",
       "      <td>0.0</td>\n",
       "      <td>0.0</td>\n",
       "      <td>0.0</td>\n",
       "      <td>0.0</td>\n",
       "      <td>0.0</td>\n",
       "      <td>0.0</td>\n",
       "      <td>0.0</td>\n",
       "    </tr>\n",
       "    <tr>\n",
       "      <th>2</th>\n",
       "      <td>-0.345830</td>\n",
       "      <td>-0.369608</td>\n",
       "      <td>-0.532199</td>\n",
       "      <td>-0.476771</td>\n",
       "      <td>0.687156</td>\n",
       "      <td>0.0</td>\n",
       "      <td>0.0</td>\n",
       "      <td>0.0</td>\n",
       "      <td>0.0</td>\n",
       "      <td>0.0</td>\n",
       "      <td>...</td>\n",
       "      <td>0.0</td>\n",
       "      <td>0.0</td>\n",
       "      <td>0.0</td>\n",
       "      <td>0.0</td>\n",
       "      <td>0.0</td>\n",
       "      <td>0.0</td>\n",
       "      <td>0.0</td>\n",
       "      <td>0.0</td>\n",
       "      <td>0.0</td>\n",
       "      <td>0.0</td>\n",
       "    </tr>\n",
       "    <tr>\n",
       "      <th>3</th>\n",
       "      <td>-0.346606</td>\n",
       "      <td>-0.369608</td>\n",
       "      <td>-0.532199</td>\n",
       "      <td>-0.476771</td>\n",
       "      <td>0.687156</td>\n",
       "      <td>0.0</td>\n",
       "      <td>0.0</td>\n",
       "      <td>0.0</td>\n",
       "      <td>0.0</td>\n",
       "      <td>0.0</td>\n",
       "      <td>...</td>\n",
       "      <td>0.0</td>\n",
       "      <td>0.0</td>\n",
       "      <td>0.0</td>\n",
       "      <td>0.0</td>\n",
       "      <td>0.0</td>\n",
       "      <td>0.0</td>\n",
       "      <td>0.0</td>\n",
       "      <td>0.0</td>\n",
       "      <td>0.0</td>\n",
       "      <td>0.0</td>\n",
       "    </tr>\n",
       "    <tr>\n",
       "      <th>4</th>\n",
       "      <td>-0.347456</td>\n",
       "      <td>-0.369608</td>\n",
       "      <td>-0.532199</td>\n",
       "      <td>2.972607</td>\n",
       "      <td>-0.998856</td>\n",
       "      <td>0.0</td>\n",
       "      <td>0.0</td>\n",
       "      <td>0.0</td>\n",
       "      <td>0.0</td>\n",
       "      <td>0.0</td>\n",
       "      <td>...</td>\n",
       "      <td>0.0</td>\n",
       "      <td>0.0</td>\n",
       "      <td>0.0</td>\n",
       "      <td>0.0</td>\n",
       "      <td>0.0</td>\n",
       "      <td>0.0</td>\n",
       "      <td>0.0</td>\n",
       "      <td>0.0</td>\n",
       "      <td>0.0</td>\n",
       "      <td>0.0</td>\n",
       "    </tr>\n",
       "    <tr>\n",
       "      <th>...</th>\n",
       "      <td>...</td>\n",
       "      <td>...</td>\n",
       "      <td>...</td>\n",
       "      <td>...</td>\n",
       "      <td>...</td>\n",
       "      <td>...</td>\n",
       "      <td>...</td>\n",
       "      <td>...</td>\n",
       "      <td>...</td>\n",
       "      <td>...</td>\n",
       "      <td>...</td>\n",
       "      <td>...</td>\n",
       "      <td>...</td>\n",
       "      <td>...</td>\n",
       "      <td>...</td>\n",
       "      <td>...</td>\n",
       "      <td>...</td>\n",
       "      <td>...</td>\n",
       "      <td>...</td>\n",
       "      <td>...</td>\n",
       "      <td>...</td>\n",
       "    </tr>\n",
       "    <tr>\n",
       "      <th>1037859</th>\n",
       "      <td>-0.346928</td>\n",
       "      <td>-0.369608</td>\n",
       "      <td>-0.532199</td>\n",
       "      <td>-0.476771</td>\n",
       "      <td>0.687156</td>\n",
       "      <td>0.0</td>\n",
       "      <td>0.0</td>\n",
       "      <td>0.0</td>\n",
       "      <td>0.0</td>\n",
       "      <td>0.0</td>\n",
       "      <td>...</td>\n",
       "      <td>0.0</td>\n",
       "      <td>0.0</td>\n",
       "      <td>0.0</td>\n",
       "      <td>0.0</td>\n",
       "      <td>0.0</td>\n",
       "      <td>0.0</td>\n",
       "      <td>0.0</td>\n",
       "      <td>0.0</td>\n",
       "      <td>0.0</td>\n",
       "      <td>1.0</td>\n",
       "    </tr>\n",
       "    <tr>\n",
       "      <th>1037860</th>\n",
       "      <td>-0.346744</td>\n",
       "      <td>-0.369608</td>\n",
       "      <td>-0.532199</td>\n",
       "      <td>-0.476771</td>\n",
       "      <td>0.687156</td>\n",
       "      <td>0.0</td>\n",
       "      <td>0.0</td>\n",
       "      <td>0.0</td>\n",
       "      <td>0.0</td>\n",
       "      <td>0.0</td>\n",
       "      <td>...</td>\n",
       "      <td>0.0</td>\n",
       "      <td>0.0</td>\n",
       "      <td>0.0</td>\n",
       "      <td>0.0</td>\n",
       "      <td>0.0</td>\n",
       "      <td>0.0</td>\n",
       "      <td>0.0</td>\n",
       "      <td>0.0</td>\n",
       "      <td>0.0</td>\n",
       "      <td>0.0</td>\n",
       "    </tr>\n",
       "    <tr>\n",
       "      <th>1037861</th>\n",
       "      <td>-0.312253</td>\n",
       "      <td>-0.369608</td>\n",
       "      <td>-0.532199</td>\n",
       "      <td>-0.476771</td>\n",
       "      <td>0.687156</td>\n",
       "      <td>0.0</td>\n",
       "      <td>0.0</td>\n",
       "      <td>0.0</td>\n",
       "      <td>0.0</td>\n",
       "      <td>0.0</td>\n",
       "      <td>...</td>\n",
       "      <td>0.0</td>\n",
       "      <td>0.0</td>\n",
       "      <td>0.0</td>\n",
       "      <td>0.0</td>\n",
       "      <td>0.0</td>\n",
       "      <td>0.0</td>\n",
       "      <td>0.0</td>\n",
       "      <td>0.0</td>\n",
       "      <td>0.0</td>\n",
       "      <td>0.0</td>\n",
       "    </tr>\n",
       "    <tr>\n",
       "      <th>1037862</th>\n",
       "      <td>-0.346568</td>\n",
       "      <td>-0.369608</td>\n",
       "      <td>-0.532199</td>\n",
       "      <td>-0.476771</td>\n",
       "      <td>0.687156</td>\n",
       "      <td>0.0</td>\n",
       "      <td>0.0</td>\n",
       "      <td>0.0</td>\n",
       "      <td>0.0</td>\n",
       "      <td>0.0</td>\n",
       "      <td>...</td>\n",
       "      <td>0.0</td>\n",
       "      <td>0.0</td>\n",
       "      <td>0.0</td>\n",
       "      <td>0.0</td>\n",
       "      <td>0.0</td>\n",
       "      <td>0.0</td>\n",
       "      <td>0.0</td>\n",
       "      <td>0.0</td>\n",
       "      <td>0.0</td>\n",
       "      <td>0.0</td>\n",
       "    </tr>\n",
       "    <tr>\n",
       "      <th>1037863</th>\n",
       "      <td>-0.345382</td>\n",
       "      <td>-0.369608</td>\n",
       "      <td>-0.532199</td>\n",
       "      <td>-0.476771</td>\n",
       "      <td>1.530162</td>\n",
       "      <td>0.0</td>\n",
       "      <td>0.0</td>\n",
       "      <td>0.0</td>\n",
       "      <td>0.0</td>\n",
       "      <td>0.0</td>\n",
       "      <td>...</td>\n",
       "      <td>0.0</td>\n",
       "      <td>0.0</td>\n",
       "      <td>0.0</td>\n",
       "      <td>0.0</td>\n",
       "      <td>0.0</td>\n",
       "      <td>0.0</td>\n",
       "      <td>0.0</td>\n",
       "      <td>0.0</td>\n",
       "      <td>0.0</td>\n",
       "      <td>0.0</td>\n",
       "    </tr>\n",
       "  </tbody>\n",
       "</table>\n",
       "<p>1037864 rows × 64 columns</p>\n",
       "</div>"
      ],
      "text/plain": [
       "            value    R_flag    I_flag    Z_flag    B_flag  \\\n",
       "0        0.005342 -0.369608 -0.532199  0.673022  0.687156   \n",
       "1       -0.295225 -0.369608 -0.532199 -0.476771  0.687156   \n",
       "2       -0.345830 -0.369608 -0.532199 -0.476771  0.687156   \n",
       "3       -0.346606 -0.369608 -0.532199 -0.476771  0.687156   \n",
       "4       -0.347456 -0.369608 -0.532199  2.972607 -0.998856   \n",
       "...           ...       ...       ...       ...       ...   \n",
       "1037859 -0.346928 -0.369608 -0.532199 -0.476771  0.687156   \n",
       "1037860 -0.346744 -0.369608 -0.532199 -0.476771  0.687156   \n",
       "1037861 -0.312253 -0.369608 -0.532199 -0.476771  0.687156   \n",
       "1037862 -0.346568 -0.369608 -0.532199 -0.476771  0.687156   \n",
       "1037863 -0.345382 -0.369608 -0.532199 -0.476771  1.530162   \n",
       "\n",
       "         measure_blackglobetemp  measure_impact  measure_leafwetness  \\\n",
       "0                           0.0             0.0                  0.0   \n",
       "1                           0.0             0.0                  0.0   \n",
       "2                           0.0             0.0                  0.0   \n",
       "3                           0.0             0.0                  0.0   \n",
       "4                           0.0             0.0                  0.0   \n",
       "...                         ...             ...                  ...   \n",
       "1037859                     0.0             0.0                  0.0   \n",
       "1037860                     0.0             0.0                  0.0   \n",
       "1037861                     0.0             0.0                  0.0   \n",
       "1037862                     0.0             0.0                  0.0   \n",
       "1037863                     0.0             0.0                  0.0   \n",
       "\n",
       "         measure_par  measure_precip  ...  Station_SILR  Station_SPIN  \\\n",
       "0                0.0             0.0  ...           0.0           0.0   \n",
       "1                0.0             0.0  ...           0.0           0.0   \n",
       "2                0.0             0.0  ...           0.0           0.0   \n",
       "3                0.0             0.0  ...           0.0           0.0   \n",
       "4                0.0             0.0  ...           0.0           0.0   \n",
       "...              ...             ...  ...           ...           ...   \n",
       "1037859          0.0             0.0  ...           0.0           0.0   \n",
       "1037860          0.0             0.0  ...           0.0           0.0   \n",
       "1037861          0.0             0.0  ...           0.0           0.0   \n",
       "1037862          0.0             0.0  ...           0.0           0.0   \n",
       "1037863          0.0             0.0  ...           0.0           0.0   \n",
       "\n",
       "         Station_SPRU  Station_TAYL  Station_UNCA  Station_WAYN  Station_WHIT  \\\n",
       "0                 0.0           0.0           0.0           0.0           0.0   \n",
       "1                 1.0           0.0           0.0           0.0           0.0   \n",
       "2                 0.0           0.0           0.0           0.0           0.0   \n",
       "3                 0.0           0.0           0.0           0.0           0.0   \n",
       "4                 0.0           0.0           0.0           0.0           0.0   \n",
       "...               ...           ...           ...           ...           ...   \n",
       "1037859           0.0           0.0           0.0           0.0           0.0   \n",
       "1037860           0.0           0.0           0.0           0.0           0.0   \n",
       "1037861           0.0           0.0           0.0           0.0           0.0   \n",
       "1037862           0.0           0.0           0.0           0.0           0.0   \n",
       "1037863           0.0           0.0           0.0           0.0           0.0   \n",
       "\n",
       "         Station_WILD  Station_WILL  Station_WINE  \n",
       "0                 0.0           0.0           0.0  \n",
       "1                 0.0           0.0           0.0  \n",
       "2                 0.0           0.0           0.0  \n",
       "3                 0.0           0.0           0.0  \n",
       "4                 0.0           0.0           0.0  \n",
       "...               ...           ...           ...  \n",
       "1037859           0.0           0.0           1.0  \n",
       "1037860           0.0           0.0           0.0  \n",
       "1037861           0.0           0.0           0.0  \n",
       "1037862           0.0           0.0           0.0  \n",
       "1037863           0.0           0.0           0.0  \n",
       "\n",
       "[1037864 rows x 64 columns]"
      ]
     },
     "execution_count": 35,
     "metadata": {},
     "output_type": "execute_result"
    }
   ],
   "source": [
    "X_train"
   ]
  },
  {
   "cell_type": "code",
   "execution_count": 51,
   "metadata": {},
   "outputs": [],
   "source": [
    "from sklearn.ensemble import RandomForestClassifier\n",
    "from sklearn.neighbors import KNeighborsClassifier \n",
    "from sklearn.linear_model import LogisticRegression\n",
    "from sklearn.naive_bayes import GaussianNB\n",
    "\n",
    "# Logistic Regression\n",
    "classifier_logistic = LogisticRegression(solver='lbfgs', max_iter=3000)\n",
    "\n",
    "# Naive Bayes\n",
    "classifier_bayes=GaussianNB()\n",
    "\n",
    "# K Nearest Neighbors\n",
    "classifier_KNN = KNeighborsClassifier(n_neighbors=3, n_jobs=-1)\n",
    "\n",
    "# Random Forest\n",
    "classifier_RF = RandomForestClassifier(max_depth=3, random_state=0)"
   ]
  },
  {
   "cell_type": "code",
   "execution_count": 43,
   "metadata": {},
   "outputs": [
    {
     "data": {
      "text/plain": [
       "LogisticRegression(max_iter=3000)"
      ]
     },
     "execution_count": 43,
     "metadata": {},
     "output_type": "execute_result"
    }
   ],
   "source": [
    "# Logistics\n",
    "classifier_logistic.fit(X_train, y_train)\n"
   ]
  },
  {
   "cell_type": "code",
   "execution_count": 44,
   "metadata": {},
   "outputs": [
    {
     "data": {
      "text/plain": [
       "0.8604052550187163"
      ]
     },
     "execution_count": 44,
     "metadata": {},
     "output_type": "execute_result"
    }
   ],
   "source": [
    "classifier_logistic.score(X_test, y_test)\n"
   ]
  },
  {
   "cell_type": "code",
   "execution_count": 52,
   "metadata": {},
   "outputs": [
    {
     "data": {
      "text/plain": [
       "KNeighborsClassifier(n_jobs=-1, n_neighbors=3)"
      ]
     },
     "execution_count": 52,
     "metadata": {},
     "output_type": "execute_result"
    }
   ],
   "source": [
    "# KNN\n",
    "classifier_KNN.fit(X_train, y_train)\n",
    "\n"
   ]
  },
  {
   "cell_type": "code",
   "execution_count": 53,
   "metadata": {},
   "outputs": [
    {
     "ename": "KeyboardInterrupt",
     "evalue": "",
     "output_type": "error",
     "traceback": [
      "\u001b[0;31m---------------------------------------------------------------------------\u001b[0m",
      "\u001b[0;31mKeyboardInterrupt\u001b[0m                         Traceback (most recent call last)",
      "\u001b[0;32m<ipython-input-53-f153ddf8097f>\u001b[0m in \u001b[0;36m<module>\u001b[0;34m\u001b[0m\n\u001b[0;32m----> 1\u001b[0;31m \u001b[0mclassifier_KNN\u001b[0m\u001b[0;34m.\u001b[0m\u001b[0mpredict\u001b[0m\u001b[0;34m(\u001b[0m\u001b[0mX_test\u001b[0m\u001b[0;34m)\u001b[0m\u001b[0;34m\u001b[0m\u001b[0;34m\u001b[0m\u001b[0m\n\u001b[0m",
      "\u001b[0;32m~/opt/anaconda3/lib/python3.8/site-packages/sklearn/neighbors/_classification.py\u001b[0m in \u001b[0;36mpredict\u001b[0;34m(self, X)\u001b[0m\n\u001b[1;32m    212\u001b[0m             \u001b[0mClass\u001b[0m \u001b[0mlabels\u001b[0m \u001b[0;32mfor\u001b[0m \u001b[0meach\u001b[0m \u001b[0mdata\u001b[0m \u001b[0msample\u001b[0m\u001b[0;34m.\u001b[0m\u001b[0;34m\u001b[0m\u001b[0;34m\u001b[0m\u001b[0m\n\u001b[1;32m    213\u001b[0m         \"\"\"\n\u001b[0;32m--> 214\u001b[0;31m         \u001b[0mneigh_dist\u001b[0m\u001b[0;34m,\u001b[0m \u001b[0mneigh_ind\u001b[0m \u001b[0;34m=\u001b[0m \u001b[0mself\u001b[0m\u001b[0;34m.\u001b[0m\u001b[0mkneighbors\u001b[0m\u001b[0;34m(\u001b[0m\u001b[0mX\u001b[0m\u001b[0;34m)\u001b[0m\u001b[0;34m\u001b[0m\u001b[0;34m\u001b[0m\u001b[0m\n\u001b[0m\u001b[1;32m    215\u001b[0m         \u001b[0mclasses_\u001b[0m \u001b[0;34m=\u001b[0m \u001b[0mself\u001b[0m\u001b[0;34m.\u001b[0m\u001b[0mclasses_\u001b[0m\u001b[0;34m\u001b[0m\u001b[0;34m\u001b[0m\u001b[0m\n\u001b[1;32m    216\u001b[0m         \u001b[0m_y\u001b[0m \u001b[0;34m=\u001b[0m \u001b[0mself\u001b[0m\u001b[0;34m.\u001b[0m\u001b[0m_y\u001b[0m\u001b[0;34m\u001b[0m\u001b[0;34m\u001b[0m\u001b[0m\n",
      "\u001b[0;32m~/opt/anaconda3/lib/python3.8/site-packages/sklearn/neighbors/_base.py\u001b[0m in \u001b[0;36mkneighbors\u001b[0;34m(self, X, n_neighbors, return_distance)\u001b[0m\n\u001b[1;32m    750\u001b[0m                 \u001b[0mkwds\u001b[0m \u001b[0;34m=\u001b[0m \u001b[0mself\u001b[0m\u001b[0;34m.\u001b[0m\u001b[0meffective_metric_params_\u001b[0m\u001b[0;34m\u001b[0m\u001b[0;34m\u001b[0m\u001b[0m\n\u001b[1;32m    751\u001b[0m \u001b[0;34m\u001b[0m\u001b[0m\n\u001b[0;32m--> 752\u001b[0;31m             chunked_results = list(\n\u001b[0m\u001b[1;32m    753\u001b[0m                 pairwise_distances_chunked(\n\u001b[1;32m    754\u001b[0m                     \u001b[0mX\u001b[0m\u001b[0;34m,\u001b[0m\u001b[0;34m\u001b[0m\u001b[0;34m\u001b[0m\u001b[0m\n",
      "\u001b[0;32m~/opt/anaconda3/lib/python3.8/site-packages/sklearn/metrics/pairwise.py\u001b[0m in \u001b[0;36mpairwise_distances_chunked\u001b[0;34m(X, Y, reduce_func, metric, n_jobs, working_memory, **kwds)\u001b[0m\n\u001b[1;32m   1724\u001b[0m         \u001b[0;32mif\u001b[0m \u001b[0mreduce_func\u001b[0m \u001b[0;32mis\u001b[0m \u001b[0;32mnot\u001b[0m \u001b[0;32mNone\u001b[0m\u001b[0;34m:\u001b[0m\u001b[0;34m\u001b[0m\u001b[0;34m\u001b[0m\u001b[0m\n\u001b[1;32m   1725\u001b[0m             \u001b[0mchunk_size\u001b[0m \u001b[0;34m=\u001b[0m \u001b[0mD_chunk\u001b[0m\u001b[0;34m.\u001b[0m\u001b[0mshape\u001b[0m\u001b[0;34m[\u001b[0m\u001b[0;36m0\u001b[0m\u001b[0;34m]\u001b[0m\u001b[0;34m\u001b[0m\u001b[0;34m\u001b[0m\u001b[0m\n\u001b[0;32m-> 1726\u001b[0;31m             \u001b[0mD_chunk\u001b[0m \u001b[0;34m=\u001b[0m \u001b[0mreduce_func\u001b[0m\u001b[0;34m(\u001b[0m\u001b[0mD_chunk\u001b[0m\u001b[0;34m,\u001b[0m \u001b[0msl\u001b[0m\u001b[0;34m.\u001b[0m\u001b[0mstart\u001b[0m\u001b[0;34m)\u001b[0m\u001b[0;34m\u001b[0m\u001b[0;34m\u001b[0m\u001b[0m\n\u001b[0m\u001b[1;32m   1727\u001b[0m             \u001b[0m_check_chunk_size\u001b[0m\u001b[0;34m(\u001b[0m\u001b[0mD_chunk\u001b[0m\u001b[0;34m,\u001b[0m \u001b[0mchunk_size\u001b[0m\u001b[0;34m)\u001b[0m\u001b[0;34m\u001b[0m\u001b[0;34m\u001b[0m\u001b[0m\n\u001b[1;32m   1728\u001b[0m         \u001b[0;32myield\u001b[0m \u001b[0mD_chunk\u001b[0m\u001b[0;34m\u001b[0m\u001b[0;34m\u001b[0m\u001b[0m\n",
      "\u001b[0;32m~/opt/anaconda3/lib/python3.8/site-packages/sklearn/neighbors/_base.py\u001b[0m in \u001b[0;36m_kneighbors_reduce_func\u001b[0;34m(self, dist, start, n_neighbors, return_distance)\u001b[0m\n\u001b[1;32m    632\u001b[0m         \"\"\"\n\u001b[1;32m    633\u001b[0m         \u001b[0msample_range\u001b[0m \u001b[0;34m=\u001b[0m \u001b[0mnp\u001b[0m\u001b[0;34m.\u001b[0m\u001b[0marange\u001b[0m\u001b[0;34m(\u001b[0m\u001b[0mdist\u001b[0m\u001b[0;34m.\u001b[0m\u001b[0mshape\u001b[0m\u001b[0;34m[\u001b[0m\u001b[0;36m0\u001b[0m\u001b[0;34m]\u001b[0m\u001b[0;34m)\u001b[0m\u001b[0;34m[\u001b[0m\u001b[0;34m:\u001b[0m\u001b[0;34m,\u001b[0m \u001b[0;32mNone\u001b[0m\u001b[0;34m]\u001b[0m\u001b[0;34m\u001b[0m\u001b[0;34m\u001b[0m\u001b[0m\n\u001b[0;32m--> 634\u001b[0;31m         \u001b[0mneigh_ind\u001b[0m \u001b[0;34m=\u001b[0m \u001b[0mnp\u001b[0m\u001b[0;34m.\u001b[0m\u001b[0margpartition\u001b[0m\u001b[0;34m(\u001b[0m\u001b[0mdist\u001b[0m\u001b[0;34m,\u001b[0m \u001b[0mn_neighbors\u001b[0m \u001b[0;34m-\u001b[0m \u001b[0;36m1\u001b[0m\u001b[0;34m,\u001b[0m \u001b[0maxis\u001b[0m\u001b[0;34m=\u001b[0m\u001b[0;36m1\u001b[0m\u001b[0;34m)\u001b[0m\u001b[0;34m\u001b[0m\u001b[0;34m\u001b[0m\u001b[0m\n\u001b[0m\u001b[1;32m    635\u001b[0m         \u001b[0mneigh_ind\u001b[0m \u001b[0;34m=\u001b[0m \u001b[0mneigh_ind\u001b[0m\u001b[0;34m[\u001b[0m\u001b[0;34m:\u001b[0m\u001b[0;34m,\u001b[0m \u001b[0;34m:\u001b[0m\u001b[0mn_neighbors\u001b[0m\u001b[0;34m]\u001b[0m\u001b[0;34m\u001b[0m\u001b[0;34m\u001b[0m\u001b[0m\n\u001b[1;32m    636\u001b[0m         \u001b[0;31m# argpartition doesn't guarantee sorted order, so we sort again\u001b[0m\u001b[0;34m\u001b[0m\u001b[0;34m\u001b[0m\u001b[0;34m\u001b[0m\u001b[0m\n",
      "\u001b[0;32m~/opt/anaconda3/lib/python3.8/site-packages/numpy/core/overrides.py\u001b[0m in \u001b[0;36margpartition\u001b[0;34m(*args, **kwargs)\u001b[0m\n",
      "\u001b[0;32m~/opt/anaconda3/lib/python3.8/site-packages/numpy/core/fromnumeric.py\u001b[0m in \u001b[0;36margpartition\u001b[0;34m(a, kth, axis, kind, order)\u001b[0m\n\u001b[1;32m    843\u001b[0m \u001b[0;34m\u001b[0m\u001b[0m\n\u001b[1;32m    844\u001b[0m     \"\"\"\n\u001b[0;32m--> 845\u001b[0;31m     \u001b[0;32mreturn\u001b[0m \u001b[0m_wrapfunc\u001b[0m\u001b[0;34m(\u001b[0m\u001b[0ma\u001b[0m\u001b[0;34m,\u001b[0m \u001b[0;34m'argpartition'\u001b[0m\u001b[0;34m,\u001b[0m \u001b[0mkth\u001b[0m\u001b[0;34m,\u001b[0m \u001b[0maxis\u001b[0m\u001b[0;34m=\u001b[0m\u001b[0maxis\u001b[0m\u001b[0;34m,\u001b[0m \u001b[0mkind\u001b[0m\u001b[0;34m=\u001b[0m\u001b[0mkind\u001b[0m\u001b[0;34m,\u001b[0m \u001b[0morder\u001b[0m\u001b[0;34m=\u001b[0m\u001b[0morder\u001b[0m\u001b[0;34m)\u001b[0m\u001b[0;34m\u001b[0m\u001b[0;34m\u001b[0m\u001b[0m\n\u001b[0m\u001b[1;32m    846\u001b[0m \u001b[0;34m\u001b[0m\u001b[0m\n\u001b[1;32m    847\u001b[0m \u001b[0;34m\u001b[0m\u001b[0m\n",
      "\u001b[0;32m~/opt/anaconda3/lib/python3.8/site-packages/numpy/core/fromnumeric.py\u001b[0m in \u001b[0;36m_wrapfunc\u001b[0;34m(obj, method, *args, **kwds)\u001b[0m\n\u001b[1;32m     55\u001b[0m \u001b[0;34m\u001b[0m\u001b[0m\n\u001b[1;32m     56\u001b[0m     \u001b[0;32mtry\u001b[0m\u001b[0;34m:\u001b[0m\u001b[0;34m\u001b[0m\u001b[0;34m\u001b[0m\u001b[0m\n\u001b[0;32m---> 57\u001b[0;31m         \u001b[0;32mreturn\u001b[0m \u001b[0mbound\u001b[0m\u001b[0;34m(\u001b[0m\u001b[0;34m*\u001b[0m\u001b[0margs\u001b[0m\u001b[0;34m,\u001b[0m \u001b[0;34m**\u001b[0m\u001b[0mkwds\u001b[0m\u001b[0;34m)\u001b[0m\u001b[0;34m\u001b[0m\u001b[0;34m\u001b[0m\u001b[0m\n\u001b[0m\u001b[1;32m     58\u001b[0m     \u001b[0;32mexcept\u001b[0m \u001b[0mTypeError\u001b[0m\u001b[0;34m:\u001b[0m\u001b[0;34m\u001b[0m\u001b[0;34m\u001b[0m\u001b[0m\n\u001b[1;32m     59\u001b[0m         \u001b[0;31m# A TypeError occurs if the object does have such a method in its\u001b[0m\u001b[0;34m\u001b[0m\u001b[0;34m\u001b[0m\u001b[0;34m\u001b[0m\u001b[0m\n",
      "\u001b[0;31mKeyboardInterrupt\u001b[0m: "
     ]
    }
   ],
   "source": [
    "# KNN runs forever, so eliminate KNN classifer\n",
    "classifier_KNN.predict(X_test)\n"
   ]
  },
  {
   "cell_type": "code",
   "execution_count": null,
   "metadata": {},
   "outputs": [],
   "source": [
    "classifier_KNN.score(X_test, y_test)"
   ]
  },
  {
   "cell_type": "code",
   "execution_count": null,
   "metadata": {},
   "outputs": [],
   "source": [
    "# naive Bayes"
   ]
  },
  {
   "cell_type": "code",
   "execution_count": 54,
   "metadata": {},
   "outputs": [
    {
     "data": {
      "text/plain": [
       "GaussianNB()"
      ]
     },
     "execution_count": 54,
     "metadata": {},
     "output_type": "execute_result"
    }
   ],
   "source": [
    "classifier_bayes.fit(X_train, y_train)"
   ]
  },
  {
   "cell_type": "code",
   "execution_count": 55,
   "metadata": {},
   "outputs": [
    {
     "data": {
      "text/plain": [
       "array([1, 1, 0, ..., 1, 1, 1])"
      ]
     },
     "execution_count": 55,
     "metadata": {},
     "output_type": "execute_result"
    }
   ],
   "source": [
    "classifier_bayes.predict(X_test)\n"
   ]
  },
  {
   "cell_type": "code",
   "execution_count": 56,
   "metadata": {},
   "outputs": [
    {
     "data": {
      "text/plain": [
       "0.7729198884247951"
      ]
     },
     "execution_count": 56,
     "metadata": {},
     "output_type": "execute_result"
    }
   ],
   "source": [
    "classifier_bayes.score(X_test, y_test)\n"
   ]
  },
  {
   "cell_type": "code",
   "execution_count": 57,
   "metadata": {},
   "outputs": [
    {
     "data": {
      "text/plain": [
       "RandomForestClassifier()"
      ]
     },
     "execution_count": 57,
     "metadata": {},
     "output_type": "execute_result"
    }
   ],
   "source": [
    "# Random Forest\n",
    "classifier_RF.fit(X_train, y_train)\n"
   ]
  },
  {
   "cell_type": "code",
   "execution_count": 58,
   "metadata": {},
   "outputs": [
    {
     "data": {
      "text/plain": [
       "array([1, 0, 0, ..., 1, 0, 1])"
      ]
     },
     "execution_count": 58,
     "metadata": {},
     "output_type": "execute_result"
    }
   ],
   "source": [
    "classifier_RF.predict(X_test)\n"
   ]
  },
  {
   "cell_type": "code",
   "execution_count": 59,
   "metadata": {},
   "outputs": [
    {
     "data": {
      "text/plain": [
       "0.9874535705510832"
      ]
     },
     "execution_count": 59,
     "metadata": {},
     "output_type": "execute_result"
    }
   ],
   "source": [
    "classifier_RF.score(X_test, y_test)\n"
   ]
  },
  {
   "cell_type": "code",
   "execution_count": 60,
   "metadata": {},
   "outputs": [
    {
     "name": "stdout",
     "output_type": "stream",
     "text": [
      "[0.85906645 0.86219788 0.86137889 0.86179802 0.86127223]\n",
      "Model accuracy of Logistic Regression is 0.8611426931944262\n",
      "[0.9866023  0.98738275 0.98751764 0.98716596 0.98754649]\n",
      "Model accuracy of Random Forest is 0.9872430302076761\n",
      "[0.77059637 0.76916555 0.77361217 0.77214763 0.77262348]\n",
      "Model accuracy of Naive Bayes is 0.7716290390594878\n"
     ]
    }
   ],
   "source": [
    "# Use 5-fold Cross Validation to get the accuracy for different models\n",
    "model_names = ['Logistic Regression','Random Forest','Naive Bayes']\n",
    "model_list = [classifier_logistic, classifier_RF, classifier_bayes]\n",
    "count = 0\n",
    "\n",
    "for classifier in model_list:\n",
    "    cv_score = model_selection.cross_val_score(classifier, X_train, y_train, cv=5)\n",
    "    print(cv_score)\n",
    "    print('Model accuracy of ' + model_names[count] + ' is ' + str(cv_score.mean()))\n",
    "    count += 1"
   ]
  },
  {
   "cell_type": "code",
   "execution_count": 62,
   "metadata": {},
   "outputs": [
    {
     "data": {
      "text/plain": [
       "GridSearchCV(cv=5, estimator=RandomForestClassifier(),\n",
       "             param_grid={'max_depth': [1, 5, 10],\n",
       "                         'n_estimators': [60, 80, 100]})"
      ]
     },
     "execution_count": 62,
     "metadata": {},
     "output_type": "execute_result"
    }
   ],
   "source": [
    "# Find Hyperparameter for ramdom forest\n",
    "\n",
    "from sklearn.model_selection import GridSearchCV\n",
    "\n",
    "parameters = {\n",
    "    'n_estimators' : [60,80,100],\n",
    "    'max_depth': [1,5,10]\n",
    "}\n",
    "Grid_RF = GridSearchCV(RandomForestClassifier(),parameters, cv=5)\n",
    "Grid_RF.fit(X_train, y_train)"
   ]
  },
  {
   "cell_type": "code",
   "execution_count": 64,
   "metadata": {},
   "outputs": [
    {
     "name": "stdout",
     "output_type": "stream",
     "text": [
      "Best score: 0.9655918322426299\n",
      "Best parameters set:\n",
      "max_depth:10\n",
      "n_estimators:100\n"
     ]
    }
   ],
   "source": [
    "# helper function for printing out grid search results \n",
    "def print_grid_search_metrics(gs):\n",
    "    print (\"Best score: \" + str(gs.best_score_))\n",
    "    print (\"Best parameters set:\")\n",
    "    best_parameters = gs.best_params_\n",
    "    for param_name in sorted(best_parameters.keys()):\n",
    "        print(param_name + ':' + str(best_parameters[param_name]))\n",
    "        \n",
    "print_grid_search_metrics(Grid_RF)\n",
    "\n",
    "# Not as good as default, so we will just stay with default RF classfier\n"
   ]
  },
  {
   "cell_type": "code",
   "execution_count": 65,
   "metadata": {},
   "outputs": [],
   "source": [
    "from sklearn.metrics import confusion_matrix\n",
    "from sklearn.metrics import classification_report\n",
    "from sklearn.metrics import precision_score\n",
    "from sklearn.metrics import recall_score\n",
    "\n"
   ]
  },
  {
   "cell_type": "code",
   "execution_count": 75,
   "metadata": {},
   "outputs": [],
   "source": [
    "def train_evaluate_pipeline(X_train, y_train, X_test, y_test, model, digits=4):\n",
    "\n",
    "    Y_test_predicted = model.fit(X=X_train, y=y_train).predict(X_test)\n",
    "    metric = classification_report(y_test,Y_test_predicted,digits=digits)\n",
    "    \n",
    "    return metric"
   ]
  },
  {
   "cell_type": "code",
   "execution_count": 76,
   "metadata": {},
   "outputs": [
    {
     "name": "stdout",
     "output_type": "stream",
     "text": [
      "RF Classifer\n",
      "Random Forest\n",
      "              precision    recall  f1-score   support\n",
      "\n",
      "           0     0.9890    0.9858    0.9874    345915\n",
      "           1     0.9859    0.9890    0.9875    345995\n",
      "\n",
      "    accuracy                         0.9874    691910\n",
      "   macro avg     0.9874    0.9874    0.9874    691910\n",
      "weighted avg     0.9874    0.9874    0.9874    691910\n",
      "\n"
     ]
    }
   ],
   "source": [
    "# Confusion matrix, accuracy, precison and recall for random forest\n",
    "\n",
    "print(\"RF Classifer\")\n",
    "RF_metrics = train_evaluate_pipeline(X_train, y_train, X_test, y_test, classifier_RF)\n",
    "print(\"Random Forest\")\n",
    "print(RF_metrics)\n"
   ]
  },
  {
   "cell_type": "code",
   "execution_count": 68,
   "metadata": {},
   "outputs": [
    {
     "data": {
      "image/png": "[encoded data removed]",
      "text/plain": [
       "<Figure size 432x288 with 1 Axes>"
      ]
     },
     "metadata": {
      "needs_background": "light"
     },
     "output_type": "display_data"
    }
   ],
   "source": [
    "# Plot the Precision-Recall curve to evaulate\n",
    "# https://scikit-learn.org/stable/auto_examples/model_selection/plot_precision_recall.html\n",
    "from sklearn.metrics import PrecisionRecallDisplay\n",
    "\n",
    "display = PrecisionRecallDisplay.from_estimator(\n",
    "    classifier_RF, X_test, y_test\n",
    ")\n",
    "_ = display.ax_.set_title(\"2-class Precision-Recall curve\")\n"
   ]
  },
  {
   "cell_type": "code",
   "execution_count": null,
   "metadata": {},
   "outputs": [],
   "source": []
  }
 ],
 "metadata": {
  "kernelspec": {
   "display_name": "Python 3",
   "language": "python",
   "name": "python3"
  },
  "language_info": {
   "codemirror_mode": {
    "name": "ipython",
    "version": 3
   },
   "file_extension": ".py",
   "mimetype": "text/x-python",
   "name": "python",
   "nbconvert_exporter": "python",
   "pygments_lexer": "ipython3",
   "version": "3.8.5"
  }
 },
 "nbformat": 4,
 "nbformat_minor": 4
}

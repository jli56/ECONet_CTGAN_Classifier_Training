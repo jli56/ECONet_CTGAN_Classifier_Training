{
 "cells": [
  {
   "cell_type": "code",
   "execution_count": 1,
   "id": "39a95ce2",
   "metadata": {},
   "outputs": [],
   "source": [
    "#initial\n",
    "# !pip install ctgan"
   ]
  },
  {
   "cell_type": "code",
   "execution_count": 1,
   "id": "a629c2b6",
   "metadata": {},
   "outputs": [],
   "source": [
    "# import the library we will use\n",
    "from table_evaluator import TableEvaluator\n",
    "from ctgan import CTGANSynthesizer\n",
    "import numpy as np\n",
    "import pandas as pd \n",
    "import matplotlib.pyplot as plt\n",
    "from sklearn.model_selection import train_test_split\n",
    "from sklearn.ensemble import RandomForestClassifier"
   ]
  },
  {
   "cell_type": "code",
   "execution_count": 2,
   "id": "99a50b54",
   "metadata": {},
   "outputs": [],
   "source": [
    "train = pd.read_csv(\"../train.csv\")"
   ]
  },
  {
   "cell_type": "code",
   "execution_count": 4,
   "id": "b2706ceb",
   "metadata": {},
   "outputs": [
    {
     "data": {
      "text/html": [
       "<div>\n",
       "<style scoped>\n",
       "    .dataframe tbody tr th:only-of-type {\n",
       "        vertical-align: middle;\n",
       "    }\n",
       "\n",
       "    .dataframe tbody tr th {\n",
       "        vertical-align: top;\n",
       "    }\n",
       "\n",
       "    .dataframe thead th {\n",
       "        text-align: right;\n",
       "    }\n",
       "</style>\n",
       "<table border=\"1\" class=\"dataframe\">\n",
       "  <thead>\n",
       "    <tr style=\"text-align: right;\">\n",
       "      <th></th>\n",
       "      <th>Station</th>\n",
       "      <th>Ob</th>\n",
       "      <th>value</th>\n",
       "      <th>measure</th>\n",
       "      <th>target</th>\n",
       "      <th>R_flag</th>\n",
       "      <th>I_flag</th>\n",
       "      <th>Z_flag</th>\n",
       "      <th>B_flag</th>\n",
       "    </tr>\n",
       "  </thead>\n",
       "  <tbody>\n",
       "    <tr>\n",
       "      <th>0</th>\n",
       "      <td>AURO</td>\n",
       "      <td>1/2/2021 0:30</td>\n",
       "      <td>19.2</td>\n",
       "      <td>temp_wxt</td>\n",
       "      <td>False</td>\n",
       "      <td>2</td>\n",
       "      <td>-1</td>\n",
       "      <td>0</td>\n",
       "      <td>1</td>\n",
       "    </tr>\n",
       "    <tr>\n",
       "      <th>1</th>\n",
       "      <td>AURO</td>\n",
       "      <td>1/2/2021 4:30</td>\n",
       "      <td>19.8</td>\n",
       "      <td>temp_wxt</td>\n",
       "      <td>False</td>\n",
       "      <td>2</td>\n",
       "      <td>-1</td>\n",
       "      <td>0</td>\n",
       "      <td>1</td>\n",
       "    </tr>\n",
       "    <tr>\n",
       "      <th>2</th>\n",
       "      <td>AURO</td>\n",
       "      <td>1/2/2021 5:30</td>\n",
       "      <td>19.5</td>\n",
       "      <td>temp_wxt</td>\n",
       "      <td>False</td>\n",
       "      <td>2</td>\n",
       "      <td>-1</td>\n",
       "      <td>0</td>\n",
       "      <td>1</td>\n",
       "    </tr>\n",
       "    <tr>\n",
       "      <th>3</th>\n",
       "      <td>AURO</td>\n",
       "      <td>1/2/2021 7:30</td>\n",
       "      <td>18.5</td>\n",
       "      <td>temp_wxt</td>\n",
       "      <td>False</td>\n",
       "      <td>2</td>\n",
       "      <td>-1</td>\n",
       "      <td>0</td>\n",
       "      <td>1</td>\n",
       "    </tr>\n",
       "    <tr>\n",
       "      <th>4</th>\n",
       "      <td>AURO</td>\n",
       "      <td>2/16/2021 2:30</td>\n",
       "      <td>17.7</td>\n",
       "      <td>temp_wxt</td>\n",
       "      <td>False</td>\n",
       "      <td>2</td>\n",
       "      <td>-1</td>\n",
       "      <td>0</td>\n",
       "      <td>1</td>\n",
       "    </tr>\n",
       "  </tbody>\n",
       "</table>\n",
       "</div>"
      ],
      "text/plain": [
       "  Station              Ob  value   measure  target  R_flag  I_flag  Z_flag  \\\n",
       "0    AURO   1/2/2021 0:30   19.2  temp_wxt   False       2      -1       0   \n",
       "1    AURO   1/2/2021 4:30   19.8  temp_wxt   False       2      -1       0   \n",
       "2    AURO   1/2/2021 5:30   19.5  temp_wxt   False       2      -1       0   \n",
       "3    AURO   1/2/2021 7:30   18.5  temp_wxt   False       2      -1       0   \n",
       "4    AURO  2/16/2021 2:30   17.7  temp_wxt   False       2      -1       0   \n",
       "\n",
       "   B_flag  \n",
       "0       1  \n",
       "1       1  \n",
       "2       1  \n",
       "3       1  \n",
       "4       1  "
      ]
     },
     "execution_count": 4,
     "metadata": {},
     "output_type": "execute_result"
    }
   ],
   "source": [
    "train.head()"
   ]
  },
  {
   "cell_type": "code",
   "execution_count": 3,
   "id": "4756c854",
   "metadata": {},
   "outputs": [
    {
     "data": {
      "text/plain": [
       "6593274"
      ]
     },
     "execution_count": 3,
     "metadata": {},
     "output_type": "execute_result"
    }
   ],
   "source": [
    "len(train)"
   ]
  },
  {
   "cell_type": "code",
   "execution_count": 6,
   "id": "3c6c84ec",
   "metadata": {},
   "outputs": [
    {
     "data": {
      "text/plain": [
       "6358102"
      ]
     },
     "execution_count": 6,
     "metadata": {},
     "output_type": "execute_result"
    }
   ],
   "source": [
    "false_group = train.loc[train['target'] == False]\n",
    "len(false_group)"
   ]
  },
  {
   "cell_type": "code",
   "execution_count": 4,
   "id": "aa70c315",
   "metadata": {},
   "outputs": [
    {
     "data": {
      "text/plain": [
       "235172"
      ]
     },
     "execution_count": 4,
     "metadata": {},
     "output_type": "execute_result"
    }
   ],
   "source": [
    "true_group = train.loc[train['target'] != False]\n",
    "len(true_group)"
   ]
  },
  {
   "cell_type": "code",
   "execution_count": 8,
   "id": "b360c8a5",
   "metadata": {},
   "outputs": [
    {
     "data": {
      "text/html": [
       "<div>\n",
       "<style scoped>\n",
       "    .dataframe tbody tr th:only-of-type {\n",
       "        vertical-align: middle;\n",
       "    }\n",
       "\n",
       "    .dataframe tbody tr th {\n",
       "        vertical-align: top;\n",
       "    }\n",
       "\n",
       "    .dataframe thead th {\n",
       "        text-align: right;\n",
       "    }\n",
       "</style>\n",
       "<table border=\"1\" class=\"dataframe\">\n",
       "  <thead>\n",
       "    <tr style=\"text-align: right;\">\n",
       "      <th></th>\n",
       "      <th>Station</th>\n",
       "      <th>Ob</th>\n",
       "      <th>value</th>\n",
       "      <th>measure</th>\n",
       "      <th>target</th>\n",
       "      <th>R_flag</th>\n",
       "      <th>I_flag</th>\n",
       "      <th>Z_flag</th>\n",
       "      <th>B_flag</th>\n",
       "    </tr>\n",
       "  </thead>\n",
       "  <tbody>\n",
       "    <tr>\n",
       "      <th>0</th>\n",
       "      <td>AURO</td>\n",
       "      <td>1/2/2021 0:30</td>\n",
       "      <td>19.2</td>\n",
       "      <td>temp_wxt</td>\n",
       "      <td>False</td>\n",
       "      <td>2</td>\n",
       "      <td>-1</td>\n",
       "      <td>0</td>\n",
       "      <td>1</td>\n",
       "    </tr>\n",
       "    <tr>\n",
       "      <th>1</th>\n",
       "      <td>AURO</td>\n",
       "      <td>1/2/2021 4:30</td>\n",
       "      <td>19.8</td>\n",
       "      <td>temp_wxt</td>\n",
       "      <td>False</td>\n",
       "      <td>2</td>\n",
       "      <td>-1</td>\n",
       "      <td>0</td>\n",
       "      <td>1</td>\n",
       "    </tr>\n",
       "    <tr>\n",
       "      <th>2</th>\n",
       "      <td>AURO</td>\n",
       "      <td>1/2/2021 5:30</td>\n",
       "      <td>19.5</td>\n",
       "      <td>temp_wxt</td>\n",
       "      <td>False</td>\n",
       "      <td>2</td>\n",
       "      <td>-1</td>\n",
       "      <td>0</td>\n",
       "      <td>1</td>\n",
       "    </tr>\n",
       "    <tr>\n",
       "      <th>3</th>\n",
       "      <td>AURO</td>\n",
       "      <td>1/2/2021 7:30</td>\n",
       "      <td>18.5</td>\n",
       "      <td>temp_wxt</td>\n",
       "      <td>False</td>\n",
       "      <td>2</td>\n",
       "      <td>-1</td>\n",
       "      <td>0</td>\n",
       "      <td>1</td>\n",
       "    </tr>\n",
       "    <tr>\n",
       "      <th>4</th>\n",
       "      <td>AURO</td>\n",
       "      <td>2/16/2021 2:30</td>\n",
       "      <td>17.7</td>\n",
       "      <td>temp_wxt</td>\n",
       "      <td>False</td>\n",
       "      <td>2</td>\n",
       "      <td>-1</td>\n",
       "      <td>0</td>\n",
       "      <td>1</td>\n",
       "    </tr>\n",
       "  </tbody>\n",
       "</table>\n",
       "</div>"
      ],
      "text/plain": [
       "  Station              Ob  value   measure  target  R_flag  I_flag  Z_flag  \\\n",
       "0    AURO   1/2/2021 0:30   19.2  temp_wxt   False       2      -1       0   \n",
       "1    AURO   1/2/2021 4:30   19.8  temp_wxt   False       2      -1       0   \n",
       "2    AURO   1/2/2021 5:30   19.5  temp_wxt   False       2      -1       0   \n",
       "3    AURO   1/2/2021 7:30   18.5  temp_wxt   False       2      -1       0   \n",
       "4    AURO  2/16/2021 2:30   17.7  temp_wxt   False       2      -1       0   \n",
       "\n",
       "   B_flag  \n",
       "0       1  \n",
       "1       1  \n",
       "2       1  \n",
       "3       1  \n",
       "4       1  "
      ]
     },
     "execution_count": 8,
     "metadata": {},
     "output_type": "execute_result"
    }
   ],
   "source": [
    "false_group.head()"
   ]
  },
  {
   "cell_type": "code",
   "execution_count": 7,
   "id": "09dd0bc2",
   "metadata": {},
   "outputs": [],
   "source": [
    "#prepare data for CTGAN library\n",
    "discrete_columns = [\n",
    "    'Station',\n",
    "    'Ob',\n",
    "    'measure',\n",
    "    'target',\n",
    "]\n"
   ]
  },
  {
   "cell_type": "markdown",
   "id": "ccc1c197",
   "metadata": {},
   "source": [
    "Sample from false group and generate synthetic data from CTGAN."
   ]
  },
  {
   "cell_type": "code",
   "execution_count": 10,
   "id": "21886d08",
   "metadata": {},
   "outputs": [],
   "source": [
    "sampled_false_group = false_group.sample(frac=0.0005, replace=True, random_state=1)\n"
   ]
  },
  {
   "cell_type": "code",
   "execution_count": 11,
   "id": "29ee3bdc",
   "metadata": {},
   "outputs": [
    {
     "data": {
      "text/html": [
       "<div>\n",
       "<style scoped>\n",
       "    .dataframe tbody tr th:only-of-type {\n",
       "        vertical-align: middle;\n",
       "    }\n",
       "\n",
       "    .dataframe tbody tr th {\n",
       "        vertical-align: top;\n",
       "    }\n",
       "\n",
       "    .dataframe thead th {\n",
       "        text-align: right;\n",
       "    }\n",
       "</style>\n",
       "<table border=\"1\" class=\"dataframe\">\n",
       "  <thead>\n",
       "    <tr style=\"text-align: right;\">\n",
       "      <th></th>\n",
       "      <th>Station</th>\n",
       "      <th>Ob</th>\n",
       "      <th>value</th>\n",
       "      <th>measure</th>\n",
       "      <th>target</th>\n",
       "      <th>R_flag</th>\n",
       "      <th>I_flag</th>\n",
       "      <th>Z_flag</th>\n",
       "      <th>B_flag</th>\n",
       "    </tr>\n",
       "  </thead>\n",
       "  <tbody>\n",
       "    <tr>\n",
       "      <th>4412113</th>\n",
       "      <td>PLYM</td>\n",
       "      <td>3/26/2021 10:43</td>\n",
       "      <td>7.500</td>\n",
       "      <td>ws02</td>\n",
       "      <td>False</td>\n",
       "      <td>0</td>\n",
       "      <td>0</td>\n",
       "      <td>0</td>\n",
       "      <td>-1</td>\n",
       "    </tr>\n",
       "    <tr>\n",
       "      <th>4791194</th>\n",
       "      <td>ROCK</td>\n",
       "      <td>1/3/2021 9:29</td>\n",
       "      <td>0.291</td>\n",
       "      <td>sm</td>\n",
       "      <td>False</td>\n",
       "      <td>0</td>\n",
       "      <td>-1</td>\n",
       "      <td>-1</td>\n",
       "      <td>1</td>\n",
       "    </tr>\n",
       "    <tr>\n",
       "      <th>4020915</th>\n",
       "      <td>NEWL</td>\n",
       "      <td>6/22/2021 17:27</td>\n",
       "      <td>0.187</td>\n",
       "      <td>sm</td>\n",
       "      <td>False</td>\n",
       "      <td>0</td>\n",
       "      <td>-1</td>\n",
       "      <td>-1</td>\n",
       "      <td>0</td>\n",
       "    </tr>\n",
       "    <tr>\n",
       "      <th>497968</th>\n",
       "      <td>BEAR</td>\n",
       "      <td>7/1/2021 7:27</td>\n",
       "      <td>323.400</td>\n",
       "      <td>sr</td>\n",
       "      <td>False</td>\n",
       "      <td>4</td>\n",
       "      <td>0</td>\n",
       "      <td>-1</td>\n",
       "      <td>-1</td>\n",
       "    </tr>\n",
       "    <tr>\n",
       "      <th>5150620</th>\n",
       "      <td>SILR</td>\n",
       "      <td>1/5/2021 4:09</td>\n",
       "      <td>0.363</td>\n",
       "      <td>sm</td>\n",
       "      <td>False</td>\n",
       "      <td>0</td>\n",
       "      <td>-1</td>\n",
       "      <td>-1</td>\n",
       "      <td>1</td>\n",
       "    </tr>\n",
       "    <tr>\n",
       "      <th>...</th>\n",
       "      <td>...</td>\n",
       "      <td>...</td>\n",
       "      <td>...</td>\n",
       "      <td>...</td>\n",
       "      <td>...</td>\n",
       "      <td>...</td>\n",
       "      <td>...</td>\n",
       "      <td>...</td>\n",
       "      <td>...</td>\n",
       "    </tr>\n",
       "    <tr>\n",
       "      <th>6466129</th>\n",
       "      <td>WINE</td>\n",
       "      <td>9/23/2021 21:27</td>\n",
       "      <td>0.170</td>\n",
       "      <td>sm</td>\n",
       "      <td>False</td>\n",
       "      <td>0</td>\n",
       "      <td>-1</td>\n",
       "      <td>-1</td>\n",
       "      <td>1</td>\n",
       "    </tr>\n",
       "    <tr>\n",
       "      <th>4898067</th>\n",
       "      <td>SALI</td>\n",
       "      <td>3/31/2021 13:47</td>\n",
       "      <td>0.584</td>\n",
       "      <td>sm</td>\n",
       "      <td>False</td>\n",
       "      <td>4</td>\n",
       "      <td>-1</td>\n",
       "      <td>-1</td>\n",
       "      <td>-1</td>\n",
       "    </tr>\n",
       "    <tr>\n",
       "      <th>3393150</th>\n",
       "      <td>MITC</td>\n",
       "      <td>5/4/2021 12:41</td>\n",
       "      <td>91.900</td>\n",
       "      <td>par</td>\n",
       "      <td>False</td>\n",
       "      <td>4</td>\n",
       "      <td>0</td>\n",
       "      <td>-1</td>\n",
       "      <td>-1</td>\n",
       "    </tr>\n",
       "    <tr>\n",
       "      <th>6049767</th>\n",
       "      <td>WAYN</td>\n",
       "      <td>10/19/2021 7:42</td>\n",
       "      <td>1.220</td>\n",
       "      <td>temp10</td>\n",
       "      <td>False</td>\n",
       "      <td>1</td>\n",
       "      <td>-1</td>\n",
       "      <td>-1</td>\n",
       "      <td>2</td>\n",
       "    </tr>\n",
       "    <tr>\n",
       "      <th>4966497</th>\n",
       "      <td>SALI</td>\n",
       "      <td>6/18/2021 3:17</td>\n",
       "      <td>0.472</td>\n",
       "      <td>sm</td>\n",
       "      <td>False</td>\n",
       "      <td>0</td>\n",
       "      <td>-1</td>\n",
       "      <td>-1</td>\n",
       "      <td>1</td>\n",
       "    </tr>\n",
       "  </tbody>\n",
       "</table>\n",
       "<p>3179 rows × 9 columns</p>\n",
       "</div>"
      ],
      "text/plain": [
       "        Station               Ob    value measure  target  R_flag  I_flag  \\\n",
       "4412113    PLYM  3/26/2021 10:43    7.500    ws02   False       0       0   \n",
       "4791194    ROCK    1/3/2021 9:29    0.291      sm   False       0      -1   \n",
       "4020915    NEWL  6/22/2021 17:27    0.187      sm   False       0      -1   \n",
       "497968     BEAR    7/1/2021 7:27  323.400      sr   False       4       0   \n",
       "5150620    SILR    1/5/2021 4:09    0.363      sm   False       0      -1   \n",
       "...         ...              ...      ...     ...     ...     ...     ...   \n",
       "6466129    WINE  9/23/2021 21:27    0.170      sm   False       0      -1   \n",
       "4898067    SALI  3/31/2021 13:47    0.584      sm   False       4      -1   \n",
       "3393150    MITC   5/4/2021 12:41   91.900     par   False       4       0   \n",
       "6049767    WAYN  10/19/2021 7:42    1.220  temp10   False       1      -1   \n",
       "4966497    SALI   6/18/2021 3:17    0.472      sm   False       0      -1   \n",
       "\n",
       "         Z_flag  B_flag  \n",
       "4412113       0      -1  \n",
       "4791194      -1       1  \n",
       "4020915      -1       0  \n",
       "497968       -1      -1  \n",
       "5150620      -1       1  \n",
       "...         ...     ...  \n",
       "6466129      -1       1  \n",
       "4898067      -1      -1  \n",
       "3393150      -1      -1  \n",
       "6049767      -1       2  \n",
       "4966497      -1       1  \n",
       "\n",
       "[3179 rows x 9 columns]"
      ]
     },
     "execution_count": 11,
     "metadata": {},
     "output_type": "execute_result"
    }
   ],
   "source": [
    "sampled_false_group"
   ]
  },
  {
   "cell_type": "code",
   "execution_count": 12,
   "id": "1bd7b646",
   "metadata": {},
   "outputs": [
    {
     "data": {
      "text/plain": [
       "3179"
      ]
     },
     "execution_count": 12,
     "metadata": {},
     "output_type": "execute_result"
    }
   ],
   "source": [
    "len(sampled_false_group)"
   ]
  },
  {
   "cell_type": "code",
   "execution_count": 13,
   "id": "a312d926",
   "metadata": {
    "scrolled": false
   },
   "outputs": [
    {
     "name": "stderr",
     "output_type": "stream",
     "text": [
      "C:\\Users\\lijun\\anaconda3\\lib\\site-packages\\sklearn\\utils\\validation.py:70: FutureWarning: Pass n_components=10 as keyword args. From version 1.0 (renaming of 0.25) passing these as positional arguments will result in an error\n",
      "  warnings.warn(f\"Pass {args_msg} as keyword args. From version \"\n",
      "C:\\Users\\lijun\\anaconda3\\lib\\site-packages\\sklearn\\mixture\\_base.py:265: ConvergenceWarning: Initialization 1 did not converge. Try different init parameters, or increase max_iter, tol or check for degenerate data.\n",
      "  warnings.warn('Initialization %d did not converge. '\n",
      "C:\\Users\\lijun\\anaconda3\\lib\\site-packages\\sklearn\\utils\\validation.py:70: FutureWarning: Pass n_components=10 as keyword args. From version 1.0 (renaming of 0.25) passing these as positional arguments will result in an error\n",
      "  warnings.warn(f\"Pass {args_msg} as keyword args. From version \"\n",
      "C:\\Users\\lijun\\anaconda3\\lib\\site-packages\\sklearn\\mixture\\_base.py:147: ConvergenceWarning: Number of distinct clusters (6) found smaller than n_clusters (10). Possibly due to duplicate points in X.\n",
      "  label = cluster.KMeans(n_clusters=self.n_components, n_init=1,\n",
      "C:\\Users\\lijun\\anaconda3\\lib\\site-packages\\sklearn\\utils\\validation.py:70: FutureWarning: Pass n_components=10 as keyword args. From version 1.0 (renaming of 0.25) passing these as positional arguments will result in an error\n",
      "  warnings.warn(f\"Pass {args_msg} as keyword args. From version \"\n",
      "C:\\Users\\lijun\\anaconda3\\lib\\site-packages\\sklearn\\mixture\\_base.py:147: ConvergenceWarning: Number of distinct clusters (4) found smaller than n_clusters (10). Possibly due to duplicate points in X.\n",
      "  label = cluster.KMeans(n_clusters=self.n_components, n_init=1,\n",
      "C:\\Users\\lijun\\anaconda3\\lib\\site-packages\\sklearn\\utils\\validation.py:70: FutureWarning: Pass n_components=10 as keyword args. From version 1.0 (renaming of 0.25) passing these as positional arguments will result in an error\n",
      "  warnings.warn(f\"Pass {args_msg} as keyword args. From version \"\n",
      "C:\\Users\\lijun\\anaconda3\\lib\\site-packages\\sklearn\\mixture\\_base.py:147: ConvergenceWarning: Number of distinct clusters (4) found smaller than n_clusters (10). Possibly due to duplicate points in X.\n",
      "  label = cluster.KMeans(n_clusters=self.n_components, n_init=1,\n",
      "C:\\Users\\lijun\\anaconda3\\lib\\site-packages\\sklearn\\utils\\validation.py:70: FutureWarning: Pass n_components=10 as keyword args. From version 1.0 (renaming of 0.25) passing these as positional arguments will result in an error\n",
      "  warnings.warn(f\"Pass {args_msg} as keyword args. From version \"\n",
      "C:\\Users\\lijun\\anaconda3\\lib\\site-packages\\sklearn\\mixture\\_base.py:147: ConvergenceWarning: Number of distinct clusters (5) found smaller than n_clusters (10). Possibly due to duplicate points in X.\n",
      "  label = cluster.KMeans(n_clusters=self.n_components, n_init=1,\n"
     ]
    }
   ],
   "source": [
    "#train GAN model with false group\n",
    "ctgan_false = CTGANSynthesizer(epochs=5)\n",
    "ctgan_false.fit(sampled_false_group, discrete_columns)"
   ]
  },
  {
   "cell_type": "code",
   "execution_count": 14,
   "id": "a332f885",
   "metadata": {
    "scrolled": true
   },
   "outputs": [
    {
     "name": "stdout",
     "output_type": "stream",
     "text": [
      "  Station               Ob        value   measure  target  R_flag  I_flag  \\\n",
      "0    BAHA  10/23/2021 8:46    -0.115477  temp_wxt   False       0       0   \n",
      "1    SILR  12/16/2021 5:56   -12.189837      ws06   False       0       0   \n",
      "2    SASS  11/10/2021 1:17  1486.731623      pres   False       0       0   \n",
      "3    GOLD   5/7/2021 22:45    87.228129        sr   False       0       2   \n",
      "4    JACK  1/16/2021 16:04   703.419511       par   False       3       0   \n",
      "\n",
      "   Z_flag  B_flag  \n",
      "0       0       0  \n",
      "1      -1       0  \n",
      "2       0       2  \n",
      "3       0      -1  \n",
      "4       0       1  \n"
     ]
    }
   ],
   "source": [
    "#generate synthetic false group data \n",
    "synthetic_false_data = ctgan_false.sample(3000)\n",
    "print(synthetic_false_data.head(5))"
   ]
  },
  {
   "cell_type": "markdown",
   "id": "53c6e915",
   "metadata": {},
   "source": [
    "Sample from true group and generate synthetic data from CTGAN."
   ]
  },
  {
   "cell_type": "code",
   "execution_count": 5,
   "id": "de207d68",
   "metadata": {},
   "outputs": [
    {
     "data": {
      "text/plain": [
       "23517"
      ]
     },
     "execution_count": 5,
     "metadata": {},
     "output_type": "execute_result"
    }
   ],
   "source": [
    "sampled_true_group = true_group.sample(frac=0.1, replace=True, random_state=1)\n",
    "len(sampled_true_group)"
   ]
  },
  {
   "cell_type": "code",
   "execution_count": null,
   "id": "ec6d0182",
   "metadata": {
    "scrolled": true
   },
   "outputs": [
    {
     "name": "stderr",
     "output_type": "stream",
     "text": [
      "C:\\Users\\lijun\\anaconda3\\lib\\site-packages\\sklearn\\utils\\validation.py:70: FutureWarning: Pass n_components=10 as keyword args. From version 1.0 (renaming of 0.25) passing these as positional arguments will result in an error\n",
      "  warnings.warn(f\"Pass {args_msg} as keyword args. From version \"\n",
      "C:\\Users\\lijun\\anaconda3\\lib\\site-packages\\sklearn\\mixture\\_base.py:265: ConvergenceWarning: Initialization 1 did not converge. Try different init parameters, or increase max_iter, tol or check for degenerate data.\n",
      "  warnings.warn('Initialization %d did not converge. '\n",
      "C:\\Users\\lijun\\anaconda3\\lib\\site-packages\\sklearn\\utils\\validation.py:70: FutureWarning: Pass n_components=10 as keyword args. From version 1.0 (renaming of 0.25) passing these as positional arguments will result in an error\n",
      "  warnings.warn(f\"Pass {args_msg} as keyword args. From version \"\n",
      "C:\\Users\\lijun\\anaconda3\\lib\\site-packages\\sklearn\\mixture\\_base.py:147: ConvergenceWarning: Number of distinct clusters (6) found smaller than n_clusters (10). Possibly due to duplicate points in X.\n",
      "  label = cluster.KMeans(n_clusters=self.n_components, n_init=1,\n",
      "C:\\Users\\lijun\\anaconda3\\lib\\site-packages\\sklearn\\utils\\validation.py:70: FutureWarning: Pass n_components=10 as keyword args. From version 1.0 (renaming of 0.25) passing these as positional arguments will result in an error\n",
      "  warnings.warn(f\"Pass {args_msg} as keyword args. From version \"\n",
      "C:\\Users\\lijun\\anaconda3\\lib\\site-packages\\sklearn\\mixture\\_base.py:147: ConvergenceWarning: Number of distinct clusters (4) found smaller than n_clusters (10). Possibly due to duplicate points in X.\n",
      "  label = cluster.KMeans(n_clusters=self.n_components, n_init=1,\n",
      "C:\\Users\\lijun\\anaconda3\\lib\\site-packages\\sklearn\\utils\\validation.py:70: FutureWarning: Pass n_components=10 as keyword args. From version 1.0 (renaming of 0.25) passing these as positional arguments will result in an error\n",
      "  warnings.warn(f\"Pass {args_msg} as keyword args. From version \"\n",
      "C:\\Users\\lijun\\anaconda3\\lib\\site-packages\\sklearn\\mixture\\_base.py:147: ConvergenceWarning: Number of distinct clusters (4) found smaller than n_clusters (10). Possibly due to duplicate points in X.\n",
      "  label = cluster.KMeans(n_clusters=self.n_components, n_init=1,\n",
      "C:\\Users\\lijun\\anaconda3\\lib\\site-packages\\sklearn\\utils\\validation.py:70: FutureWarning: Pass n_components=10 as keyword args. From version 1.0 (renaming of 0.25) passing these as positional arguments will result in an error\n",
      "  warnings.warn(f\"Pass {args_msg} as keyword args. From version \"\n",
      "C:\\Users\\lijun\\anaconda3\\lib\\site-packages\\sklearn\\mixture\\_base.py:147: ConvergenceWarning: Number of distinct clusters (5) found smaller than n_clusters (10). Possibly due to duplicate points in X.\n",
      "  label = cluster.KMeans(n_clusters=self.n_components, n_init=1,\n"
     ]
    }
   ],
   "source": [
    "#train GAN model with false group\n",
    "ctgan_true = CTGANSynthesizer(epochs=5)\n",
    "ctgan_true.fit(sampled_true_group, discrete_columns)"
   ]
  },
  {
   "cell_type": "markdown",
   "id": "0f036e88",
   "metadata": {},
   "source": [
    "prepare synthetic data with 3000 false and 3000 true cases"
   ]
  },
  {
   "cell_type": "code",
   "execution_count": 17,
   "id": "bca11e17",
   "metadata": {
    "scrolled": true
   },
   "outputs": [
    {
     "name": "stdout",
     "output_type": "stream",
     "text": [
      "  Station               Ob       value   measure  target  R_flag  I_flag  \\\n",
      "0    LILE    1/6/2021 4:39   12.532473      pres    True       0      -1   \n",
      "1    BAHA    3/4/2021 4:58   20.608330    precip    True       0      -1   \n",
      "2    GOLD    1/9/2021 3:30   15.836001        sr    True       0      -1   \n",
      "3    TAYL  8/19/2021 16:06  157.094013  temp_wxt    True       0       0   \n",
      "4    WAYN   3/8/2021 11:43   23.175124    temp10    True       0      -1   \n",
      "\n",
      "   Z_flag  B_flag  \n",
      "0       0      -1  \n",
      "1       0       2  \n",
      "2       0       0  \n",
      "3       0       0  \n",
      "4       0      -1  \n"
     ]
    }
   ],
   "source": [
    "#generate synthetic false group data \n",
    "synthetic_true_data = ctgan_true.sample(3000)\n",
    "print(synthetic_true_data.head(5))\n"
   ]
  },
  {
   "cell_type": "code",
   "execution_count": 18,
   "id": "a50b48bc",
   "metadata": {},
   "outputs": [
    {
     "name": "stdout",
     "output_type": "stream",
     "text": [
      "3000 3000\n"
     ]
    }
   ],
   "source": [
    "print(len(synthetic_true_data),len(synthetic_false_data))"
   ]
  },
  {
   "cell_type": "code",
   "execution_count": 19,
   "id": "bd2de3a7",
   "metadata": {
    "scrolled": true
   },
   "outputs": [
    {
     "data": {
      "text/html": [
       "<div>\n",
       "<style scoped>\n",
       "    .dataframe tbody tr th:only-of-type {\n",
       "        vertical-align: middle;\n",
       "    }\n",
       "\n",
       "    .dataframe tbody tr th {\n",
       "        vertical-align: top;\n",
       "    }\n",
       "\n",
       "    .dataframe thead th {\n",
       "        text-align: right;\n",
       "    }\n",
       "</style>\n",
       "<table border=\"1\" class=\"dataframe\">\n",
       "  <thead>\n",
       "    <tr style=\"text-align: right;\">\n",
       "      <th></th>\n",
       "      <th>Station</th>\n",
       "      <th>Ob</th>\n",
       "      <th>value</th>\n",
       "      <th>measure</th>\n",
       "      <th>target</th>\n",
       "      <th>R_flag</th>\n",
       "      <th>I_flag</th>\n",
       "      <th>Z_flag</th>\n",
       "      <th>B_flag</th>\n",
       "    </tr>\n",
       "  </thead>\n",
       "  <tbody>\n",
       "    <tr>\n",
       "      <th>0</th>\n",
       "      <td>22</td>\n",
       "      <td>553</td>\n",
       "      <td>12.532473</td>\n",
       "      <td>3</td>\n",
       "      <td>1</td>\n",
       "      <td>0</td>\n",
       "      <td>-1</td>\n",
       "      <td>0</td>\n",
       "      <td>-1</td>\n",
       "    </tr>\n",
       "    <tr>\n",
       "      <th>1</th>\n",
       "      <td>1</td>\n",
       "      <td>2132</td>\n",
       "      <td>20.608330</td>\n",
       "      <td>2</td>\n",
       "      <td>1</td>\n",
       "      <td>0</td>\n",
       "      <td>-1</td>\n",
       "      <td>0</td>\n",
       "      <td>2</td>\n",
       "    </tr>\n",
       "    <tr>\n",
       "      <th>2</th>\n",
       "      <td>14</td>\n",
       "      <td>775</td>\n",
       "      <td>15.836001</td>\n",
       "      <td>7</td>\n",
       "      <td>1</td>\n",
       "      <td>0</td>\n",
       "      <td>-1</td>\n",
       "      <td>0</td>\n",
       "      <td>0</td>\n",
       "    </tr>\n",
       "    <tr>\n",
       "      <th>3</th>\n",
       "      <td>36</td>\n",
       "      <td>3417</td>\n",
       "      <td>157.094013</td>\n",
       "      <td>10</td>\n",
       "      <td>1</td>\n",
       "      <td>0</td>\n",
       "      <td>0</td>\n",
       "      <td>0</td>\n",
       "      <td>0</td>\n",
       "    </tr>\n",
       "    <tr>\n",
       "      <th>4</th>\n",
       "      <td>38</td>\n",
       "      <td>2179</td>\n",
       "      <td>23.175124</td>\n",
       "      <td>9</td>\n",
       "      <td>1</td>\n",
       "      <td>0</td>\n",
       "      <td>-1</td>\n",
       "      <td>0</td>\n",
       "      <td>-1</td>\n",
       "    </tr>\n",
       "    <tr>\n",
       "      <th>...</th>\n",
       "      <td>...</td>\n",
       "      <td>...</td>\n",
       "      <td>...</td>\n",
       "      <td>...</td>\n",
       "      <td>...</td>\n",
       "      <td>...</td>\n",
       "      <td>...</td>\n",
       "      <td>...</td>\n",
       "      <td>...</td>\n",
       "    </tr>\n",
       "    <tr>\n",
       "      <th>2995</th>\n",
       "      <td>22</td>\n",
       "      <td>2282</td>\n",
       "      <td>-10.991940</td>\n",
       "      <td>7</td>\n",
       "      <td>0</td>\n",
       "      <td>0</td>\n",
       "      <td>0</td>\n",
       "      <td>0</td>\n",
       "      <td>0</td>\n",
       "    </tr>\n",
       "    <tr>\n",
       "      <th>2996</th>\n",
       "      <td>8</td>\n",
       "      <td>831</td>\n",
       "      <td>79.594734</td>\n",
       "      <td>6</td>\n",
       "      <td>0</td>\n",
       "      <td>0</td>\n",
       "      <td>2</td>\n",
       "      <td>0</td>\n",
       "      <td>1</td>\n",
       "    </tr>\n",
       "    <tr>\n",
       "      <th>2997</th>\n",
       "      <td>18</td>\n",
       "      <td>3671</td>\n",
       "      <td>4.446254</td>\n",
       "      <td>6</td>\n",
       "      <td>0</td>\n",
       "      <td>0</td>\n",
       "      <td>0</td>\n",
       "      <td>0</td>\n",
       "      <td>-1</td>\n",
       "    </tr>\n",
       "    <tr>\n",
       "      <th>2998</th>\n",
       "      <td>17</td>\n",
       "      <td>3311</td>\n",
       "      <td>3.774273</td>\n",
       "      <td>11</td>\n",
       "      <td>0</td>\n",
       "      <td>1</td>\n",
       "      <td>0</td>\n",
       "      <td>0</td>\n",
       "      <td>0</td>\n",
       "    </tr>\n",
       "    <tr>\n",
       "      <th>2999</th>\n",
       "      <td>1</td>\n",
       "      <td>3475</td>\n",
       "      <td>10.217050</td>\n",
       "      <td>5</td>\n",
       "      <td>0</td>\n",
       "      <td>0</td>\n",
       "      <td>0</td>\n",
       "      <td>2</td>\n",
       "      <td>0</td>\n",
       "    </tr>\n",
       "  </tbody>\n",
       "</table>\n",
       "<p>6000 rows × 9 columns</p>\n",
       "</div>"
      ],
      "text/plain": [
       "      Station    Ob       value  measure  target  R_flag  I_flag  Z_flag  \\\n",
       "0          22   553   12.532473        3       1       0      -1       0   \n",
       "1           1  2132   20.608330        2       1       0      -1       0   \n",
       "2          14   775   15.836001        7       1       0      -1       0   \n",
       "3          36  3417  157.094013       10       1       0       0       0   \n",
       "4          38  2179   23.175124        9       1       0      -1       0   \n",
       "...       ...   ...         ...      ...     ...     ...     ...     ...   \n",
       "2995       22  2282  -10.991940        7       0       0       0       0   \n",
       "2996        8   831   79.594734        6       0       0       2       0   \n",
       "2997       18  3671    4.446254        6       0       0       0       0   \n",
       "2998       17  3311    3.774273       11       0       1       0       0   \n",
       "2999        1  3475   10.217050        5       0       0       0       2   \n",
       "\n",
       "      B_flag  \n",
       "0         -1  \n",
       "1          2  \n",
       "2          0  \n",
       "3          0  \n",
       "4         -1  \n",
       "...      ...  \n",
       "2995       0  \n",
       "2996       1  \n",
       "2997      -1  \n",
       "2998       0  \n",
       "2999       0  \n",
       "\n",
       "[6000 rows x 9 columns]"
      ]
     },
     "execution_count": 19,
     "metadata": {},
     "output_type": "execute_result"
    }
   ],
   "source": [
    "#combine synthetic data to balenced data and preprocessing\n",
    "raw_synthetic = pd.concat([synthetic_true_data, synthetic_false_data])\n",
    "len(raw_synthetic)\n",
    "from sklearn.preprocessing import LabelEncoder\n",
    "lb_make = LabelEncoder()\n",
    "for discrete_column in discrete_columns:\n",
    "  raw_synthetic[discrete_column] = lb_make.fit_transform(raw_synthetic[discrete_column])\n",
    "\n",
    "raw_synthetic"
   ]
  },
  {
   "cell_type": "code",
   "execution_count": null,
   "id": "b3ad687e",
   "metadata": {},
   "outputs": [],
   "source": []
  },
  {
   "cell_type": "code",
   "execution_count": 20,
   "id": "9c224703",
   "metadata": {
    "scrolled": true
   },
   "outputs": [
    {
     "name": "stdout",
     "output_type": "stream",
     "text": [
      "   target\n",
      "0       1\n",
      "1       1\n",
      "2       1\n",
      "3       1\n",
      "4       1    Station    Ob       value  measure  R_flag  I_flag  Z_flag  B_flag\n",
      "0       22   553   12.532473        3       0      -1       0      -1\n",
      "1        1  2132   20.608330        2       0      -1       0       2\n",
      "2       14   775   15.836001        7       0      -1       0       0\n",
      "3       36  3417  157.094013       10       0       0       0       0\n",
      "4       38  2179   23.175124        9       0      -1       0      -1\n"
     ]
    }
   ],
   "source": [
    "#prepare data for evaluation\n",
    "raw_x = raw_synthetic[[\"Station\", \"Ob\", \"value\", \"measure\", \"R_flag\", \"I_flag\", \"Z_flag\", \"B_flag\"]]\n",
    "\n",
    "raw_y = raw_synthetic[[\"target\"]]\n",
    "print(raw_y.head(),raw_x.head())"
   ]
  },
  {
   "cell_type": "code",
   "execution_count": 111,
   "id": "4bc05032",
   "metadata": {
    "scrolled": true
   },
   "outputs": [
    {
     "name": "stderr",
     "output_type": "stream",
     "text": [
      "<ipython-input-111-41dc42b44a89>:2: DataConversionWarning: A column-vector y was passed when a 1d array was expected. Please change the shape of y to (n_samples,), for example using ravel().\n",
      "  forest.fit(raw_x, raw_y)\n"
     ]
    }
   ],
   "source": [
    "forest = RandomForestClassifier()\n",
    "forest.fit(raw_x, raw_y)\n",
    "\n",
    "importances = forest.feature_importances_\n"
   ]
  },
  {
   "cell_type": "code",
   "execution_count": 113,
   "id": "c3688d3e",
   "metadata": {},
   "outputs": [
    {
     "name": "stdout",
     "output_type": "stream",
     "text": [
      "Feature importance ranking by Random Forest Model:\n",
      "value : 0.3666\n",
      "I_flag : 0.3624\n",
      "Ob : 0.098\n",
      "B_flag : 0.0707\n",
      "measure : 0.0395\n",
      "Station : 0.0366\n",
      "Z_flag : 0.0144\n",
      "R_flag : 0.0118\n"
     ]
    }
   ],
   "source": [
    "indices = np.argsort(importances)[::-1]\n",
    "\n",
    "# Print the feature ranking\n",
    "print(\"Feature importance ranking by Random Forest Model:\")\n",
    "for ind in range(raw_x.shape[1]):\n",
    "  print (\"{0} : {1}\".format(raw_x.columns[indices[ind]],round(importances[indices[ind]], 4)))\n"
   ]
  },
  {
   "cell_type": "markdown",
   "id": "78c2f6b3",
   "metadata": {},
   "source": [
    "prepare sampled data for comparation"
   ]
  },
  {
   "cell_type": "code",
   "execution_count": 22,
   "id": "77c56c40",
   "metadata": {},
   "outputs": [],
   "source": [
    "raw = pd.concat([sampled_false_group, sampled_true_group])\n",
    "len(raw)\n",
    "from sklearn.preprocessing import LabelEncoder\n",
    "lb_make = LabelEncoder()\n",
    "for discrete_column in discrete_columns:\n",
    "  raw[discrete_column] = lb_make.fit_transform(raw[discrete_column])\n"
   ]
  },
  {
   "cell_type": "code",
   "execution_count": 23,
   "id": "125624ea",
   "metadata": {
    "scrolled": true
   },
   "outputs": [
    {
     "name": "stdout",
     "output_type": "stream",
     "text": [
      "   target\n",
      "0       1\n",
      "1       1\n",
      "2       1\n",
      "3       1\n",
      "4       1    Station    Ob       value  measure  R_flag  I_flag  Z_flag  B_flag\n",
      "0       22   553   12.532473        3       0      -1       0      -1\n",
      "1        1  2132   20.608330        2       0      -1       0       2\n",
      "2       14   775   15.836001        7       0      -1       0       0\n",
      "3       36  3417  157.094013       10       0       0       0       0\n",
      "4       38  2179   23.175124        9       0      -1       0      -1\n"
     ]
    }
   ],
   "source": [
    "x = raw[[\"Station\", \"Ob\", \"value\", \"measure\", \"R_flag\", \"I_flag\", \"Z_flag\", \"B_flag\"]]\n",
    "\n",
    "y = raw[[\"target\"]]\n",
    "print(raw_y.head(),raw_x.head())"
   ]
  },
  {
   "cell_type": "markdown",
   "id": "be100ef1",
   "metadata": {},
   "source": [
    "prepare imbalenced data for comparation"
   ]
  },
  {
   "cell_type": "code",
   "execution_count": 24,
   "id": "7ae119bc",
   "metadata": {},
   "outputs": [
    {
     "data": {
      "text/plain": [
       "1978"
      ]
     },
     "execution_count": 24,
     "metadata": {},
     "output_type": "execute_result"
    }
   ],
   "source": [
    "imbalenced_raw = train.sample(frac=0.0003, replace=True, random_state=1)\n",
    "\n",
    "from sklearn.preprocessing import LabelEncoder\n",
    "lb_make = LabelEncoder()\n",
    "for discrete_column in discrete_columns:\n",
    "  imbalenced_raw[discrete_column] = lb_make.fit_transform(imbalenced_raw[discrete_column])\n",
    "len(imbalenced_raw)"
   ]
  },
  {
   "cell_type": "code",
   "execution_count": 25,
   "id": "5e9d3ada",
   "metadata": {},
   "outputs": [
    {
     "name": "stdout",
     "output_type": "stream",
     "text": [
      "   target\n",
      "0       1\n",
      "1       1\n",
      "2       1\n",
      "3       1\n",
      "4       1    Station    Ob       value  measure  R_flag  I_flag  Z_flag  B_flag\n",
      "0       22   553   12.532473        3       0      -1       0      -1\n",
      "1        1  2132   20.608330        2       0      -1       0       2\n",
      "2       14   775   15.836001        7       0      -1       0       0\n",
      "3       36  3417  157.094013       10       0       0       0       0\n",
      "4       38  2179   23.175124        9       0      -1       0      -1\n"
     ]
    }
   ],
   "source": [
    "ix = imbalenced_raw[[\"Station\", \"Ob\", \"value\", \"measure\", \"R_flag\", \"I_flag\", \"Z_flag\", \"B_flag\"]]\n",
    "\n",
    "iy = imbalenced_raw[[\"target\"]]\n",
    "print(raw_y.head(),raw_x.head())"
   ]
  },
  {
   "cell_type": "code",
   "execution_count": 26,
   "id": "8603589f",
   "metadata": {},
   "outputs": [],
   "source": [
    "#split the stnthetic data and origin data\n",
    "X_train, X_test, y_train, y_test = train_test_split(x,y,test_size = 0.25,random_state = 25)\n",
    "S_X_train, S_X_test, S_y_train, S_y_test = train_test_split(raw_x,raw_y,test_size = 0.25,random_state = 25)\n",
    "I_X_train, I_X_test, I_y_train, I_y_test = train_test_split(ix,iy,test_size = 0.25,random_state = 25)"
   ]
  },
  {
   "cell_type": "code",
   "execution_count": 49,
   "id": "69708d4e",
   "metadata": {},
   "outputs": [
    {
     "data": {
      "text/plain": [
       "3297"
      ]
     },
     "execution_count": 49,
     "metadata": {},
     "output_type": "execute_result"
    }
   ],
   "source": [
    "test = train.sample(frac=0.0005, replace=True, random_state=25)\n",
    "len(test)"
   ]
  },
  {
   "cell_type": "code",
   "execution_count": 43,
   "id": "78063e17",
   "metadata": {},
   "outputs": [
    {
     "name": "stdout",
     "output_type": "stream",
     "text": [
      "         Station    Ob   value  measure  target  R_flag  I_flag  Z_flag  \\\n",
      "4224132       27   324   0.223        6       0       0      -1      -1   \n",
      "3236158       20   702   4.644        9       0       0      -1      -1   \n",
      "1055194        5  2430  89.900        5       0       0      -1       4   \n",
      "6421821       42  2601   0.163        6       0       0      -1      -1   \n",
      "5016438       31   656   0.375        6       0       0      -1      -1   \n",
      "\n",
      "         B_flag  \n",
      "4224132       2  \n",
      "3236158       1  \n",
      "1055194       0  \n",
      "6421821       1  \n",
      "5016438       1  \n"
     ]
    }
   ],
   "source": [
    "from sklearn.preprocessing import LabelEncoder\n",
    "lb_make = LabelEncoder()\n",
    "for discrete_column in discrete_columns:\n",
    "  test[discrete_column] = lb_make.fit_transform(test[discrete_column])\n",
    "print(test.head())\n",
    "tx = imbalenced_raw[[\"Station\", \"Ob\", \"value\", \"measure\", \"R_flag\", \"I_flag\", \"Z_flag\", \"B_flag\"]]\n",
    "\n",
    "ty = imbalenced_raw[[\"target\"]]"
   ]
  },
  {
   "cell_type": "code",
   "execution_count": 44,
   "id": "ce5a3374",
   "metadata": {},
   "outputs": [],
   "source": [
    "T_X_train, T_X_test, T_y_train, T_y_test = train_test_split(tx,ty,test_size = 0.99,random_state = 25)"
   ]
  },
  {
   "cell_type": "code",
   "execution_count": 88,
   "id": "fa6d6989",
   "metadata": {},
   "outputs": [
    {
     "name": "stdout",
     "output_type": "stream",
     "text": [
      "1959\n"
     ]
    }
   ],
   "source": [
    "print(len(T_X_test))"
   ]
  },
  {
   "cell_type": "markdown",
   "id": "2f156669",
   "metadata": {},
   "source": [
    "Test performance with DTC "
   ]
  },
  {
   "cell_type": "code",
   "execution_count": 89,
   "id": "84e4ce64",
   "metadata": {},
   "outputs": [
    {
     "name": "stdout",
     "output_type": "stream",
     "text": [
      "Decision Tree: Cofusion Matrix for raw data\n",
      "[[ 749 1145]\n",
      " [  42   23]]\n",
      "The accuracy is: 39.41%\n"
     ]
    }
   ],
   "source": [
    "# Using balenced simple random sample data\n",
    "from sklearn.tree import DecisionTreeClassifier\n",
    "classifier = DecisionTreeClassifier(criterion ='gini', random_state = 25)\n",
    "classifier.fit(X_train, y_train)\n",
    "y_pred = classifier.predict(T_X_test)\n",
    "from sklearn.metrics import confusion_matrix\n",
    "matrix = confusion_matrix(T_y_test, y_pred)\n",
    "accuracy = np.trace(matrix) / float(np.sum(matrix))\n",
    "print(\"Decision Tree: Cofusion Matrix for raw data\")\n",
    "print(matrix)\n",
    "print(\"The accuracy is: {:.2%}\".format(accuracy))"
   ]
  },
  {
   "cell_type": "code",
   "execution_count": 90,
   "id": "350ddb40",
   "metadata": {},
   "outputs": [
    {
     "name": "stdout",
     "output_type": "stream",
     "text": [
      "DT: f1=0.037 auc=0.197\n"
     ]
    },
    {
     "data": {
      "image/png": "[encoded data removed]",
      "text/plain": [
       "<Figure size 432x288 with 1 Axes>"
      ]
     },
     "metadata": {
      "needs_background": "light"
     },
     "output_type": "display_data"
    }
   ],
   "source": [
    "# precision-recall curve and f1\n",
    "from sklearn.datasets import make_classification\n",
    "from sklearn.linear_model import LogisticRegression\n",
    "from sklearn.model_selection import train_test_split\n",
    "from sklearn.metrics import precision_recall_curve\n",
    "from sklearn.metrics import f1_score\n",
    "from sklearn.metrics import auc\n",
    "from matplotlib import pyplot\n",
    "lr_probs = classifier.predict_proba(T_X_test)\n",
    "lr_probs = lr_probs[:, 1]\n",
    "lr_precision, lr_recall, _ = precision_recall_curve(T_y_test, lr_probs)\n",
    "lr_f1, lr_auc = f1_score(T_y_test, y_pred), auc(lr_recall, lr_precision)\n",
    "# summarize scores\n",
    "print('DT: f1=%.3f auc=%.3f' % (lr_f1, lr_auc))\n",
    "# plot the precision-recall curves\n",
    "no_skill = len(T_y_test[T_y_test==1]) / len(T_y_test)\n",
    "pyplot.plot([0, 1], [no_skill, no_skill], linestyle='--', label='No Skill')\n",
    "pyplot.plot(lr_recall, lr_precision, marker='.', label='DTC')\n",
    "# axis labels\n",
    "pyplot.xlabel('Recall')\n",
    "pyplot.ylabel('Precision')\n",
    "# show the legend\n",
    "pyplot.legend()\n",
    "# show the plot\n",
    "pyplot.show()"
   ]
  },
  {
   "cell_type": "code",
   "execution_count": 91,
   "id": "bb2b7b44",
   "metadata": {},
   "outputs": [
    {
     "name": "stdout",
     "output_type": "stream",
     "text": [
      "Decision Tree: Cofusion Matrix for synthetic data\n",
      "[[1369  525]\n",
      " [  25   40]]\n",
      "The accuracy is: 71.92%\n"
     ]
    }
   ],
   "source": [
    "# Using synthetic CTGAN data\n",
    "from sklearn.tree import DecisionTreeClassifier\n",
    "classifier = DecisionTreeClassifier(criterion ='gini', random_state = 25)\n",
    "classifier.fit(S_X_train, S_y_train)\n",
    "S_y_pred = classifier.predict(T_X_test)\n",
    "from sklearn.metrics import confusion_matrix\n",
    "matrix = confusion_matrix(T_y_test, S_y_pred)\n",
    "accuracy = np.trace(matrix) / float(np.sum(matrix))\n",
    "print(\"Decision Tree: Cofusion Matrix for synthetic data\")\n",
    "print(matrix)\n",
    "print(\"The accuracy is: {:.2%}\".format(accuracy))"
   ]
  },
  {
   "cell_type": "code",
   "execution_count": 92,
   "id": "fbd64db3",
   "metadata": {},
   "outputs": [
    {
     "name": "stdout",
     "output_type": "stream",
     "text": [
      "DT: f1=0.037 auc=0.349\n"
     ]
    },
    {
     "data": {
      "image/png": "[encoded data removed]",
      "text/plain": [
       "<Figure size 432x288 with 1 Axes>"
      ]
     },
     "metadata": {
      "needs_background": "light"
     },
     "output_type": "display_data"
    }
   ],
   "source": [
    "lr_probs = classifier.predict_proba(T_X_test)\n",
    "lr_probs = lr_probs[:, 1]\n",
    "lr_precision, lr_recall, _ = precision_recall_curve(T_y_test, lr_probs)\n",
    "lr_f1, lr_auc = f1_score(T_y_test, y_pred), auc(lr_recall, lr_precision)\n",
    "# summarize scores\n",
    "print('DT: f1=%.3f auc=%.3f' % (lr_f1, lr_auc))\n",
    "# plot the precision-recall curves\n",
    "no_skill = len(T_y_test[T_y_test==1]) / len(T_y_test)\n",
    "pyplot.plot([0, 1], [no_skill, no_skill], linestyle='--', label='No Skill')\n",
    "pyplot.plot(lr_recall, lr_precision, marker='.', label='DTC')\n",
    "# axis labels\n",
    "pyplot.xlabel('Recall')\n",
    "pyplot.ylabel('Precision')\n",
    "# show the legend\n",
    "pyplot.legend()\n",
    "# show the plot\n",
    "pyplot.show()"
   ]
  },
  {
   "cell_type": "code",
   "execution_count": 93,
   "id": "c1a58cfe",
   "metadata": {
    "scrolled": true
   },
   "outputs": [
    {
     "name": "stdout",
     "output_type": "stream",
     "text": [
      "Decision Tree: Cofusion Matrix for SRS data\n",
      "[[1885    9]\n",
      " [   4   61]]\n",
      "The accuracy is: 99.34%\n"
     ]
    }
   ],
   "source": [
    "# Using imbalenced simple random sample data\n",
    "from sklearn.tree import DecisionTreeClassifier\n",
    "classifier = DecisionTreeClassifier(criterion ='gini', random_state = 25)\n",
    "classifier.fit(I_X_train, I_y_train)\n",
    "I_y_pred = classifier.predict(T_X_test)\n",
    "from sklearn.metrics import confusion_matrix\n",
    "matrix = confusion_matrix(T_y_test, I_y_pred)\n",
    "accuracy = np.trace(matrix) / float(np.sum(matrix))\n",
    "print(\"Decision Tree: Cofusion Matrix for SRS data\")\n",
    "print(matrix)\n",
    "print(\"The accuracy is: {:.2%}\".format(accuracy))"
   ]
  },
  {
   "cell_type": "code",
   "execution_count": 94,
   "id": "03416e98",
   "metadata": {},
   "outputs": [
    {
     "name": "stdout",
     "output_type": "stream",
     "text": [
      "DT: f1=0.037 auc=0.906\n"
     ]
    },
    {
     "data": {
      "image/png": "[encoded data removed]",
      "text/plain": [
       "<Figure size 432x288 with 1 Axes>"
      ]
     },
     "metadata": {
      "needs_background": "light"
     },
     "output_type": "display_data"
    }
   ],
   "source": [
    "lr_probs = classifier.predict_proba(T_X_test)\n",
    "lr_probs = lr_probs[:, 1]\n",
    "lr_precision, lr_recall, _ = precision_recall_curve(T_y_test, lr_probs)\n",
    "lr_f1, lr_auc = f1_score(T_y_test, y_pred), auc(lr_recall, lr_precision)\n",
    "# summarize scores\n",
    "print('DT: f1=%.3f auc=%.3f' % (lr_f1, lr_auc))\n",
    "# plot the precision-recall curves\n",
    "no_skill = len(T_y_test[T_y_test==1]) / len(T_y_test)\n",
    "pyplot.plot([0, 1], [no_skill, no_skill], linestyle='--', label='No Skill')\n",
    "pyplot.plot(lr_recall, lr_precision, marker='.', label='DTC')\n",
    "# axis labels\n",
    "pyplot.xlabel('Recall')\n",
    "pyplot.ylabel('Precision')\n",
    "# show the legend\n",
    "pyplot.legend()\n",
    "# show the plot\n",
    "pyplot.show()"
   ]
  },
  {
   "cell_type": "markdown",
   "id": "789e2db2",
   "metadata": {},
   "source": [
    "Test performance with LR"
   ]
  },
  {
   "cell_type": "code",
   "execution_count": 95,
   "id": "baab755a",
   "metadata": {
    "scrolled": false
   },
   "outputs": [
    {
     "name": "stdout",
     "output_type": "stream",
     "text": [
      "Logistic Regression: Cofusion Matrix for raw data\n",
      "[[ 811 1083]\n",
      " [   5   60]]\n",
      "The accuracy is: 44.46%\n"
     ]
    },
    {
     "name": "stderr",
     "output_type": "stream",
     "text": [
      "C:\\Users\\lijun\\anaconda3\\lib\\site-packages\\sklearn\\utils\\validation.py:63: DataConversionWarning: A column-vector y was passed when a 1d array was expected. Please change the shape of y to (n_samples, ), for example using ravel().\n",
      "  return f(*args, **kwargs)\n",
      "C:\\Users\\lijun\\anaconda3\\lib\\site-packages\\sklearn\\linear_model\\_logistic.py:763: ConvergenceWarning: lbfgs failed to converge (status=1):\n",
      "STOP: TOTAL NO. of ITERATIONS REACHED LIMIT.\n",
      "\n",
      "Increase the number of iterations (max_iter) or scale the data as shown in:\n",
      "    https://scikit-learn.org/stable/modules/preprocessing.html\n",
      "Please also refer to the documentation for alternative solver options:\n",
      "    https://scikit-learn.org/stable/modules/linear_model.html#logistic-regression\n",
      "  n_iter_i = _check_optimize_result(\n"
     ]
    }
   ],
   "source": [
    "# Using balenced simple random sample data\n",
    "from sklearn.linear_model import LogisticRegression\n",
    "classifier = LogisticRegression(random_state = 3)\n",
    "classifier.fit(X_train, y_train)\n",
    "y_pred = classifier.predict(T_X_test)\n",
    "from sklearn.metrics import confusion_matrix\n",
    "matrix = confusion_matrix(T_y_test, y_pred)\n",
    "accuracy = np.trace(matrix) / float(np.sum(matrix))\n",
    "print(\"Logistic Regression: Cofusion Matrix for raw data\")\n",
    "print(matrix)\n",
    "print(\"The accuracy is: {:.2%}\".format(accuracy))"
   ]
  },
  {
   "cell_type": "code",
   "execution_count": 96,
   "id": "b4b31f1a",
   "metadata": {},
   "outputs": [
    {
     "name": "stdout",
     "output_type": "stream",
     "text": [
      "DT: f1=0.099 auc=0.100\n"
     ]
    },
    {
     "data": {
      "image/png": "[encoded data removed]",
      "text/plain": [
       "<Figure size 432x288 with 1 Axes>"
      ]
     },
     "metadata": {
      "needs_background": "light"
     },
     "output_type": "display_data"
    }
   ],
   "source": [
    "lr_probs = classifier.predict_proba(T_X_test)\n",
    "lr_probs = lr_probs[:, 1]\n",
    "lr_precision, lr_recall, _ = precision_recall_curve(T_y_test, lr_probs)\n",
    "lr_f1, lr_auc = f1_score(T_y_test, y_pred), auc(lr_recall, lr_precision)\n",
    "# summarize scores\n",
    "print('DT: f1=%.3f auc=%.3f' % (lr_f1, lr_auc))\n",
    "# plot the precision-recall curves\n",
    "no_skill = len(T_y_test[T_y_test==1]) / len(T_y_test)\n",
    "pyplot.plot([0, 1], [no_skill, no_skill], linestyle='--', label='No Skill')\n",
    "pyplot.plot(lr_recall, lr_precision, marker='.', label='Logistic')\n",
    "# axis labels\n",
    "pyplot.xlabel('Recall')\n",
    "pyplot.ylabel('Precision')\n",
    "# show the legend\n",
    "pyplot.legend()\n",
    "# show the plot\n",
    "pyplot.show()"
   ]
  },
  {
   "cell_type": "code",
   "execution_count": 97,
   "id": "f30c3639",
   "metadata": {
    "scrolled": true
   },
   "outputs": [
    {
     "name": "stdout",
     "output_type": "stream",
     "text": [
      "Logistic Regression: Cofusion Matrix for synthetic data\n",
      "[[1527  367]\n",
      " [  23   42]]\n",
      "The accuracy is: 80.09%\n"
     ]
    },
    {
     "name": "stderr",
     "output_type": "stream",
     "text": [
      "C:\\Users\\lijun\\anaconda3\\lib\\site-packages\\sklearn\\utils\\validation.py:63: DataConversionWarning: A column-vector y was passed when a 1d array was expected. Please change the shape of y to (n_samples, ), for example using ravel().\n",
      "  return f(*args, **kwargs)\n",
      "C:\\Users\\lijun\\anaconda3\\lib\\site-packages\\sklearn\\linear_model\\_logistic.py:763: ConvergenceWarning: lbfgs failed to converge (status=1):\n",
      "STOP: TOTAL NO. of ITERATIONS REACHED LIMIT.\n",
      "\n",
      "Increase the number of iterations (max_iter) or scale the data as shown in:\n",
      "    https://scikit-learn.org/stable/modules/preprocessing.html\n",
      "Please also refer to the documentation for alternative solver options:\n",
      "    https://scikit-learn.org/stable/modules/linear_model.html#logistic-regression\n",
      "  n_iter_i = _check_optimize_result(\n"
     ]
    }
   ],
   "source": [
    "# Using synthetic CTGAN data\n",
    "from sklearn.linear_model import LogisticRegression\n",
    "classifier = LogisticRegression(random_state = 3)\n",
    "classifier.fit(S_X_train, S_y_train)\n",
    "S_y_pred = classifier.predict(T_X_test)\n",
    "from sklearn.metrics import confusion_matrix\n",
    "matrix = confusion_matrix(T_y_test, S_y_pred)\n",
    "accuracy = np.trace(matrix) / float(np.sum(matrix))\n",
    "print(\"Logistic Regression: Cofusion Matrix for synthetic data\")\n",
    "print(matrix)\n",
    "print(\"The accuracy is: {:.2%}\".format(accuracy))"
   ]
  },
  {
   "cell_type": "code",
   "execution_count": 98,
   "id": "c9828897",
   "metadata": {},
   "outputs": [
    {
     "name": "stdout",
     "output_type": "stream",
     "text": [
      "DT: f1=0.099 auc=0.104\n"
     ]
    },
    {
     "data": {
      "image/png": "[encoded data removed]",
      "text/plain": [
       "<Figure size 432x288 with 1 Axes>"
      ]
     },
     "metadata": {
      "needs_background": "light"
     },
     "output_type": "display_data"
    }
   ],
   "source": [
    "lr_probs = classifier.predict_proba(T_X_test)\n",
    "lr_probs = lr_probs[:, 1]\n",
    "lr_precision, lr_recall, _ = precision_recall_curve(T_y_test, lr_probs)\n",
    "lr_f1, lr_auc = f1_score(T_y_test, y_pred), auc(lr_recall, lr_precision)\n",
    "# summarize scores\n",
    "print('DT: f1=%.3f auc=%.3f' % (lr_f1, lr_auc))\n",
    "# plot the precision-recall curves\n",
    "no_skill = len(T_y_test[T_y_test==1]) / len(T_y_test)\n",
    "pyplot.plot([0, 1], [no_skill, no_skill], linestyle='--', label='No Skill')\n",
    "pyplot.plot(lr_recall, lr_precision, marker='.', label='Logistic')\n",
    "# axis labels\n",
    "pyplot.xlabel('Recall')\n",
    "pyplot.ylabel('Precision')\n",
    "# show the legend\n",
    "pyplot.legend()\n",
    "# show the plot\n",
    "pyplot.show()"
   ]
  },
  {
   "cell_type": "code",
   "execution_count": 99,
   "id": "77339500",
   "metadata": {
    "scrolled": false
   },
   "outputs": [
    {
     "name": "stdout",
     "output_type": "stream",
     "text": [
      "Logistic Regression: Cofusion Matrix for SRS data\n",
      "[[1894    0]\n",
      " [  65    0]]\n",
      "The accuracy is: 96.68%\n"
     ]
    },
    {
     "name": "stderr",
     "output_type": "stream",
     "text": [
      "C:\\Users\\lijun\\anaconda3\\lib\\site-packages\\sklearn\\utils\\validation.py:63: DataConversionWarning: A column-vector y was passed when a 1d array was expected. Please change the shape of y to (n_samples, ), for example using ravel().\n",
      "  return f(*args, **kwargs)\n",
      "C:\\Users\\lijun\\anaconda3\\lib\\site-packages\\sklearn\\linear_model\\_logistic.py:763: ConvergenceWarning: lbfgs failed to converge (status=1):\n",
      "STOP: TOTAL NO. of ITERATIONS REACHED LIMIT.\n",
      "\n",
      "Increase the number of iterations (max_iter) or scale the data as shown in:\n",
      "    https://scikit-learn.org/stable/modules/preprocessing.html\n",
      "Please also refer to the documentation for alternative solver options:\n",
      "    https://scikit-learn.org/stable/modules/linear_model.html#logistic-regression\n",
      "  n_iter_i = _check_optimize_result(\n"
     ]
    }
   ],
   "source": [
    "# Using imbalenced simple random sample data\n",
    "from sklearn.linear_model import LogisticRegression\n",
    "classifier = LogisticRegression(random_state = 3)\n",
    "classifier.fit(I_X_train, I_y_train)\n",
    "I_y_pred = classifier.predict(T_X_test)\n",
    "from sklearn.metrics import confusion_matrix\n",
    "matrix = confusion_matrix(T_y_test, I_y_pred)\n",
    "accuracy = np.trace(matrix) / float(np.sum(matrix))\n",
    "print(\"Logistic Regression: Cofusion Matrix for SRS data\")\n",
    "print(matrix)\n",
    "print(\"The accuracy is: {:.2%}\".format(accuracy))"
   ]
  },
  {
   "cell_type": "code",
   "execution_count": 100,
   "id": "ff11d73f",
   "metadata": {},
   "outputs": [
    {
     "name": "stdout",
     "output_type": "stream",
     "text": [
      "DT: f1=0.099 auc=0.091\n"
     ]
    },
    {
     "data": {
      "image/png": "[encoded data removed]",
      "text/plain": [
       "<Figure size 432x288 with 1 Axes>"
      ]
     },
     "metadata": {
      "needs_background": "light"
     },
     "output_type": "display_data"
    }
   ],
   "source": [
    "lr_probs = classifier.predict_proba(T_X_test)\n",
    "lr_probs = lr_probs[:, 1]\n",
    "lr_precision, lr_recall, _ = precision_recall_curve(T_y_test, lr_probs)\n",
    "lr_f1, lr_auc = f1_score(T_y_test, y_pred), auc(lr_recall, lr_precision)\n",
    "# summarize scores\n",
    "print('DT: f1=%.3f auc=%.3f' % (lr_f1, lr_auc))\n",
    "# plot the precision-recall curves\n",
    "no_skill = len(T_y_test[T_y_test==1]) / len(T_y_test)\n",
    "pyplot.plot([0, 1], [no_skill, no_skill], linestyle='--', label='No Skill')\n",
    "pyplot.plot(lr_recall, lr_precision, marker='.', label='Logistic')\n",
    "# axis labels\n",
    "pyplot.xlabel('Recall')\n",
    "pyplot.ylabel('Precision')\n",
    "# show the legend\n",
    "pyplot.legend()\n",
    "# show the plot\n",
    "pyplot.show()"
   ]
  },
  {
   "cell_type": "markdown",
   "id": "802f1ee6",
   "metadata": {},
   "source": [
    "Test performance with NB"
   ]
  },
  {
   "cell_type": "code",
   "execution_count": 101,
   "id": "3fb88623",
   "metadata": {
    "scrolled": true
   },
   "outputs": [
    {
     "name": "stdout",
     "output_type": "stream",
     "text": [
      "Naive Bayes: Cofusion Matrix for raw data\n",
      "[[1481  413]\n",
      " [  18   47]]\n",
      "The accuracy is: 78.00%\n"
     ]
    },
    {
     "name": "stderr",
     "output_type": "stream",
     "text": [
      "C:\\Users\\lijun\\anaconda3\\lib\\site-packages\\sklearn\\utils\\validation.py:63: DataConversionWarning: A column-vector y was passed when a 1d array was expected. Please change the shape of y to (n_samples, ), for example using ravel().\n",
      "  return f(*args, **kwargs)\n"
     ]
    }
   ],
   "source": [
    "# Using balenced simple random sample data\n",
    "from sklearn.naive_bayes import GaussianNB\n",
    "classifier = GaussianNB()\n",
    "classifier.fit(X_train, y_train)\n",
    "y_pred = classifier.predict(T_X_test)\n",
    "from sklearn.metrics import confusion_matrix\n",
    "matrix = confusion_matrix(T_y_test, y_pred)\n",
    "accuracy = np.trace(matrix) / float(np.sum(matrix))\n",
    "print(\"Naive Bayes: Cofusion Matrix for raw data\")\n",
    "print(matrix)\n",
    "print(\"The accuracy is: {:.2%}\".format(accuracy))"
   ]
  },
  {
   "cell_type": "code",
   "execution_count": 102,
   "id": "1aecdcc1",
   "metadata": {},
   "outputs": [
    {
     "name": "stdout",
     "output_type": "stream",
     "text": [
      "DT: f1=0.179 auc=0.092\n"
     ]
    },
    {
     "data": {
      "image/png": "[encoded data removed]",
      "text/plain": [
       "<Figure size 432x288 with 1 Axes>"
      ]
     },
     "metadata": {
      "needs_background": "light"
     },
     "output_type": "display_data"
    }
   ],
   "source": [
    "lr_probs = classifier.predict_proba(T_X_test)\n",
    "lr_probs = lr_probs[:, 1]\n",
    "lr_precision, lr_recall, _ = precision_recall_curve(T_y_test, lr_probs)\n",
    "lr_f1, lr_auc = f1_score(T_y_test, y_pred), auc(lr_recall, lr_precision)\n",
    "# summarize scores\n",
    "print('DT: f1=%.3f auc=%.3f' % (lr_f1, lr_auc))\n",
    "# plot the precision-recall curves\n",
    "no_skill = len(T_y_test[T_y_test==1]) / len(T_y_test)\n",
    "pyplot.plot([0, 1], [no_skill, no_skill], linestyle='--', label='No Skill')\n",
    "pyplot.plot(lr_recall, lr_precision, marker='.', label='NB')\n",
    "# axis labels\n",
    "pyplot.xlabel('Recall')\n",
    "pyplot.ylabel('Precision')\n",
    "# show the legend\n",
    "pyplot.legend()\n",
    "# show the plot\n",
    "pyplot.show()"
   ]
  },
  {
   "cell_type": "code",
   "execution_count": 103,
   "id": "addef156",
   "metadata": {},
   "outputs": [
    {
     "name": "stdout",
     "output_type": "stream",
     "text": [
      "Naive Bayes: Cofusion Matrix for synthetic data\n",
      "[[ 357 1537]\n",
      " [   6   59]]\n",
      "The accuracy is: 21.24%\n"
     ]
    },
    {
     "name": "stderr",
     "output_type": "stream",
     "text": [
      "C:\\Users\\lijun\\anaconda3\\lib\\site-packages\\sklearn\\utils\\validation.py:63: DataConversionWarning: A column-vector y was passed when a 1d array was expected. Please change the shape of y to (n_samples, ), for example using ravel().\n",
      "  return f(*args, **kwargs)\n"
     ]
    }
   ],
   "source": [
    "# Using synthetic CTGAN data\n",
    "from sklearn.naive_bayes import GaussianNB\n",
    "classifier = GaussianNB()\n",
    "classifier.fit(S_X_train, S_y_train)\n",
    "S_y_pred = classifier.predict(T_X_test)\n",
    "from sklearn.metrics import confusion_matrix\n",
    "matrix = confusion_matrix(T_y_test, S_y_pred)\n",
    "accuracy = np.trace(matrix) / float(np.sum(matrix))\n",
    "print(\"Naive Bayes: Cofusion Matrix for synthetic data\")\n",
    "print(matrix)\n",
    "print(\"The accuracy is: {:.2%}\".format(accuracy))"
   ]
  },
  {
   "cell_type": "code",
   "execution_count": 104,
   "id": "911e4c2c",
   "metadata": {},
   "outputs": [
    {
     "name": "stdout",
     "output_type": "stream",
     "text": [
      "DT: f1=0.179 auc=0.115\n"
     ]
    },
    {
     "data": {
      "image/png": "[encoded data removed]",
      "text/plain": [
       "<Figure size 432x288 with 1 Axes>"
      ]
     },
     "metadata": {
      "needs_background": "light"
     },
     "output_type": "display_data"
    }
   ],
   "source": [
    "lr_probs = classifier.predict_proba(T_X_test)\n",
    "lr_probs = lr_probs[:, 1]\n",
    "lr_precision, lr_recall, _ = precision_recall_curve(T_y_test, lr_probs)\n",
    "lr_f1, lr_auc = f1_score(T_y_test, y_pred), auc(lr_recall, lr_precision)\n",
    "# summarize scores\n",
    "print('DT: f1=%.3f auc=%.3f' % (lr_f1, lr_auc))\n",
    "# plot the precision-recall curves\n",
    "no_skill = len(T_y_test[T_y_test==1]) / len(T_y_test)\n",
    "pyplot.plot([0, 1], [no_skill, no_skill], linestyle='--', label='No Skill')\n",
    "pyplot.plot(lr_recall, lr_precision, marker='.', label='NB')\n",
    "# axis labels\n",
    "pyplot.xlabel('Recall')\n",
    "pyplot.ylabel('Precision')\n",
    "# show the legend\n",
    "pyplot.legend()\n",
    "# show the plot\n",
    "pyplot.show()"
   ]
  },
  {
   "cell_type": "code",
   "execution_count": 105,
   "id": "85ef3d52",
   "metadata": {},
   "outputs": [
    {
     "name": "stdout",
     "output_type": "stream",
     "text": [
      "Naive Bayes: Cofusion Matrix for SRS data\n",
      "[[1825   69]\n",
      " [  57    8]]\n",
      "The accuracy is: 93.57%\n"
     ]
    },
    {
     "name": "stderr",
     "output_type": "stream",
     "text": [
      "C:\\Users\\lijun\\anaconda3\\lib\\site-packages\\sklearn\\utils\\validation.py:63: DataConversionWarning: A column-vector y was passed when a 1d array was expected. Please change the shape of y to (n_samples, ), for example using ravel().\n",
      "  return f(*args, **kwargs)\n"
     ]
    }
   ],
   "source": [
    "# Using imbalenced simple random sample data\n",
    "from sklearn.naive_bayes import GaussianNB\n",
    "classifier = GaussianNB()\n",
    "classifier.fit(I_X_train, I_y_train)\n",
    "I_y_pred = classifier.predict(T_X_test)\n",
    "from sklearn.metrics import confusion_matrix\n",
    "matrix = confusion_matrix(T_y_test, I_y_pred)\n",
    "accuracy = np.trace(matrix) / float(np.sum(matrix))\n",
    "print(\"Naive Bayes: Cofusion Matrix for SRS data\")\n",
    "print(matrix)\n",
    "print(\"The accuracy is: {:.2%}\".format(accuracy))"
   ]
  },
  {
   "cell_type": "code",
   "execution_count": 106,
   "id": "0c5e33b3",
   "metadata": {},
   "outputs": [
    {
     "name": "stdout",
     "output_type": "stream",
     "text": [
      "DT: f1=0.179 auc=0.101\n"
     ]
    },
    {
     "data": {
      "image/png": "[encoded data removed]",
      "text/plain": [
       "<Figure size 432x288 with 1 Axes>"
      ]
     },
     "metadata": {
      "needs_background": "light"
     },
     "output_type": "display_data"
    }
   ],
   "source": [
    "lr_probs = classifier.predict_proba(T_X_test)\n",
    "lr_probs = lr_probs[:, 1]\n",
    "lr_precision, lr_recall, _ = precision_recall_curve(T_y_test, lr_probs)\n",
    "lr_f1, lr_auc = f1_score(T_y_test, y_pred), auc(lr_recall, lr_precision)\n",
    "# summarize scores\n",
    "print('DT: f1=%.3f auc=%.3f' % (lr_f1, lr_auc))\n",
    "# plot the precision-recall curves\n",
    "no_skill = len(T_y_test[T_y_test==1]) / len(T_y_test)\n",
    "pyplot.plot([0, 1], [no_skill, no_skill], linestyle='--', label='No Skill')\n",
    "pyplot.plot(lr_recall, lr_precision, marker='.', label='NB')\n",
    "# axis labels\n",
    "pyplot.xlabel('Recall')\n",
    "pyplot.ylabel('Precision')\n",
    "# show the legend\n",
    "pyplot.legend()\n",
    "# show the plot\n",
    "pyplot.show()"
   ]
  }
 ],
 "metadata": {
  "kernelspec": {
   "display_name": "Python 3",
   "language": "python",
   "name": "python3"
  },
  "language_info": {
   "codemirror_mode": {
    "name": "ipython",
    "version": 3
   },
   "file_extension": ".py",
   "mimetype": "text/x-python",
   "name": "python",
   "nbconvert_exporter": "python",
   "pygments_lexer": "ipython3",
   "version": "3.8.8"
  }
 },
 "nbformat": 4,
 "nbformat_minor": 5
}
